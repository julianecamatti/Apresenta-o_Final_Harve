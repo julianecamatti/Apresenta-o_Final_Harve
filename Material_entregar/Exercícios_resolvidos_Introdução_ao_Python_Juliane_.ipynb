{
  "nbformat": 4,
  "nbformat_minor": 0,
  "metadata": {
    "colab": {
      "name": "Exercícios_resolvidos - Introdução ao Python_Juliane .ipynb",
      "provenance": [],
      "collapsed_sections": [],
      "include_colab_link": true
    },
    "kernelspec": {
      "name": "python3",
      "display_name": "Python 3"
    }
  },
  "cells": [
    {
      "cell_type": "markdown",
      "metadata": {
        "id": "view-in-github",
        "colab_type": "text"
      },
      "source": [
        "<a href=\"https://colab.research.google.com/github/julianecamatti/Apresenta-o_Final_Harve/blob/main/Material_entregar/Exerc%C3%ADcios_resolvidos_Introdu%C3%A7%C3%A3o_ao_Python_Juliane_.ipynb\" target=\"_parent\"><img src=\"https://colab.research.google.com/assets/colab-badge.svg\" alt=\"Open In Colab\"/></a>"
      ]
    },
    {
      "cell_type": "markdown",
      "metadata": {
        "id": "iEjVJ4DCJ34W"
      },
      "source": [
        "#Lista de Exercícios de Introdução a Python"
      ]
    },
    {
      "cell_type": "markdown",
      "metadata": {
        "id": "5Ko0d3vALvok"
      },
      "source": [
        "1 - (Nível: Fácil) Faça uma função que converta metros para centímetros.\n"
      ]
    },
    {
      "cell_type": "code",
      "metadata": {
        "id": "S9DbZgz1Mg8Q",
        "colab": {
          "base_uri": "https://localhost:8080/"
        },
        "outputId": "61306d0e-e2c9-44d6-e466-8d8a0920857c"
      },
      "source": [
        "medida = float(input(\"Qual a sua medida em metros: \"))\n",
        "cm= medida * 100\n",
        "print (\" {} corresponde a {} cm\". format(medida, cm))"
      ],
      "execution_count": null,
      "outputs": [
        {
          "output_type": "stream",
          "text": [
            "Qual a sua medida em metros: 3.5\n",
            " 3.5 corresponde a 350.0 cm\n"
          ],
          "name": "stdout"
        }
      ]
    },
    {
      "cell_type": "markdown",
      "metadata": {
        "id": "PTyZi9ekLhK9"
      },
      "source": [
        "2 - (Nível: Fácil) Faça uma função que peça a temperatura em graus Farenheit, transforme e mostre a temperatura em graus Celsius.\n",
        "\n",
        "Lembrete: A fórmula de transformação é C = (5 * (F-32) / 9)."
      ]
    },
    {
      "cell_type": "code",
      "metadata": {
        "id": "j7xz4X2WMq9q",
        "colab": {
          "base_uri": "https://localhost:8080/"
        },
        "outputId": "26dc7aa4-a026-4806-bb7a-c674e9b085ab"
      },
      "source": [
        "temperatura = float(input( \"Qual a temperatura em graus Farenheit: \"))\n",
        "celsius = (5*(temperatura-32)/9)\n",
        "print (\"A temperatura de {} Farenheit, corresponde a {} graus Celsius\". format(temperatura, celsius))"
      ],
      "execution_count": null,
      "outputs": [
        {
          "output_type": "stream",
          "text": [
            "Qual a temperatura em graus Farenjeit: 77\n",
            "A temperatura de 77.0 Farenheit, corresponde a 25.0 graus Celsius\n"
          ],
          "name": "stdout"
        }
      ]
    },
    {
      "cell_type": "markdown",
      "metadata": {
        "id": "O9feMnd8LhN3"
      },
      "source": [
        "3 - (Nível: Fácil) Faça um programa que leia 5 números informados pelo usuário e informe a soma e a média desses números.\n"
      ]
    },
    {
      "cell_type": "code",
      "metadata": {
        "colab": {
          "base_uri": "https://localhost:8080/"
        },
        "id": "uVoOesK4tG3l",
        "outputId": "2b5d95d7-8f93-4b1c-8874-cae16157168e"
      },
      "source": [
        "a = float(input(\"Digite o primeiro numero: \"))\n",
        "b = float(input(\"Digite o segundo numero: \"))\n",
        "c = float(input(\"Digite o terceiro numero: \"))\n",
        "d = float(input(\"Digite o quarto numero: \"))\n",
        "e = float(input(\"Digite o quinto numero: \"))\n",
        "soma = (a + b + c + d + e)\n",
        "media = (soma/5)\n",
        "print (\" A soma corresponde a {}, e a média corresponde a {}\". format(soma, media))"
      ],
      "execution_count": null,
      "outputs": [
        {
          "output_type": "stream",
          "text": [
            "Digite o primeiro numero: 2\n",
            "Digite o segundo numero: 2\n",
            "Digite o terceiro numero: 2\n",
            "Digite o quarto numero: 2\n",
            "Digite o quinto numero: 2\n",
            " A soma corresponde a 10.0, e a média corresponde a 2.0\n"
          ],
          "name": "stdout"
        }
      ]
    },
    {
      "cell_type": "markdown",
      "metadata": {
        "id": "d1IfvkFWLhRA"
      },
      "source": [
        "4 - (Nível: Fácil) Faça um programa que peça 10 números inteiros para o usuário. \n",
        "\n",
        "No final deve apresentar a quantidade de números pares e a quantidade de números impares.\n"
      ]
    },
    {
      "cell_type": "code",
      "metadata": {
        "id": "UprfWfsFMvhH",
        "colab": {
          "base_uri": "https://localhost:8080/"
        },
        "outputId": "f113d731-2903-4fc1-a8a9-cabceb9697fd"
      },
      "source": [
        "n = int (input(\"Quantos numeros: \"))\n",
        "i = 0\n",
        "par = 0\n",
        "impar = 0 \n",
        "\n",
        "while i < n: \n",
        "    numero = int(input(\"Coloque o numero aqui: \"))\n",
        "    if numero % 2 == 0:\n",
        "            par = par + 1 \n",
        "    else:\n",
        "            impar = impar + 1 \n",
        "    i = i + 1\n",
        "\n",
        "print(\"Tem {} numeros pares, tem {} numeros impares\". format(par, impar))\n"
      ],
      "execution_count": null,
      "outputs": [
        {
          "output_type": "stream",
          "text": [
            "Quantos numeros: 10\n",
            "Coloque o numero aqui: 2\n",
            "Coloque o numero aqui: 4\n",
            "Coloque o numero aqui: 6\n",
            "Coloque o numero aqui: 8\n",
            "Coloque o numero aqui: 10\n",
            "Coloque o numero aqui: 11\n",
            "Coloque o numero aqui: 13\n",
            "Coloque o numero aqui: 15\n",
            "Coloque o numero aqui: 17\n",
            "Coloque o numero aqui: 21\n",
            "Tem 5 numeros pares, tem 5 numeros impares\n"
          ],
          "name": "stdout"
        }
      ]
    },
    {
      "cell_type": "markdown",
      "metadata": {
        "id": "-Jcf9bjBLhUX"
      },
      "source": [
        "5 – (Nível: Intermediário) Escreva uma aplicação pensando em uma loja de tintas. O programa deve pedir ao consumidor o tamanho em m2 da área a ser pintada e apresentar na resposta final a quantidade de latas a serem adquiridas e o valor total. \n",
        "\n",
        "Considere que uma lata a tinta é vendida em latas de 3.6 litros e tem um curto de R$82,00, além disso cada 1 litro dessa tinta cobre uma área de 3 m2. \n",
        "\n",
        "Qual é o valor total e a quantidade de latas necessárias para uma área de 125 m2?\n",
        "Resposta: 12 latas – R$ 984,00"
      ]
    },
    {
      "cell_type": "code",
      "metadata": {
        "id": "NKuqopIKMy5M",
        "colab": {
          "base_uri": "https://localhost:8080/"
        },
        "outputId": "97c51570-dbf1-4bb3-871f-b604caf7cb55"
      },
      "source": [
        "x = float(input(\"Qual o tamanho em m² da área a ser pintada? \"))\n",
        "lata_litros = 3.6\n",
        "lata_custo = 82\n",
        "lata_m2 = 10.8\n",
        "\n",
        "latas = int((x/lata_m2)+1)  #duvida: neste caso está correto somar mais 1?\n",
        "custo = (latas * lata_custo)\n",
        "\n",
        "print (\"\\nSerá necessário a aquisição de {} latas, a um custo total de ${} reais\". format(latas, custo))"
      ],
      "execution_count": null,
      "outputs": [
        {
          "output_type": "stream",
          "text": [
            "Qual o tamanho em m² da área a ser pintada? 200\n",
            "\n",
            "Será necessário a aquisição de 19 latas, a um custo total de $1558 reais\n"
          ],
          "name": "stdout"
        }
      ]
    },
    {
      "cell_type": "markdown",
      "metadata": {
        "id": "k4Zp74kDLhc2"
      },
      "source": [
        "6 – (Nível: Intermediário) Crie uma função que gere e retorne uma lista de valores aleatórios. \n",
        "\n",
        "Nessa função o usuário pode entrar com o tamanho da lista, além do valor máximo e o valor mínimo que pode ser gerado aleatoriamente.  \n",
        "\n",
        "Dica: lembre-se de utilizar (from random import randint)"
      ]
    },
    {
      "cell_type": "code",
      "metadata": {
        "id": "BkVFZJbTM1Fb",
        "colab": {
          "base_uri": "https://localhost:8080/"
        },
        "outputId": "f150e943-352a-49fb-81bb-49eb6690612a"
      },
      "source": [
        "from random import randint\n",
        "\n",
        "def aleatorio(minimo, maximo):\n",
        "  lista_numeros = []\n",
        "  while len(lista_numeros) < tamanho:\n",
        "      n = randint (minimo, maximo)\n",
        "      if n not in lista_numeros:\n",
        "          lista_numeros.append(n)\n",
        "          lista_numeros.sort()\n",
        "  print(lista_numeros)\n",
        "  \n",
        "minimo = int(input(\"Digite o valor minimo: \"))\n",
        "maximo = int(input(\"Digite o valor máximo: \"))\n",
        "tamanho = int(input(\"Digite o tamanho desejado da lista: \"))\n",
        "aleatorio(minimo, maximo)"
      ],
      "execution_count": null,
      "outputs": [
        {
          "output_type": "stream",
          "text": [
            "Digite o valor minimo: 2\n",
            "Digite o valor máximo: 50\n",
            "Digite o tamanho desejado da lista: 10\n",
            "[2, 4, 5, 6, 13, 17, 18, 26, 34, 42]\n"
          ],
          "name": "stdout"
        }
      ]
    },
    {
      "cell_type": "code",
      "metadata": {
        "id": "J0nyHoMOeoO4"
      },
      "source": [
        ""
      ],
      "execution_count": null,
      "outputs": []
    },
    {
      "cell_type": "markdown",
      "metadata": {
        "id": "EW5k89RPJ8KB"
      },
      "source": [
        "7 – (Nível: Intermediário) Crie uma função que realize o cálculo e apresente pro usuário o valor do salário bruto, o valor do salário líquido, o valor pago no Imposto de Renda (11%), o valor pago para o INSS (5%) e o ganho com horas extra (20% do valor normal). \n",
        "\n",
        "Considere que o usuário passe a quantidade de horas trabalhadas e o valor da hora. \n",
        "\n",
        "O que foi apresentado para o usuário se ele trabalhou 45 horas e o valor da sua hora é de R$ 38,00?\n",
        "\n",
        "Lembrete: Salário Líquido = Salário Bruto – Descontos + Horas Extra, além disso INSS e IR não é calculado sobre horas extras.\n",
        "\n",
        "\n",
        "\n",
        "Resposta:\n",
        "Salário Bruto:  1520.0; IR:  167.2; INSS:  76.0; Valor com horas extra:  228.0; Salário Líquido:  1504.8;"
      ]
    },
    {
      "cell_type": "code",
      "metadata": {
        "id": "oYWw4FPWM3Et",
        "colab": {
          "base_uri": "https://localhost:8080/"
        },
        "outputId": "7d04dd98-b6b3-4dea-e890-f559c4bbc7b6"
      },
      "source": [
        "def main():\n",
        "  horas = int(input(\"Quantidade de horas trabalhadas: \"))\n",
        "  valor_hora = int(input(\"Valor da hora de trabalho: \"))\n",
        "  salario_bruto = (40 * valor_hora)\n",
        "  valor_imposto_renda = (salario_bruto * 0.11)\n",
        "  valor_inss = (salario_bruto * 0.05)\n",
        "  descontos = (valor_imposto_renda + valor_inss)\n",
        "  valor_hora_extra = ((valor_hora * 0.20) + valor_hora)\n",
        "  hora_extra = ((horas - 40) * valor_hora_extra)\n",
        "  salario_liquido = ((salario_bruto - descontos) + hora_extra)\n",
        "  print(\"\\nO salario bruto é de ${} reais, o salário líquido ${} reais, e horas extras corresponde a ${} reais\". format(salario_bruto, salario_liquido, hora_extra))\n",
        "  print(\"\\nValor pago ao imposto de renda ${} reais, valor pago ao INSS ${} reais\". format(valor_imposto_renda, valor_inss))\n",
        "  \n",
        "main()\n"
      ],
      "execution_count": null,
      "outputs": [
        {
          "output_type": "stream",
          "text": [
            "Quantidade de horas trabalhadas: 45\n",
            "Valor da hora de trabalho: 38\n",
            "\n",
            "O salario bruto é de $1520 reais, o salário líquido $1504.8 reais, e horas extras corresponde a $228.0 reais\n",
            "\n",
            "Valor pago ao imposto de renda $167.2 reais, valor pago ao INSS $76.0 reais\n"
          ],
          "name": "stdout"
        }
      ]
    },
    {
      "cell_type": "markdown",
      "metadata": {
        "id": "G7Cwlp6GJ8M-"
      },
      "source": [
        "8 – (Nível: Intermediário) Crie um programa que calcule o fatorial de um número passado pelo o usuário. \n",
        "\n",
        "Lembrete: 5! = 5.4.3.2.1 = 120"
      ]
    },
    {
      "cell_type": "code",
      "metadata": {
        "id": "g3flvkPZM59G",
        "colab": {
          "base_uri": "https://localhost:8080/"
        },
        "outputId": "2f810696-76b7-4250-8cf9-7e9f66375339"
      },
      "source": [
        "def main():\n",
        "    x = int(input(\"Para calcaular o fatorial, digite um numero inteiro: \"))\n",
        "    fat = 1\n",
        "    i = 1\n",
        "    while i <= x:\n",
        "        fat = (fat*i)\n",
        "        i = i + 1\n",
        "\n",
        "    print(\"\\nO numero inteiro {} tem fatorial correspondente a {}.\".format(x,fat))\n",
        "main()"
      ],
      "execution_count": null,
      "outputs": [
        {
          "output_type": "stream",
          "text": [
            "Para calcaular o fatorial, digite um numero inteiro: 5\n",
            "\n",
            "O numero inteiro 5 tem fatorial correspondente a 120.\n"
          ],
          "name": "stdout"
        }
      ]
    },
    {
      "cell_type": "markdown",
      "metadata": {
        "id": "BC83-a2GJ8QU"
      },
      "source": [
        "9 – (Nível: Difícil) Crie um programa que irá verificar a nota de um aluno em uma prova com 10 questões, o programa deve perguntar ao aluno a resposta de cada questão e ao final comparar com o gabarito da prova. \n",
        "\n",
        "No final o programa deve apresentar cada resposta (Correta e Incorreta) e como cada resposta correta acrescenta +1 ponto na nota, deve apresentar a nota final. \n",
        "\n",
        "Gabarito: (1 – A, 2 – B, 3 – C, 4 – C, 5 – A, 6 – B, 7 – A, 8 – A, 9 – C, 10 – B) \n",
        "\n",
        "Lembrete: O aluno pode entrar com respostas (A,B,C) e (a,b,c) e seu programa precisa considerar isso previamente"
      ]
    },
    {
      "cell_type": "code",
      "metadata": {
        "id": "iPZFwyAtM9If",
        "colab": {
          "base_uri": "https://localhost:8080/"
        },
        "outputId": "a802d34a-7c0f-48b6-dbdf-ee5fdb218b5a"
      },
      "source": [
        "gabarito = [\"A\",\"B\",\"C\",\"C\",\"A\",\"B\",\"A\",\"A\",\"C\",\"B\",]\n",
        "respostas_aluno = [ ]\n",
        "notas_tiradas = [ ]\n",
        "\n",
        "n_aluno = 1\n",
        "continuar = True\n",
        "while continuar != \"n\":\n",
        "    print(\"Aluno nº\", n_aluno, \":\")\n",
        "    respostas_aluno.clear()\n",
        "\n",
        "    for i in range(10):\n",
        "      print (\"Questão: \", i + 1)\n",
        "      resposta_aluno = respostas_aluno.append(input(\"Escolha a alternativa: \").upper())\n",
        "    nota = 0\n",
        "\n",
        "    for i in range(10):\n",
        "      if respostas_aluno[i] == gabarito[i]:\n",
        "          nota += 1 \n",
        "    notas_tiradas.append(nota)\n",
        "    continuar = input (\"Outro aluno vai utilizar o sistema? [s/n] : \")\n",
        "    n_aluno += 1\n",
        "\n",
        "    for i in range(10):\n",
        "        if respostas_aluno[i] == gabarito[i]:\n",
        "          print('\\n Correção:' )\n",
        "          print(\"Questão: \", i + 1)\n",
        "          print(respostas_aluno[i] + \" - Está correta\")\n",
        "        else:\n",
        "          print('\\n Correção:')\n",
        "          print(\"Questão: \", i + 1)\n",
        "          print(respostas_aluno[i] + \" - Está incorreta\")\n",
        "print(\"\\n Alunos que utilizaram o sistema {}\". format(len(notas_tiradas)))\n",
        "print(\"\\n A nota tirada foi: {}\". format(notas_tiradas))\n",
        "\n"
      ],
      "execution_count": null,
      "outputs": [
        {
          "output_type": "stream",
          "text": [
            "Aluno nº 1 :\n",
            "Questão:  1\n",
            "Escolha a alternativa: A\n",
            "Questão:  2\n",
            "Escolha a alternativa: A\n",
            "Questão:  3\n",
            "Escolha a alternativa: A\n",
            "Questão:  4\n",
            "Escolha a alternativa: a\n",
            "Questão:  5\n",
            "Escolha a alternativa: A\n",
            "Questão:  6\n",
            "Escolha a alternativa: A\n",
            "Questão:  7\n",
            "Escolha a alternativa: A\n",
            "Questão:  8\n",
            "Escolha a alternativa: A\n",
            "Questão:  9\n",
            "Escolha a alternativa: \n",
            "Questão:  10\n",
            "Escolha a alternativa: A\n",
            "Outro aluno vai utilizar o sistema? [s/n] : n\n",
            "\n",
            " Correção:\n",
            "Questão:  1\n",
            "A - Está correta\n",
            "\n",
            " Correção:\n",
            "Questão:  2\n",
            "A - Está incorreta\n",
            "\n",
            " Correção:\n",
            "Questão:  3\n",
            "A - Está incorreta\n",
            "\n",
            " Correção:\n",
            "Questão:  4\n",
            "A - Está incorreta\n",
            "\n",
            " Correção:\n",
            "Questão:  5\n",
            "A - Está correta\n",
            "\n",
            " Correção:\n",
            "Questão:  6\n",
            "A - Está incorreta\n",
            "\n",
            " Correção:\n",
            "Questão:  7\n",
            "A - Está correta\n",
            "\n",
            " Correção:\n",
            "Questão:  8\n",
            "A - Está correta\n",
            "\n",
            " Correção:\n",
            "Questão:  9\n",
            " - Está incorreta\n",
            "\n",
            " Correção:\n",
            "Questão:  10\n",
            "A - Está incorreta\n",
            "\n",
            " Alunos que utilizaram o sistema 1\n",
            "\n",
            " A nota tirada foi: [4]\n"
          ],
          "name": "stdout"
        }
      ]
    },
    {
      "cell_type": "markdown",
      "metadata": {
        "id": "SymCfEi3J8Zc"
      },
      "source": [
        "10 – (Nível: Difícil) Uma lanchonete tem o seguinte cardápio:\n"
      ]
    },
    {
      "cell_type": "markdown",
      "metadata": {
        "id": "loPIsWudL_ll"
      },
      "source": [
        "|     Especificação      |     Código    |     Valor (R$)    |\n",
        "|------------------------|---------------|-------------------|\n",
        "|     Cachorro Quente    |     100       |     3.75          |\n",
        "|     Bauru Simples      |     101       |     2.00          |\n",
        "|     Pastel             |     102       |     1.50          |\n",
        "|     Hamburguer         |     103       |     3.00          |\n",
        "|     Refrigerante       |     104       |     2.25          |"
      ]
    },
    {
      "cell_type": "markdown",
      "metadata": {
        "id": "mKp6mjGrJ8cn"
      },
      "source": [
        "Crie um programa que leia o código dos itens pedidos e as quantidades desejadas. No final gere um “Recibo” com o nome do produto pedido, a quantidade pedida, o valor a ser pago por item (preço * quantidade) e no final do recibo o valor total geral do pedido (soma de todos os itens). \n",
        "\n",
        "Considere que o cliente deve informar quando o pedido deve ser encerrado.\n",
        "\n",
        "Lembrete: Em uma lista ou em uma coluna de um dicionário podemos utilizar o método index(valor) para encontrar o índice do valor.  "
      ]
    },
    {
      "cell_type": "code",
      "metadata": {
        "id": "V5pn_OwDJxKO",
        "colab": {
          "base_uri": "https://localhost:8080/",
          "height": 850
        },
        "outputId": "8f881ebd-46b0-4c8b-f21e-71d61ba6e45b"
      },
      "source": [
        "comidas = [\"Cachorro quente\",\"Bauru simples\", \"Pastel\", \"Hamburguer\", \"Refrigerante\"]\n",
        "codigos = [ 100, 101, 102, 103, 104]  #chave\n",
        "precos = [3.75,2.00,1.50,3.00,2.25]  # valor\n",
        "\n",
        "codigo = True\n",
        "n_pedido = 1\n",
        "pedido = []\n",
        "\n",
        "while codigo != 0: \n",
        "  print(\"Pedido n° \", n_pedido) \n",
        "  codigo - int(input(\"Digite o código do seu alimento: \")) \n",
        "  if codigo == 0:\n",
        "      print (\"Só isso?\") \n",
        "      break \n",
        "  else: \n",
        "      while codigo not in codigos: \n",
        "          print(\"Este codigo não corresponde a nenhum alimento.\") \n",
        "          codigo = int(input(\"Digite o código do alimento: \"))\n",
        "      indice = codigos.index(codigo) \n",
        "      quantidade = int(input(\"Digite a quantidade: \"))\n",
        "      valor_pedido = (precos[indice] * quantidade)\n",
        "      pedido.append(valor_pedido)\n",
        "  n_pedido += 1 \n",
        "\n",
        "pedido_nota = 0 \n",
        "print(\"\\\\n\" * 2)\n",
        "for i in range(n_pedido - 1):\n",
        "    print(\"Pedido n° \", pedido_nota + 1, \"= R$ \", round(pedido[pedido_nota], 2)) \n",
        "    pedido_nota += 1\n",
        "   \n",
        "print('Total: R$ {}'.format(round(sum(pedido), 2)))\n",
        " "
      ],
      "execution_count": null,
      "outputs": [
        {
          "output_type": "stream",
          "text": [
            "Pedido n°  1\n",
            "Digite o código do seu alimento: 100\n",
            "Este codigo não corresponde a nenhum alimento.\n",
            "Digite o código do alimento: 101\n",
            "Digite a quantidade: 2\n",
            "Pedido n°  2\n",
            "Digite o código do seu alimento: 102\n",
            "Digite a quantidade: 2\n",
            "Pedido n°  3\n",
            "Digite o código do seu alimento: 103\n",
            "Digite a quantidade: 1\n",
            "Pedido n°  4\n",
            "Digite o código do seu alimento: 104\n",
            "Digite a quantidade: 1\n",
            "Pedido n°  5\n",
            "Digite o código do seu alimento: 105\n",
            "Digite a quantidade: 1\n",
            "Pedido n°  6\n",
            "Digite o código do seu alimento: 2\n"
          ],
          "name": "stdout"
        },
        {
          "output_type": "error",
          "ename": "KeyboardInterrupt",
          "evalue": "ignored",
          "traceback": [
            "\u001b[0;31m---------------------------------------------------------------------------\u001b[0m",
            "\u001b[0;31mKeyboardInterrupt\u001b[0m                         Traceback (most recent call last)",
            "\u001b[0;32m/usr/local/lib/python3.7/dist-packages/ipykernel/kernelbase.py\u001b[0m in \u001b[0;36m_input_request\u001b[0;34m(self, prompt, ident, parent, password)\u001b[0m\n\u001b[1;32m    728\u001b[0m             \u001b[0;32mtry\u001b[0m\u001b[0;34m:\u001b[0m\u001b[0;34m\u001b[0m\u001b[0;34m\u001b[0m\u001b[0m\n\u001b[0;32m--> 729\u001b[0;31m                 \u001b[0mident\u001b[0m\u001b[0;34m,\u001b[0m \u001b[0mreply\u001b[0m \u001b[0;34m=\u001b[0m \u001b[0mself\u001b[0m\u001b[0;34m.\u001b[0m\u001b[0msession\u001b[0m\u001b[0;34m.\u001b[0m\u001b[0mrecv\u001b[0m\u001b[0;34m(\u001b[0m\u001b[0mself\u001b[0m\u001b[0;34m.\u001b[0m\u001b[0mstdin_socket\u001b[0m\u001b[0;34m,\u001b[0m \u001b[0;36m0\u001b[0m\u001b[0;34m)\u001b[0m\u001b[0;34m\u001b[0m\u001b[0;34m\u001b[0m\u001b[0m\n\u001b[0m\u001b[1;32m    730\u001b[0m             \u001b[0;32mexcept\u001b[0m \u001b[0mException\u001b[0m\u001b[0;34m:\u001b[0m\u001b[0;34m\u001b[0m\u001b[0;34m\u001b[0m\u001b[0m\n",
            "\u001b[0;32m/usr/local/lib/python3.7/dist-packages/jupyter_client/session.py\u001b[0m in \u001b[0;36mrecv\u001b[0;34m(self, socket, mode, content, copy)\u001b[0m\n\u001b[1;32m    802\u001b[0m         \u001b[0;32mtry\u001b[0m\u001b[0;34m:\u001b[0m\u001b[0;34m\u001b[0m\u001b[0;34m\u001b[0m\u001b[0m\n\u001b[0;32m--> 803\u001b[0;31m             \u001b[0mmsg_list\u001b[0m \u001b[0;34m=\u001b[0m \u001b[0msocket\u001b[0m\u001b[0;34m.\u001b[0m\u001b[0mrecv_multipart\u001b[0m\u001b[0;34m(\u001b[0m\u001b[0mmode\u001b[0m\u001b[0;34m,\u001b[0m \u001b[0mcopy\u001b[0m\u001b[0;34m=\u001b[0m\u001b[0mcopy\u001b[0m\u001b[0;34m)\u001b[0m\u001b[0;34m\u001b[0m\u001b[0;34m\u001b[0m\u001b[0m\n\u001b[0m\u001b[1;32m    804\u001b[0m         \u001b[0;32mexcept\u001b[0m \u001b[0mzmq\u001b[0m\u001b[0;34m.\u001b[0m\u001b[0mZMQError\u001b[0m \u001b[0;32mas\u001b[0m \u001b[0me\u001b[0m\u001b[0;34m:\u001b[0m\u001b[0;34m\u001b[0m\u001b[0;34m\u001b[0m\u001b[0m\n",
            "\u001b[0;32m/usr/local/lib/python3.7/dist-packages/zmq/sugar/socket.py\u001b[0m in \u001b[0;36mrecv_multipart\u001b[0;34m(self, flags, copy, track)\u001b[0m\n\u001b[1;32m    582\u001b[0m         \"\"\"\n\u001b[0;32m--> 583\u001b[0;31m         \u001b[0mparts\u001b[0m \u001b[0;34m=\u001b[0m \u001b[0;34m[\u001b[0m\u001b[0mself\u001b[0m\u001b[0;34m.\u001b[0m\u001b[0mrecv\u001b[0m\u001b[0;34m(\u001b[0m\u001b[0mflags\u001b[0m\u001b[0;34m,\u001b[0m \u001b[0mcopy\u001b[0m\u001b[0;34m=\u001b[0m\u001b[0mcopy\u001b[0m\u001b[0;34m,\u001b[0m \u001b[0mtrack\u001b[0m\u001b[0;34m=\u001b[0m\u001b[0mtrack\u001b[0m\u001b[0;34m)\u001b[0m\u001b[0;34m]\u001b[0m\u001b[0;34m\u001b[0m\u001b[0;34m\u001b[0m\u001b[0m\n\u001b[0m\u001b[1;32m    584\u001b[0m         \u001b[0;31m# have first part already, only loop while more to receive\u001b[0m\u001b[0;34m\u001b[0m\u001b[0;34m\u001b[0m\u001b[0;34m\u001b[0m\u001b[0m\n",
            "\u001b[0;32mzmq/backend/cython/socket.pyx\u001b[0m in \u001b[0;36mzmq.backend.cython.socket.Socket.recv\u001b[0;34m()\u001b[0m\n",
            "\u001b[0;32mzmq/backend/cython/socket.pyx\u001b[0m in \u001b[0;36mzmq.backend.cython.socket.Socket.recv\u001b[0;34m()\u001b[0m\n",
            "\u001b[0;32mzmq/backend/cython/socket.pyx\u001b[0m in \u001b[0;36mzmq.backend.cython.socket._recv_copy\u001b[0;34m()\u001b[0m\n",
            "\u001b[0;32m/usr/local/lib/python3.7/dist-packages/zmq/backend/cython/checkrc.pxd\u001b[0m in \u001b[0;36mzmq.backend.cython.checkrc._check_rc\u001b[0;34m()\u001b[0m\n",
            "\u001b[0;31mKeyboardInterrupt\u001b[0m: ",
            "\nDuring handling of the above exception, another exception occurred:\n",
            "\u001b[0;31mKeyboardInterrupt\u001b[0m                         Traceback (most recent call last)",
            "\u001b[0;32m<ipython-input-12-099155540590>\u001b[0m in \u001b[0;36m<module>\u001b[0;34m()\u001b[0m\n\u001b[1;32m     18\u001b[0m           \u001b[0mcodigo\u001b[0m \u001b[0;34m=\u001b[0m \u001b[0mint\u001b[0m\u001b[0;34m(\u001b[0m\u001b[0minput\u001b[0m\u001b[0;34m(\u001b[0m\u001b[0;34m\"Digite o código do alimento: \"\u001b[0m\u001b[0;34m)\u001b[0m\u001b[0;34m)\u001b[0m\u001b[0;34m\u001b[0m\u001b[0;34m\u001b[0m\u001b[0m\n\u001b[1;32m     19\u001b[0m       \u001b[0mindice\u001b[0m \u001b[0;34m=\u001b[0m \u001b[0mcodigos\u001b[0m\u001b[0;34m.\u001b[0m\u001b[0mindex\u001b[0m\u001b[0;34m(\u001b[0m\u001b[0mcodigo\u001b[0m\u001b[0;34m)\u001b[0m\u001b[0;34m\u001b[0m\u001b[0;34m\u001b[0m\u001b[0m\n\u001b[0;32m---> 20\u001b[0;31m       \u001b[0mquantidade\u001b[0m \u001b[0;34m=\u001b[0m \u001b[0mint\u001b[0m\u001b[0;34m(\u001b[0m\u001b[0minput\u001b[0m\u001b[0;34m(\u001b[0m\u001b[0;34m\"Digite a quantidade: \"\u001b[0m\u001b[0;34m)\u001b[0m\u001b[0;34m)\u001b[0m\u001b[0;34m\u001b[0m\u001b[0;34m\u001b[0m\u001b[0m\n\u001b[0m\u001b[1;32m     21\u001b[0m       \u001b[0mvalor_pedido\u001b[0m \u001b[0;34m=\u001b[0m \u001b[0;34m(\u001b[0m\u001b[0mprecos\u001b[0m\u001b[0;34m[\u001b[0m\u001b[0mindice\u001b[0m\u001b[0;34m]\u001b[0m \u001b[0;34m*\u001b[0m \u001b[0mquantidade\u001b[0m\u001b[0;34m)\u001b[0m\u001b[0;34m\u001b[0m\u001b[0;34m\u001b[0m\u001b[0m\n\u001b[1;32m     22\u001b[0m       \u001b[0mpedido\u001b[0m\u001b[0;34m.\u001b[0m\u001b[0mappend\u001b[0m\u001b[0;34m(\u001b[0m\u001b[0mvalor_pedido\u001b[0m\u001b[0;34m)\u001b[0m\u001b[0;34m\u001b[0m\u001b[0;34m\u001b[0m\u001b[0m\n",
            "\u001b[0;32m/usr/local/lib/python3.7/dist-packages/ipykernel/kernelbase.py\u001b[0m in \u001b[0;36mraw_input\u001b[0;34m(self, prompt)\u001b[0m\n\u001b[1;32m    702\u001b[0m             \u001b[0mself\u001b[0m\u001b[0;34m.\u001b[0m\u001b[0m_parent_ident\u001b[0m\u001b[0;34m,\u001b[0m\u001b[0;34m\u001b[0m\u001b[0;34m\u001b[0m\u001b[0m\n\u001b[1;32m    703\u001b[0m             \u001b[0mself\u001b[0m\u001b[0;34m.\u001b[0m\u001b[0m_parent_header\u001b[0m\u001b[0;34m,\u001b[0m\u001b[0;34m\u001b[0m\u001b[0;34m\u001b[0m\u001b[0m\n\u001b[0;32m--> 704\u001b[0;31m             \u001b[0mpassword\u001b[0m\u001b[0;34m=\u001b[0m\u001b[0;32mFalse\u001b[0m\u001b[0;34m,\u001b[0m\u001b[0;34m\u001b[0m\u001b[0;34m\u001b[0m\u001b[0m\n\u001b[0m\u001b[1;32m    705\u001b[0m         )\n\u001b[1;32m    706\u001b[0m \u001b[0;34m\u001b[0m\u001b[0m\n",
            "\u001b[0;32m/usr/local/lib/python3.7/dist-packages/ipykernel/kernelbase.py\u001b[0m in \u001b[0;36m_input_request\u001b[0;34m(self, prompt, ident, parent, password)\u001b[0m\n\u001b[1;32m    732\u001b[0m             \u001b[0;32mexcept\u001b[0m \u001b[0mKeyboardInterrupt\u001b[0m\u001b[0;34m:\u001b[0m\u001b[0;34m\u001b[0m\u001b[0;34m\u001b[0m\u001b[0m\n\u001b[1;32m    733\u001b[0m                 \u001b[0;31m# re-raise KeyboardInterrupt, to truncate traceback\u001b[0m\u001b[0;34m\u001b[0m\u001b[0;34m\u001b[0m\u001b[0;34m\u001b[0m\u001b[0m\n\u001b[0;32m--> 734\u001b[0;31m                 \u001b[0;32mraise\u001b[0m \u001b[0mKeyboardInterrupt\u001b[0m\u001b[0;34m\u001b[0m\u001b[0;34m\u001b[0m\u001b[0m\n\u001b[0m\u001b[1;32m    735\u001b[0m             \u001b[0;32melse\u001b[0m\u001b[0;34m:\u001b[0m\u001b[0;34m\u001b[0m\u001b[0;34m\u001b[0m\u001b[0m\n\u001b[1;32m    736\u001b[0m                 \u001b[0;32mbreak\u001b[0m\u001b[0;34m\u001b[0m\u001b[0;34m\u001b[0m\u001b[0m\n",
            "\u001b[0;31mKeyboardInterrupt\u001b[0m: "
          ]
        }
      ]
    }
  ]
}