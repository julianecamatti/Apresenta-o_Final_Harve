{
  "nbformat": 4,
  "nbformat_minor": 0,
  "metadata": {
    "colab": {
      "name": "Exercicios para entregar_Analise_Descritiva_Juliane.ipynb",
      "provenance": [],
      "collapsed_sections": [],
      "include_colab_link": true
    },
    "kernelspec": {
      "name": "python3",
      "display_name": "Python 3"
    }
  },
  "cells": [
    {
      "cell_type": "markdown",
      "metadata": {
        "id": "view-in-github",
        "colab_type": "text"
      },
      "source": [
        "<a href=\"https://colab.research.google.com/github/julianecamatti/Apresenta-o_Final_Harve/blob/main/Material_entregar/Exercicios_para_entregar_Analise_Descritiva_Juliane.ipynb\" target=\"_parent\"><img src=\"https://colab.research.google.com/assets/colab-badge.svg\" alt=\"Open In Colab\"/></a>"
      ]
    },
    {
      "cell_type": "markdown",
      "metadata": {
        "id": "t1ODUbV4kwRv"
      },
      "source": [
        "\n",
        "\n",
        "### Aula 1\n",
        "\n"
      ]
    },
    {
      "cell_type": "markdown",
      "metadata": {
        "id": "aqF9hTnSlpdy"
      },
      "source": [
        "1 - Numa amostra de 8 funcionários de uma empresa observou-se duas variáveis: anos de trabalho e número de promoções recebidas. Calcule a correlação entre elas:"
      ]
    },
    {
      "cell_type": "code",
      "metadata": {
        "id": "TZrFYvqkkl91"
      },
      "source": [
        "import pandas as pd\n",
        "\n",
        "dados = {'promocoes' : [2,2,1,2,0,3,1,0],\n",
        "         'anos_de_trabalho' : [5,6,6,7,7,8,8,8]}\n",
        "\n",
        "df = pd.DataFrame(dados)"
      ],
      "execution_count": null,
      "outputs": []
    },
    {
      "cell_type": "code",
      "metadata": {
        "id": "Nw9SHM-CvmJu",
        "colab": {
          "base_uri": "https://localhost:8080/",
          "height": 297
        },
        "outputId": "3a1e555f-cf3f-48fc-a9eb-6d0876b9cab5"
      },
      "source": [
        "df"
      ],
      "execution_count": null,
      "outputs": [
        {
          "output_type": "execute_result",
          "data": {
            "text/html": [
              "<div>\n",
              "<style scoped>\n",
              "    .dataframe tbody tr th:only-of-type {\n",
              "        vertical-align: middle;\n",
              "    }\n",
              "\n",
              "    .dataframe tbody tr th {\n",
              "        vertical-align: top;\n",
              "    }\n",
              "\n",
              "    .dataframe thead th {\n",
              "        text-align: right;\n",
              "    }\n",
              "</style>\n",
              "<table border=\"1\" class=\"dataframe\">\n",
              "  <thead>\n",
              "    <tr style=\"text-align: right;\">\n",
              "      <th></th>\n",
              "      <th>promocoes</th>\n",
              "      <th>anos_de_trabalho</th>\n",
              "    </tr>\n",
              "  </thead>\n",
              "  <tbody>\n",
              "    <tr>\n",
              "      <th>0</th>\n",
              "      <td>2</td>\n",
              "      <td>5</td>\n",
              "    </tr>\n",
              "    <tr>\n",
              "      <th>1</th>\n",
              "      <td>2</td>\n",
              "      <td>6</td>\n",
              "    </tr>\n",
              "    <tr>\n",
              "      <th>2</th>\n",
              "      <td>1</td>\n",
              "      <td>6</td>\n",
              "    </tr>\n",
              "    <tr>\n",
              "      <th>3</th>\n",
              "      <td>2</td>\n",
              "      <td>7</td>\n",
              "    </tr>\n",
              "    <tr>\n",
              "      <th>4</th>\n",
              "      <td>0</td>\n",
              "      <td>7</td>\n",
              "    </tr>\n",
              "    <tr>\n",
              "      <th>5</th>\n",
              "      <td>3</td>\n",
              "      <td>8</td>\n",
              "    </tr>\n",
              "    <tr>\n",
              "      <th>6</th>\n",
              "      <td>1</td>\n",
              "      <td>8</td>\n",
              "    </tr>\n",
              "    <tr>\n",
              "      <th>7</th>\n",
              "      <td>0</td>\n",
              "      <td>8</td>\n",
              "    </tr>\n",
              "  </tbody>\n",
              "</table>\n",
              "</div>"
            ],
            "text/plain": [
              "   promocoes  anos_de_trabalho\n",
              "0          2                 5\n",
              "1          2                 6\n",
              "2          1                 6\n",
              "3          2                 7\n",
              "4          0                 7\n",
              "5          3                 8\n",
              "6          1                 8\n",
              "7          0                 8"
            ]
          },
          "metadata": {
            "tags": []
          },
          "execution_count": 4
        }
      ]
    },
    {
      "cell_type": "code",
      "metadata": {
        "id": "LXvaEw_5vwXe",
        "colab": {
          "base_uri": "https://localhost:8080/"
        },
        "outputId": "809935ad-35ce-447f-b249-a5c2f049eb82"
      },
      "source": [
        "rho = df.promocoes.corr(df.anos_de_trabalho)\n",
        "print('Correlação utilizando pandas: ',rho)"
      ],
      "execution_count": null,
      "outputs": [
        {
          "output_type": "stream",
          "text": [
            "Correlação utilizando pandas:  -0.1943765650737112\n"
          ],
          "name": "stdout"
        }
      ]
    },
    {
      "cell_type": "markdown",
      "metadata": {
        "id": "KMcXhTqWqNrR"
      },
      "source": [
        "2 - Uma nutricionista procurou avaliar se a massa muscular (Y) de um conjunto de pacientes diminuía com a idade (X).  Calcule o coeficiente de correlação linear dessa relação."
      ]
    },
    {
      "cell_type": "code",
      "metadata": {
        "id": "WOGEA9I8qNMe"
      },
      "source": [
        "import numpy as np\n",
        "\n",
        "massa_muscular = np.array([82,91,100,68,87,73,78,80,65,84,116,76,97,100,105,77,73,78])\n",
        "idade = np.array([71,64,43,67,56,73,68,56,76,65,45,58,45,53,49,78,73,68])"
      ],
      "execution_count": null,
      "outputs": []
    },
    {
      "cell_type": "code",
      "metadata": {
        "id": "sYA_OIrxv-kB",
        "colab": {
          "base_uri": "https://localhost:8080/"
        },
        "outputId": "52dd0008-de65-4541-8c63-4c77dede94ca"
      },
      "source": [
        "rho = np.corrcoef(massa_muscular,idade)\n",
        "print('Correlação utilizando numpy: ',rho)"
      ],
      "execution_count": null,
      "outputs": [
        {
          "output_type": "stream",
          "text": [
            "Correlação utilizando numpy:  [[ 1.         -0.83667663]\n",
            " [-0.83667663  1.        ]]\n"
          ],
          "name": "stdout"
        }
      ]
    },
    {
      "cell_type": "markdown",
      "metadata": {
        "id": "DtHZVPc9rHdR"
      },
      "source": [
        "3 - Foram coletadas as informações de uma amostra de famílias para entender quantos cartões de créditos elas possuem e quais variáveis explicam isto:"
      ]
    },
    {
      "cell_type": "code",
      "metadata": {
        "id": "rwJtw6KPrHID"
      },
      "source": [
        "import pandas as pd\n",
        "\n",
        "dados = {'id_familia':[1,2,3,4,5,6,7,8],\n",
        "         'n_cartoes': [4,6,6,7,8,7,8,10],\n",
        "         'tamanho_familia': [2,2,4,4,5,5,6,6],\n",
        "         'renda_familiar':[14,16,14,17,18,21,17,25],\n",
        "         'num_automoveis': [1,2,2,1,3,2,1,2]}\n",
        "\n",
        "df = pd.DataFrame(dados)"
      ],
      "execution_count": null,
      "outputs": []
    },
    {
      "cell_type": "code",
      "metadata": {
        "id": "onirU3mNyOYs",
        "colab": {
          "base_uri": "https://localhost:8080/",
          "height": 297
        },
        "outputId": "efa7f27c-3110-40c2-fca9-8b6139dbd025"
      },
      "source": [
        "df"
      ],
      "execution_count": null,
      "outputs": [
        {
          "output_type": "execute_result",
          "data": {
            "text/html": [
              "<div>\n",
              "<style scoped>\n",
              "    .dataframe tbody tr th:only-of-type {\n",
              "        vertical-align: middle;\n",
              "    }\n",
              "\n",
              "    .dataframe tbody tr th {\n",
              "        vertical-align: top;\n",
              "    }\n",
              "\n",
              "    .dataframe thead th {\n",
              "        text-align: right;\n",
              "    }\n",
              "</style>\n",
              "<table border=\"1\" class=\"dataframe\">\n",
              "  <thead>\n",
              "    <tr style=\"text-align: right;\">\n",
              "      <th></th>\n",
              "      <th>id_familia</th>\n",
              "      <th>n_cartoes</th>\n",
              "      <th>tamanho_familia</th>\n",
              "      <th>renda_familiar</th>\n",
              "      <th>num_automoveis</th>\n",
              "    </tr>\n",
              "  </thead>\n",
              "  <tbody>\n",
              "    <tr>\n",
              "      <th>0</th>\n",
              "      <td>1</td>\n",
              "      <td>4</td>\n",
              "      <td>2</td>\n",
              "      <td>14</td>\n",
              "      <td>1</td>\n",
              "    </tr>\n",
              "    <tr>\n",
              "      <th>1</th>\n",
              "      <td>2</td>\n",
              "      <td>6</td>\n",
              "      <td>2</td>\n",
              "      <td>16</td>\n",
              "      <td>2</td>\n",
              "    </tr>\n",
              "    <tr>\n",
              "      <th>2</th>\n",
              "      <td>3</td>\n",
              "      <td>6</td>\n",
              "      <td>4</td>\n",
              "      <td>14</td>\n",
              "      <td>2</td>\n",
              "    </tr>\n",
              "    <tr>\n",
              "      <th>3</th>\n",
              "      <td>4</td>\n",
              "      <td>7</td>\n",
              "      <td>4</td>\n",
              "      <td>17</td>\n",
              "      <td>1</td>\n",
              "    </tr>\n",
              "    <tr>\n",
              "      <th>4</th>\n",
              "      <td>5</td>\n",
              "      <td>8</td>\n",
              "      <td>5</td>\n",
              "      <td>18</td>\n",
              "      <td>3</td>\n",
              "    </tr>\n",
              "    <tr>\n",
              "      <th>5</th>\n",
              "      <td>6</td>\n",
              "      <td>7</td>\n",
              "      <td>5</td>\n",
              "      <td>21</td>\n",
              "      <td>2</td>\n",
              "    </tr>\n",
              "    <tr>\n",
              "      <th>6</th>\n",
              "      <td>7</td>\n",
              "      <td>8</td>\n",
              "      <td>6</td>\n",
              "      <td>17</td>\n",
              "      <td>1</td>\n",
              "    </tr>\n",
              "    <tr>\n",
              "      <th>7</th>\n",
              "      <td>8</td>\n",
              "      <td>10</td>\n",
              "      <td>6</td>\n",
              "      <td>25</td>\n",
              "      <td>2</td>\n",
              "    </tr>\n",
              "  </tbody>\n",
              "</table>\n",
              "</div>"
            ],
            "text/plain": [
              "   id_familia  n_cartoes  tamanho_familia  renda_familiar  num_automoveis\n",
              "0           1          4                2              14               1\n",
              "1           2          6                2              16               2\n",
              "2           3          6                4              14               2\n",
              "3           4          7                4              17               1\n",
              "4           5          8                5              18               3\n",
              "5           6          7                5              21               2\n",
              "6           7          8                6              17               1\n",
              "7           8         10                6              25               2"
            ]
          },
          "metadata": {
            "tags": []
          },
          "execution_count": 13
        }
      ]
    },
    {
      "cell_type": "markdown",
      "metadata": {
        "id": "EYgutLxpUhj-"
      },
      "source": [
        "- Correlações:"
      ]
    },
    {
      "cell_type": "code",
      "metadata": {
        "id": "H_pSZLb6xnz_",
        "colab": {
          "base_uri": "https://localhost:8080/"
        },
        "outputId": "15874161-a5ff-4301-a046-80d65f16cd2d"
      },
      "source": [
        "rho = df.id_familia.corr(df.n_cartoes)\n",
        "print('Correlação utilizando pandas: ',rho)\n",
        "rho = df.tamanho_familia.corr(df.n_cartoes)\n",
        "print('Correlação utilizando pandas: ',rho)\n",
        "rho = df.renda_familiar.corr(df.n_cartoes)\n",
        "print('Correlação utilizando pandas: ',rho)\n",
        "rho = df.num_automoveis.corr(df.n_cartoes)\n",
        "print('Correlação utilizando pandas: ',rho)"
      ],
      "execution_count": null,
      "outputs": [
        {
          "output_type": "stream",
          "text": [
            "Correlação utilizando pandas:  0.9211323729436767\n",
            "Correlação utilizando pandas:  0.8664002254439632\n",
            "Correlação utilizando pandas:  0.8290306181473621\n",
            "Correlação utilizando pandas:  0.3418817293789138\n"
          ],
          "name": "stdout"
        }
      ]
    },
    {
      "cell_type": "markdown",
      "metadata": {
        "id": "AbgS8TWedu-f"
      },
      "source": [
        "* Exiba as correlações em gráficos:"
      ]
    },
    {
      "cell_type": "code",
      "metadata": {
        "id": "cgJm6hBEyayV",
        "colab": {
          "base_uri": "https://localhost:8080/",
          "height": 313
        },
        "outputId": "abe1e476-e52b-439a-feb1-993cf31d77e2"
      },
      "source": [
        "# importando os pacotes necessários\n",
        "import numpy as np\n",
        "import matplotlib.pyplot as plt\n",
        " \n",
        "# exemplo de plots determinísticos\n",
        "np.random.seed(42)\n",
        "det_x = np.arange(0,10,0.1)\n",
        "det_y = 2 * det_x + 3\n",
        " \n",
        "# exemplo de plots não determinísticos\n",
        "non_det_x = np.arange(0, 10, 0.1)\n",
        "non_det_y = 2 * non_det_x + np.random.normal(size=100)\n",
        " \n",
        "# plotar determinísticos vs. não determinísticos\n",
        "fig, axs = plt.subplots(1, 2, figsize=(10,4), constrained_layout=True)\n",
        " \n",
        "axs[0].scatter(det_x, det_y, s=2)\n",
        "axs[0].set_title(\"Determinístico\")\n",
        " \n",
        "axs[1].scatter(non_det_x, non_det_y, s=2)\n",
        "axs[1].set_title(\"Não Determinístico\")\n",
        " \n",
        "plt.show()"
      ],
      "execution_count": null,
      "outputs": [
        {
          "output_type": "display_data",
          "data": {
            "image/png": "[encoded data removed]",
            "text/plain": [
              "<Figure size 720x288 with 2 Axes>"
            ]
          },
          "metadata": {
            "tags": [],
            "needs_background": "light"
          }
        }
      ]
    },
    {
      "cell_type": "markdown",
      "metadata": {
        "id": "t4IACH3VENQK"
      },
      "source": [
        "## Aula 3"
      ]
    },
    {
      "cell_type": "markdown",
      "metadata": {
        "id": "_8opFBVHVHbp"
      },
      "source": [
        "### Exercício 01"
      ]
    },
    {
      "cell_type": "markdown",
      "metadata": {
        "id": "ZiJ8xUp8VK2-"
      },
      "source": [
        "- Crie um modelo de Regressão Linear Simples para o Exercício 3 da Aula 01.\n",
        "\n",
        "**Dica**: para transformar uma série pandas em uma matriz coluna utilize\n",
        "\n",
        "`x = df[['minha_coluna_pandas']]`"
      ]
    },
    {
      "cell_type": "code",
      "metadata": {
        "id": "KqD_qHY4l7ok"
      },
      "source": [
        "import pandas as pd\n",
        "\n",
        "dados = {'id_familia':[1,2,3,4,5,6,7,8],\n",
        "         'n_cartoes': [4,6,6,7,8,7,8,10],\n",
        "         'tamanho_familia': [2,2,4,4,5,5,6,6],\n",
        "         'renda_familiar':[14,16,14,17,18,21,17,25],\n",
        "         'num_automoveis': [1,2,2,1,3,2,1,2]}\n",
        "\n",
        "df = pd.DataFrame(dados)"
      ],
      "execution_count": null,
      "outputs": []
    },
    {
      "cell_type": "code",
      "metadata": {
        "colab": {
          "base_uri": "https://localhost:8080/",
          "height": 297
        },
        "id": "G6fTW17ysucp",
        "outputId": "5d150af2-c364-40ed-bc05-c66e96b1cc69"
      },
      "source": [
        "df"
      ],
      "execution_count": null,
      "outputs": [
        {
          "output_type": "execute_result",
          "data": {
            "text/html": [
              "<div>\n",
              "<style scoped>\n",
              "    .dataframe tbody tr th:only-of-type {\n",
              "        vertical-align: middle;\n",
              "    }\n",
              "\n",
              "    .dataframe tbody tr th {\n",
              "        vertical-align: top;\n",
              "    }\n",
              "\n",
              "    .dataframe thead th {\n",
              "        text-align: right;\n",
              "    }\n",
              "</style>\n",
              "<table border=\"1\" class=\"dataframe\">\n",
              "  <thead>\n",
              "    <tr style=\"text-align: right;\">\n",
              "      <th></th>\n",
              "      <th>id_familia</th>\n",
              "      <th>n_cartoes</th>\n",
              "      <th>tamanho_familia</th>\n",
              "      <th>renda_familiar</th>\n",
              "      <th>num_automoveis</th>\n",
              "    </tr>\n",
              "  </thead>\n",
              "  <tbody>\n",
              "    <tr>\n",
              "      <th>0</th>\n",
              "      <td>1</td>\n",
              "      <td>4</td>\n",
              "      <td>2</td>\n",
              "      <td>14</td>\n",
              "      <td>1</td>\n",
              "    </tr>\n",
              "    <tr>\n",
              "      <th>1</th>\n",
              "      <td>2</td>\n",
              "      <td>6</td>\n",
              "      <td>2</td>\n",
              "      <td>16</td>\n",
              "      <td>2</td>\n",
              "    </tr>\n",
              "    <tr>\n",
              "      <th>2</th>\n",
              "      <td>3</td>\n",
              "      <td>6</td>\n",
              "      <td>4</td>\n",
              "      <td>14</td>\n",
              "      <td>2</td>\n",
              "    </tr>\n",
              "    <tr>\n",
              "      <th>3</th>\n",
              "      <td>4</td>\n",
              "      <td>7</td>\n",
              "      <td>4</td>\n",
              "      <td>17</td>\n",
              "      <td>1</td>\n",
              "    </tr>\n",
              "    <tr>\n",
              "      <th>4</th>\n",
              "      <td>5</td>\n",
              "      <td>8</td>\n",
              "      <td>5</td>\n",
              "      <td>18</td>\n",
              "      <td>3</td>\n",
              "    </tr>\n",
              "    <tr>\n",
              "      <th>5</th>\n",
              "      <td>6</td>\n",
              "      <td>7</td>\n",
              "      <td>5</td>\n",
              "      <td>21</td>\n",
              "      <td>2</td>\n",
              "    </tr>\n",
              "    <tr>\n",
              "      <th>6</th>\n",
              "      <td>7</td>\n",
              "      <td>8</td>\n",
              "      <td>6</td>\n",
              "      <td>17</td>\n",
              "      <td>1</td>\n",
              "    </tr>\n",
              "    <tr>\n",
              "      <th>7</th>\n",
              "      <td>8</td>\n",
              "      <td>10</td>\n",
              "      <td>6</td>\n",
              "      <td>25</td>\n",
              "      <td>2</td>\n",
              "    </tr>\n",
              "  </tbody>\n",
              "</table>\n",
              "</div>"
            ],
            "text/plain": [
              "   id_familia  n_cartoes  tamanho_familia  renda_familiar  num_automoveis\n",
              "0           1          4                2              14               1\n",
              "1           2          6                2              16               2\n",
              "2           3          6                4              14               2\n",
              "3           4          7                4              17               1\n",
              "4           5          8                5              18               3\n",
              "5           6          7                5              21               2\n",
              "6           7          8                6              17               1\n",
              "7           8         10                6              25               2"
            ]
          },
          "metadata": {
            "tags": []
          },
          "execution_count": 3
        }
      ]
    },
    {
      "cell_type": "markdown",
      "metadata": {
        "id": "ufCoGrt9woaz"
      },
      "source": [
        "Cálculo das correlações lineares:"
      ]
    },
    {
      "cell_type": "code",
      "metadata": {
        "colab": {
          "base_uri": "https://localhost:8080/",
          "height": 224
        },
        "id": "xaHAcuV5wnxm",
        "outputId": "c1f4f9f4-5850-464c-dc62-ebe4f0122bfc"
      },
      "source": [
        "df.corr()"
      ],
      "execution_count": null,
      "outputs": [
        {
          "output_type": "execute_result",
          "data": {
            "text/html": [
              "<div>\n",
              "<style scoped>\n",
              "    .dataframe tbody tr th:only-of-type {\n",
              "        vertical-align: middle;\n",
              "    }\n",
              "\n",
              "    .dataframe tbody tr th {\n",
              "        vertical-align: top;\n",
              "    }\n",
              "\n",
              "    .dataframe thead th {\n",
              "        text-align: right;\n",
              "    }\n",
              "</style>\n",
              "<table border=\"1\" class=\"dataframe\">\n",
              "  <thead>\n",
              "    <tr style=\"text-align: right;\">\n",
              "      <th></th>\n",
              "      <th>id_familia</th>\n",
              "      <th>n_cartoes</th>\n",
              "      <th>tamanho_familia</th>\n",
              "      <th>renda_familiar</th>\n",
              "      <th>num_automoveis</th>\n",
              "    </tr>\n",
              "  </thead>\n",
              "  <tbody>\n",
              "    <tr>\n",
              "      <th>id_familia</th>\n",
              "      <td>1.000000</td>\n",
              "      <td>0.921132</td>\n",
              "      <td>0.959024</td>\n",
              "      <td>0.821064</td>\n",
              "      <td>0.164957</td>\n",
              "    </tr>\n",
              "    <tr>\n",
              "      <th>n_cartoes</th>\n",
              "      <td>0.921132</td>\n",
              "      <td>1.000000</td>\n",
              "      <td>0.866400</td>\n",
              "      <td>0.829031</td>\n",
              "      <td>0.341882</td>\n",
              "    </tr>\n",
              "    <tr>\n",
              "      <th>tamanho_familia</th>\n",
              "      <td>0.959024</td>\n",
              "      <td>0.866400</td>\n",
              "      <td>1.000000</td>\n",
              "      <td>0.672685</td>\n",
              "      <td>0.191663</td>\n",
              "    </tr>\n",
              "    <tr>\n",
              "      <th>renda_familiar</th>\n",
              "      <td>0.821064</td>\n",
              "      <td>0.829031</td>\n",
              "      <td>0.672685</td>\n",
              "      <td>1.000000</td>\n",
              "      <td>0.300834</td>\n",
              "    </tr>\n",
              "    <tr>\n",
              "      <th>num_automoveis</th>\n",
              "      <td>0.164957</td>\n",
              "      <td>0.341882</td>\n",
              "      <td>0.191663</td>\n",
              "      <td>0.300834</td>\n",
              "      <td>1.000000</td>\n",
              "    </tr>\n",
              "  </tbody>\n",
              "</table>\n",
              "</div>"
            ],
            "text/plain": [
              "                 id_familia  n_cartoes  ...  renda_familiar  num_automoveis\n",
              "id_familia         1.000000   0.921132  ...        0.821064        0.164957\n",
              "n_cartoes          0.921132   1.000000  ...        0.829031        0.341882\n",
              "tamanho_familia    0.959024   0.866400  ...        0.672685        0.191663\n",
              "renda_familiar     0.821064   0.829031  ...        1.000000        0.300834\n",
              "num_automoveis     0.164957   0.341882  ...        0.300834        1.000000\n",
              "\n",
              "[5 rows x 5 columns]"
            ]
          },
          "metadata": {
            "tags": []
          },
          "execution_count": 4
        }
      ]
    },
    {
      "cell_type": "markdown",
      "metadata": {
        "id": "yCGc5kiowwh-"
      },
      "source": [
        "Definição da variável resposta e da variável explicativa:"
      ]
    },
    {
      "cell_type": "code",
      "metadata": {
        "id": "2qeFeM6bsuRW"
      },
      "source": [
        "x = df[['tamanho_familia', 'renda_familiar']]\n",
        "y = df['n_cartoes']"
      ],
      "execution_count": null,
      "outputs": []
    },
    {
      "cell_type": "markdown",
      "metadata": {
        "id": "Igd6r4mtw-yt"
      },
      "source": [
        "Importação do pacote: "
      ]
    },
    {
      "cell_type": "code",
      "metadata": {
        "id": "xc6xnAhCsuGQ"
      },
      "source": [
        "from sklearn.linear_model import LinearRegression"
      ],
      "execution_count": null,
      "outputs": []
    },
    {
      "cell_type": "markdown",
      "metadata": {
        "id": "KbsZb3KlxFeL"
      },
      "source": [
        "Estanciar modelo:"
      ]
    },
    {
      "cell_type": "code",
      "metadata": {
        "id": "-7JwNjpUxLmh"
      },
      "source": [
        "model = LinearRegression()"
      ],
      "execution_count": null,
      "outputs": []
    },
    {
      "cell_type": "markdown",
      "metadata": {
        "id": "PEVxNyP9xQI5"
      },
      "source": [
        "Treinar modelo:"
      ]
    },
    {
      "cell_type": "code",
      "metadata": {
        "colab": {
          "base_uri": "https://localhost:8080/"
        },
        "id": "N9DMRi7ixSny",
        "outputId": "fb43291d-43f7-46c9-e383-9b2a54eb0eb3"
      },
      "source": [
        "model.fit(x,y)"
      ],
      "execution_count": null,
      "outputs": [
        {
          "output_type": "execute_result",
          "data": {
            "text/plain": [
              "LinearRegression(copy_X=True, fit_intercept=True, n_jobs=None, normalize=False)"
            ]
          },
          "metadata": {
            "tags": []
          },
          "execution_count": 8
        }
      ]
    },
    {
      "cell_type": "markdown",
      "metadata": {
        "id": "WYzX-qYjx0A6"
      },
      "source": [
        "Previsão:"
      ]
    },
    {
      "cell_type": "code",
      "metadata": {
        "colab": {
          "base_uri": "https://localhost:8080/"
        },
        "id": "8wURy5EEx13k",
        "outputId": "7a3d3229-29a6-45cd-e4ef-3448044248df"
      },
      "source": [
        "y_pred = model.predict(x)\n",
        "print(y_pred)"
      ],
      "execution_count": null,
      "outputs": [
        {
          "output_type": "stream",
          "text": [
            "[4.76803279 5.19972678 6.03251366 6.68005464 7.52814208 8.17568306\n",
            " 7.94453552 9.67131148]\n"
          ],
          "name": "stdout"
        }
      ]
    },
    {
      "cell_type": "markdown",
      "metadata": {
        "id": "D1NvnYJex-vF"
      },
      "source": [
        "Coeficientes e o BO:"
      ]
    },
    {
      "cell_type": "code",
      "metadata": {
        "colab": {
          "base_uri": "https://localhost:8080/"
        },
        "id": "kQ8Xf48EyBhL",
        "outputId": "a34497a6-81ee-4bbb-a0f6-0224e0013687"
      },
      "source": [
        "print('Coeficientes: ', model.coef_)\n",
        "print('b0:', model.intercept_)"
      ],
      "execution_count": null,
      "outputs": [
        {
          "output_type": "stream",
          "text": [
            "Coeficientes:  [0.63224044 0.21584699]\n",
            "b0: 0.48169398907103655\n"
          ],
          "name": "stdout"
        }
      ]
    },
    {
      "cell_type": "markdown",
      "metadata": {
        "id": "whbYJQ4byQLk"
      },
      "source": [
        "Erro"
      ]
    },
    {
      "cell_type": "code",
      "metadata": {
        "colab": {
          "base_uri": "https://localhost:8080/"
        },
        "id": "D6ALrn6tyRN5",
        "outputId": "d550a3b5-5b78-4bba-beea-73b6a283c460"
      },
      "source": [
        "erro = y - y_pred\n",
        "print(erro)\n",
        "erro.mean()\n",
        "erro.mean()"
      ],
      "execution_count": null,
      "outputs": [
        {
          "output_type": "stream",
          "text": [
            "0   -0.768033\n",
            "1    0.800273\n",
            "2   -0.032514\n",
            "3    0.319945\n",
            "4    0.471858\n",
            "5   -1.175683\n",
            "6    0.055464\n",
            "7    0.328689\n",
            "Name: n_cartoes, dtype: float64\n"
          ],
          "name": "stdout"
        },
        {
          "output_type": "execute_result",
          "data": {
            "text/plain": [
              "0.0"
            ]
          },
          "metadata": {
            "tags": []
          },
          "execution_count": 14
        }
      ]
    },
    {
      "cell_type": "markdown",
      "metadata": {
        "id": "dVM197P-Eu75"
      },
      "source": [
        "### Exercício 02"
      ]
    },
    {
      "cell_type": "markdown",
      "metadata": {
        "id": "3LfG9JXe5C0z"
      },
      "source": [
        "- Crie um modelo de Regressão Linear Múltipla para o Exercício 3 da Aula 01."
      ]
    },
    {
      "cell_type": "code",
      "metadata": {
        "id": "VVSgAGYuGnZz"
      },
      "source": [
        "from sklearn.linear_model import LinearRegression\n",
        "from sklearn.metrics import r2_score"
      ],
      "execution_count": null,
      "outputs": []
    },
    {
      "cell_type": "code",
      "metadata": {
        "id": "Tt4jSXkPG34J"
      },
      "source": [
        "import pandas as pd\n",
        "\n",
        "dados = {'id_familia':[1,2,3,4,5,6,7,8],\n",
        "         'n_cartoes': [4,6,6,7,8,7,8,10],\n",
        "         'tamanho_familia': [2,2,4,4,5,5,6,6],\n",
        "         'renda_familiar':[14,16,14,17,18,21,17,25],\n",
        "         'num_automoveis': [1,2,2,1,3,2,1,2]}\n",
        "\n",
        "df = pd.DataFrame(dados)"
      ],
      "execution_count": null,
      "outputs": []
    },
    {
      "cell_type": "code",
      "metadata": {
        "colab": {
          "base_uri": "https://localhost:8080/",
          "height": 224
        },
        "id": "ZsDWH8T71RHC",
        "outputId": "b3a94302-49a2-4f08-fd28-0db439d4a60a"
      },
      "source": [
        "#Correlacoes\n",
        "df.corr()\n"
      ],
      "execution_count": null,
      "outputs": [
        {
          "output_type": "execute_result",
          "data": {
            "text/html": [
              "<div>\n",
              "<style scoped>\n",
              "    .dataframe tbody tr th:only-of-type {\n",
              "        vertical-align: middle;\n",
              "    }\n",
              "\n",
              "    .dataframe tbody tr th {\n",
              "        vertical-align: top;\n",
              "    }\n",
              "\n",
              "    .dataframe thead th {\n",
              "        text-align: right;\n",
              "    }\n",
              "</style>\n",
              "<table border=\"1\" class=\"dataframe\">\n",
              "  <thead>\n",
              "    <tr style=\"text-align: right;\">\n",
              "      <th></th>\n",
              "      <th>id_familia</th>\n",
              "      <th>n_cartoes</th>\n",
              "      <th>tamanho_familia</th>\n",
              "      <th>renda_familiar</th>\n",
              "      <th>num_automoveis</th>\n",
              "    </tr>\n",
              "  </thead>\n",
              "  <tbody>\n",
              "    <tr>\n",
              "      <th>id_familia</th>\n",
              "      <td>1.000000</td>\n",
              "      <td>0.921132</td>\n",
              "      <td>0.959024</td>\n",
              "      <td>0.821064</td>\n",
              "      <td>0.164957</td>\n",
              "    </tr>\n",
              "    <tr>\n",
              "      <th>n_cartoes</th>\n",
              "      <td>0.921132</td>\n",
              "      <td>1.000000</td>\n",
              "      <td>0.866400</td>\n",
              "      <td>0.829031</td>\n",
              "      <td>0.341882</td>\n",
              "    </tr>\n",
              "    <tr>\n",
              "      <th>tamanho_familia</th>\n",
              "      <td>0.959024</td>\n",
              "      <td>0.866400</td>\n",
              "      <td>1.000000</td>\n",
              "      <td>0.672685</td>\n",
              "      <td>0.191663</td>\n",
              "    </tr>\n",
              "    <tr>\n",
              "      <th>renda_familiar</th>\n",
              "      <td>0.821064</td>\n",
              "      <td>0.829031</td>\n",
              "      <td>0.672685</td>\n",
              "      <td>1.000000</td>\n",
              "      <td>0.300834</td>\n",
              "    </tr>\n",
              "    <tr>\n",
              "      <th>num_automoveis</th>\n",
              "      <td>0.164957</td>\n",
              "      <td>0.341882</td>\n",
              "      <td>0.191663</td>\n",
              "      <td>0.300834</td>\n",
              "      <td>1.000000</td>\n",
              "    </tr>\n",
              "  </tbody>\n",
              "</table>\n",
              "</div>"
            ],
            "text/plain": [
              "                 id_familia  n_cartoes  ...  renda_familiar  num_automoveis\n",
              "id_familia         1.000000   0.921132  ...        0.821064        0.164957\n",
              "n_cartoes          0.921132   1.000000  ...        0.829031        0.341882\n",
              "tamanho_familia    0.959024   0.866400  ...        0.672685        0.191663\n",
              "renda_familiar     0.821064   0.829031  ...        1.000000        0.300834\n",
              "num_automoveis     0.164957   0.341882  ...        0.300834        1.000000\n",
              "\n",
              "[5 rows x 5 columns]"
            ]
          },
          "metadata": {
            "tags": []
          },
          "execution_count": 20
        }
      ]
    },
    {
      "cell_type": "markdown",
      "metadata": {
        "id": "4kMM3i0GIta1"
      },
      "source": [
        "Existe colinearidade? Sim"
      ]
    },
    {
      "cell_type": "code",
      "metadata": {
        "colab": {
          "base_uri": "https://localhost:8080/"
        },
        "id": "kvbKyC-fIvq5",
        "outputId": "89cc02bc-25dd-48d1-81ce-8e6d3cd0b3be"
      },
      "source": [
        "df.tamanho_familia.corr(df.renda_familiar)"
      ],
      "execution_count": null,
      "outputs": [
        {
          "output_type": "execute_result",
          "data": {
            "text/plain": [
              "0.6726853719040369"
            ]
          },
          "metadata": {
            "tags": []
          },
          "execution_count": 84
        }
      ]
    },
    {
      "cell_type": "code",
      "metadata": {
        "id": "LXT8pSqT1REc"
      },
      "source": [
        "# Variável dependente e indepedente:\n",
        "x = df[['tamanho_familia', 'renda_familiar']]\n",
        "y = df['n_cartoes']"
      ],
      "execution_count": null,
      "outputs": []
    },
    {
      "cell_type": "markdown",
      "metadata": {
        "id": "Z2vmiI7pJVOT"
      },
      "source": [
        "Treinamento modelo:"
      ]
    },
    {
      "cell_type": "code",
      "metadata": {
        "id": "MVgav8xb4Sar"
      },
      "source": [
        "# Importação da biblioteca\n",
        "import statsmodels.api as sm\n",
        "\n",
        "# Adição da constante para calcular B0\n",
        "x = sm.add_constant(x)\n",
        "\n",
        "# Treinamento do modelo\n",
        "modelo = sm.OLS(y,x).fit()"
      ],
      "execution_count": null,
      "outputs": []
    },
    {
      "cell_type": "markdown",
      "metadata": {
        "id": "DL7rFJd1JZXp"
      },
      "source": [
        "Coeficientes"
      ]
    },
    {
      "cell_type": "code",
      "metadata": {
        "colab": {
          "base_uri": "https://localhost:8080/"
        },
        "id": "DNTi3vbxJc_T",
        "outputId": "3137cfab-e7e9-4bbe-cbe7-08f1a3cf0aab"
      },
      "source": [
        "print(modelo.params)"
      ],
      "execution_count": null,
      "outputs": [
        {
          "output_type": "stream",
          "text": [
            "const              0.481694\n",
            "tamanho_familia    0.632240\n",
            "renda_familiar     0.215847\n",
            "dtype: float64\n"
          ],
          "name": "stdout"
        }
      ]
    },
    {
      "cell_type": "markdown",
      "metadata": {
        "id": "T1XnsIrpJf5b"
      },
      "source": [
        "Equação descreve o modelo"
      ]
    },
    {
      "cell_type": "code",
      "metadata": {
        "id": "-o0XP3VdJiB2"
      },
      "source": [
        "Y = 0.481 + 0.63 * X1 + 0.21 * X2"
      ],
      "execution_count": null,
      "outputs": []
    },
    {
      "cell_type": "markdown",
      "metadata": {
        "id": "mO6OvG1IJ-yt"
      },
      "source": [
        "Y previsto pelo modelo"
      ]
    },
    {
      "cell_type": "code",
      "metadata": {
        "colab": {
          "base_uri": "https://localhost:8080/"
        },
        "id": "fMDLgXjyKBBb",
        "outputId": "7ec396a6-c0fa-4c0d-a3fa-29d4641ad89c"
      },
      "source": [
        "y_pred = modelo.predict(x)\n",
        "print(y_pred)"
      ],
      "execution_count": null,
      "outputs": [
        {
          "output_type": "stream",
          "text": [
            "0    4.768033\n",
            "1    5.199727\n",
            "2    6.032514\n",
            "3    6.680055\n",
            "4    7.528142\n",
            "5    8.175683\n",
            "6    7.944536\n",
            "7    9.671311\n",
            "dtype: float64\n"
          ],
          "name": "stdout"
        }
      ]
    },
    {
      "cell_type": "markdown",
      "metadata": {
        "id": "u3sW5yiPKEtO"
      },
      "source": [
        "REsiduo"
      ]
    },
    {
      "cell_type": "code",
      "metadata": {
        "colab": {
          "base_uri": "https://localhost:8080/"
        },
        "id": "M4dFhOKjKGER",
        "outputId": "a198d9e7-386c-47a0-c994-be6f4866d592"
      },
      "source": [
        "y_real = y\n",
        "residuo = y_real - y_pred\n",
        "print(residuo)"
      ],
      "execution_count": null,
      "outputs": [
        {
          "output_type": "stream",
          "text": [
            "0   -0.768033\n",
            "1    0.800273\n",
            "2   -0.032514\n",
            "3    0.319945\n",
            "4    0.471858\n",
            "5   -1.175683\n",
            "6    0.055464\n",
            "7    0.328689\n",
            "dtype: float64\n"
          ],
          "name": "stdout"
        }
      ]
    },
    {
      "cell_type": "markdown",
      "metadata": {
        "id": "I-Acpp9RKMRa"
      },
      "source": [
        "Gráfico de dispersão do ruído"
      ]
    },
    {
      "cell_type": "code",
      "metadata": {
        "colab": {
          "base_uri": "https://localhost:8080/",
          "height": 296
        },
        "id": "61v6eArYKODU",
        "outputId": "233d8850-cd99-4b25-f9b3-dad42feffec5"
      },
      "source": [
        "# Importação da biblioteca de visualização\n",
        "import seaborn as sns\n",
        "\n",
        "eixo = sns.scatterplot(x=df.tamanho_familia, y=residuo)\n",
        "eixo.set_xlabel('Tamanho familia')\n",
        "eixo.set_ylabel('Resíduo')\n",
        "\n",
        "import seaborn as sns\n",
        "\n",
        "eixo = sns.scatterplot(x=df.renda_familiar, y=residuo)\n",
        "eixo.set_xlabel('Renda familiar')\n",
        "eixo.set_ylabel('Resíduo')"
      ],
      "execution_count": null,
      "outputs": [
        {
          "output_type": "execute_result",
          "data": {
            "text/plain": [
              "Text(0, 0.5, 'Resíduo')"
            ]
          },
          "metadata": {
            "tags": []
          },
          "execution_count": 91
        },
        {
          "output_type": "display_data",
          "data": {
            "image/png": "[encoded data removed]",
            "text/plain": [
              "<Figure size 432x288 with 1 Axes>"
            ]
          },
          "metadata": {
            "tags": [],
            "needs_background": "light"
          }
        }
      ]
    },
    {
      "cell_type": "code",
      "metadata": {
        "id": "lKS1Td7_KIPL"
      },
      "source": [
        ""
      ],
      "execution_count": null,
      "outputs": []
    },
    {
      "cell_type": "markdown",
      "metadata": {
        "id": "swAWZGdKKqCV"
      },
      "source": [
        "Valores de R² e R² ajustado"
      ]
    },
    {
      "cell_type": "code",
      "metadata": {
        "colab": {
          "base_uri": "https://localhost:8080/"
        },
        "id": "VNy_4AXFKs4d",
        "outputId": "6c5fbaec-69e2-4023-9a8a-4903f1e04756"
      },
      "source": [
        "print(modelo.summary())"
      ],
      "execution_count": null,
      "outputs": [
        {
          "output_type": "stream",
          "text": [
            "                            OLS Regression Results                            \n",
            "==============================================================================\n",
            "Dep. Variable:              n_cartoes   R-squared:                       0.861\n",
            "Model:                            OLS   Adj. R-squared:                  0.806\n",
            "Method:                 Least Squares   F-statistic:                     15.53\n",
            "Date:                Fri, 13 Aug 2021   Prob (F-statistic):            0.00715\n",
            "Time:                        20:18:56   Log-Likelihood:                -7.4940\n",
            "No. Observations:                   8   AIC:                             20.99\n",
            "Df Residuals:                       5   BIC:                             21.23\n",
            "Df Model:                           2                                         \n",
            "Covariance Type:            nonrobust                                         \n",
            "===================================================================================\n",
            "                      coef    std err          t      P>|t|      [0.025      0.975]\n",
            "-----------------------------------------------------------------------------------\n",
            "const               0.4817      1.461      0.330      0.755      -3.275       4.238\n",
            "tamanho_familia     0.6322      0.252      2.506      0.054      -0.016       1.281\n",
            "renda_familiar      0.2158      0.108      1.998      0.102      -0.062       0.493\n",
            "==============================================================================\n",
            "Omnibus:                        1.571   Durbin-Watson:                   2.494\n",
            "Prob(Omnibus):                  0.456   Jarque-Bera (JB):                0.867\n",
            "Skew:                          -0.739   Prob(JB):                        0.648\n",
            "Kurtosis:                       2.357   Cond. No.                         98.8\n",
            "==============================================================================\n",
            "\n",
            "Warnings:\n",
            "[1] Standard Errors assume that the covariance matrix of the errors is correctly specified.\n"
          ],
          "name": "stdout"
        },
        {
          "output_type": "stream",
          "text": [
            "/usr/local/lib/python3.7/dist-packages/scipy/stats/stats.py:1535: UserWarning: kurtosistest only valid for n>=20 ... continuing anyway, n=8\n",
            "  \"anyway, n=%i\" % int(n))\n"
          ],
          "name": "stderr"
        }
      ]
    },
    {
      "cell_type": "markdown",
      "metadata": {
        "id": "00Cl5n13KxUL"
      },
      "source": [
        " Significâncias estatísticas dos B"
      ]
    },
    {
      "cell_type": "code",
      "metadata": {
        "colab": {
          "base_uri": "https://localhost:8080/"
        },
        "id": "hbWEEE1nKzS9",
        "outputId": "218f15f7-525c-4a2d-a7a4-5ef0304b94f5"
      },
      "source": [
        "print(modelo.summary())"
      ],
      "execution_count": null,
      "outputs": [
        {
          "output_type": "stream",
          "text": [
            "                            OLS Regression Results                            \n",
            "==============================================================================\n",
            "Dep. Variable:              n_cartoes   R-squared:                       0.861\n",
            "Model:                            OLS   Adj. R-squared:                  0.806\n",
            "Method:                 Least Squares   F-statistic:                     15.53\n",
            "Date:                Fri, 13 Aug 2021   Prob (F-statistic):            0.00715\n",
            "Time:                        20:19:18   Log-Likelihood:                -7.4940\n",
            "No. Observations:                   8   AIC:                             20.99\n",
            "Df Residuals:                       5   BIC:                             21.23\n",
            "Df Model:                           2                                         \n",
            "Covariance Type:            nonrobust                                         \n",
            "===================================================================================\n",
            "                      coef    std err          t      P>|t|      [0.025      0.975]\n",
            "-----------------------------------------------------------------------------------\n",
            "const               0.4817      1.461      0.330      0.755      -3.275       4.238\n",
            "tamanho_familia     0.6322      0.252      2.506      0.054      -0.016       1.281\n",
            "renda_familiar      0.2158      0.108      1.998      0.102      -0.062       0.493\n",
            "==============================================================================\n",
            "Omnibus:                        1.571   Durbin-Watson:                   2.494\n",
            "Prob(Omnibus):                  0.456   Jarque-Bera (JB):                0.867\n",
            "Skew:                          -0.739   Prob(JB):                        0.648\n",
            "Kurtosis:                       2.357   Cond. No.                         98.8\n",
            "==============================================================================\n",
            "\n",
            "Warnings:\n",
            "[1] Standard Errors assume that the covariance matrix of the errors is correctly specified.\n"
          ],
          "name": "stdout"
        },
        {
          "output_type": "stream",
          "text": [
            "/usr/local/lib/python3.7/dist-packages/scipy/stats/stats.py:1535: UserWarning: kurtosistest only valid for n>=20 ... continuing anyway, n=8\n",
            "  \"anyway, n=%i\" % int(n))\n"
          ],
          "name": "stderr"
        }
      ]
    },
    {
      "cell_type": "markdown",
      "metadata": {
        "id": "073RWn_H5_WN"
      },
      "source": [
        "**Bruna, aqui eu fiquei bem na duvida, se eu sigo semelhante ao anterior, ou se sigo semelhante ao exercicio 5 por exemplo. **\n",
        "Não sei como desenvolvo um exercicio regressão linear multiplo. \n",
        "DEpois de ter realizado todos os outros eu voltei e fiz dessa forma mas fiquei na duvida se está correto.\n",
        "\n",
        "\n"
      ]
    },
    {
      "cell_type": "markdown",
      "metadata": {
        "id": "quvgs-V6cWee"
      },
      "source": [
        "Para os exercícios 03 a 10 defina:\n",
        "* Quais as correlações existentes?\n",
        "* (Quando Regressão Linear Múltipla) Existe colinearidade?\n",
        "* Quais as variáveis dependente e independente(s) do modelo?\n",
        "* Treine o modelo\n",
        "* Quais os valores para B0 e para os demais coeficientes?\n",
        "* Qual é a equação que descreve o comportamento dos dados?\n",
        "* Quais os valores de y previsto pelo modelo?\n",
        "* Quais os valores de resíduo do modelo?\n",
        "* Apresente o gráfico de dispersão do resíduo.\n",
        "* Quais os valores de R² e R² ajustado?\n",
        "* Quais as significâncias estatísticas dos B?"
      ]
    },
    {
      "cell_type": "markdown",
      "metadata": {
        "id": "gb64lmNpbVe3"
      },
      "source": [
        "### Exercício 03"
      ]
    },
    {
      "cell_type": "markdown",
      "metadata": {
        "id": "O13ePeUPslS8"
      },
      "source": [
        "Você consegue prever a nota de um estudante de acordo com a quantidade de horas que ele estudou para uma prova?"
      ]
    },
    {
      "cell_type": "code",
      "metadata": {
        "id": "Vl_pEm4Ts7ru",
        "colab": {
          "base_uri": "https://localhost:8080/",
          "height": 204
        },
        "outputId": "b21146b3-d33c-45f8-8b61-46bc26e07dd7"
      },
      "source": [
        "import pandas as pd\n",
        "import numpy as np\n",
        "\n",
        "\n",
        "df = pd.DataFrame({'estudante': np.arange(10),\n",
        "                   'horas_estudo': [1,5,7,8,10,11,14,15,15,19],\n",
        "                   'notas': [53,74,59,43,56,84,96,69,84,83]})\n",
        "df.head()"
      ],
      "execution_count": null,
      "outputs": [
        {
          "output_type": "execute_result",
          "data": {
            "text/html": [
              "<div>\n",
              "<style scoped>\n",
              "    .dataframe tbody tr th:only-of-type {\n",
              "        vertical-align: middle;\n",
              "    }\n",
              "\n",
              "    .dataframe tbody tr th {\n",
              "        vertical-align: top;\n",
              "    }\n",
              "\n",
              "    .dataframe thead th {\n",
              "        text-align: right;\n",
              "    }\n",
              "</style>\n",
              "<table border=\"1\" class=\"dataframe\">\n",
              "  <thead>\n",
              "    <tr style=\"text-align: right;\">\n",
              "      <th></th>\n",
              "      <th>estudante</th>\n",
              "      <th>horas_estudo</th>\n",
              "      <th>notas</th>\n",
              "    </tr>\n",
              "  </thead>\n",
              "  <tbody>\n",
              "    <tr>\n",
              "      <th>0</th>\n",
              "      <td>0</td>\n",
              "      <td>1</td>\n",
              "      <td>53</td>\n",
              "    </tr>\n",
              "    <tr>\n",
              "      <th>1</th>\n",
              "      <td>1</td>\n",
              "      <td>5</td>\n",
              "      <td>74</td>\n",
              "    </tr>\n",
              "    <tr>\n",
              "      <th>2</th>\n",
              "      <td>2</td>\n",
              "      <td>7</td>\n",
              "      <td>59</td>\n",
              "    </tr>\n",
              "    <tr>\n",
              "      <th>3</th>\n",
              "      <td>3</td>\n",
              "      <td>8</td>\n",
              "      <td>43</td>\n",
              "    </tr>\n",
              "    <tr>\n",
              "      <th>4</th>\n",
              "      <td>4</td>\n",
              "      <td>10</td>\n",
              "      <td>56</td>\n",
              "    </tr>\n",
              "  </tbody>\n",
              "</table>\n",
              "</div>"
            ],
            "text/plain": [
              "   estudante  horas_estudo  notas\n",
              "0          0             1     53\n",
              "1          1             5     74\n",
              "2          2             7     59\n",
              "3          3             8     43\n",
              "4          4            10     56"
            ]
          },
          "metadata": {
            "tags": []
          },
          "execution_count": 48
        }
      ]
    },
    {
      "cell_type": "markdown",
      "metadata": {
        "id": "mU3G-2zqEJzS"
      },
      "source": [
        "Correlações"
      ]
    },
    {
      "cell_type": "code",
      "metadata": {
        "colab": {
          "base_uri": "https://localhost:8080/"
        },
        "id": "AepuIPKR7lCp",
        "outputId": "5959b906-fbf6-4477-abab-0c38f7acaf64"
      },
      "source": [
        "df.notas.corr(df.horas_estudo)\n",
        "\n"
      ],
      "execution_count": null,
      "outputs": [
        {
          "output_type": "execute_result",
          "data": {
            "text/plain": [
              "0.6277909863869449"
            ]
          },
          "metadata": {
            "tags": []
          },
          "execution_count": 49
        }
      ]
    },
    {
      "cell_type": "code",
      "metadata": {
        "id": "YSYt47JeAr9J"
      },
      "source": [
        "# Definir variaveis: Y - Notas (dependente) X - Horas de estudo (independente)\n",
        "x = df[['horas_estudo']]\n",
        "y = df['notas'] "
      ],
      "execution_count": null,
      "outputs": []
    },
    {
      "cell_type": "markdown",
      "metadata": {
        "id": "XvoH4zbRBhg5"
      },
      "source": [
        "Treinamento do modelo"
      ]
    },
    {
      "cell_type": "code",
      "metadata": {
        "id": "tu3X8MkuAw9h"
      },
      "source": [
        "# stastmodel\n",
        "#Importação do pacote\n",
        "import statsmodels.api as sm\n",
        "\n",
        "# Adição de uma coluna para calcular B0\n",
        "x = sm.add_constant(x)\n",
        "\n",
        "# Treinamento do modelo\n",
        "modelo_sm = sm.OLS(y,x).fit()"
      ],
      "execution_count": null,
      "outputs": []
    },
    {
      "cell_type": "code",
      "metadata": {
        "colab": {
          "base_uri": "https://localhost:8080/"
        },
        "id": "u6yHaDZTBm3Y",
        "outputId": "e73b4e9c-9b2a-438b-d821-dac190c02c87"
      },
      "source": [
        "#Scikit-Learn\n",
        "# Importação do pacote\n",
        "from sklearn.linear_model import LinearRegression\n",
        "\n",
        "# Instanciando o objeto\n",
        "modelo_sl = LinearRegression()\n",
        "\n",
        "#Treinando o modelo\n",
        "modelo_sl.fit(x,y)"
      ],
      "execution_count": null,
      "outputs": [
        {
          "output_type": "execute_result",
          "data": {
            "text/plain": [
              "LinearRegression(copy_X=True, fit_intercept=True, n_jobs=None, normalize=False)"
            ]
          },
          "metadata": {
            "tags": []
          },
          "execution_count": 52
        }
      ]
    },
    {
      "cell_type": "markdown",
      "metadata": {
        "id": "PxOX6O_XBrU7"
      },
      "source": [
        "Coeficientes"
      ]
    },
    {
      "cell_type": "code",
      "metadata": {
        "colab": {
          "base_uri": "https://localhost:8080/"
        },
        "id": "3ePL8i3vBtr3",
        "outputId": "520d5c3c-a7dc-496e-d8a7-22c3b4bb9721"
      },
      "source": [
        "# Statsmodel:\n",
        "print(modelo_sm.params)"
      ],
      "execution_count": null,
      "outputs": [
        {
          "output_type": "stream",
          "text": [
            "const           49.477127\n",
            "horas_estudo     1.964083\n",
            "dtype: float64\n"
          ],
          "name": "stdout"
        }
      ]
    },
    {
      "cell_type": "code",
      "metadata": {
        "colab": {
          "base_uri": "https://localhost:8080/"
        },
        "id": "Fz2TAhyiBtmw",
        "outputId": "81a33bf4-ad19-49cb-94be-e24293c3ee69"
      },
      "source": [
        "#Scikit-Learn:\n",
        "print('B0:', modelo_sl.intercept_)\n",
        "print('B1:', modelo_sl.coef_)"
      ],
      "execution_count": null,
      "outputs": [
        {
          "output_type": "stream",
          "text": [
            "B0: 49.47712665406428\n",
            "B1: [0.         1.96408318]\n"
          ],
          "name": "stdout"
        }
      ]
    },
    {
      "cell_type": "markdown",
      "metadata": {
        "id": "pSj3p1U5CDcB"
      },
      "source": [
        "Equação que descreve comportamento:\n",
        "\n",
        "Y= B0 + B1*x1\n",
        "\n",
        "Y = 49.477 + 1.941*X1\n",
        "\n"
      ]
    },
    {
      "cell_type": "markdown",
      "metadata": {
        "id": "3CvkoplHChiS"
      },
      "source": [
        "Y previsto pelo modelo: \n"
      ]
    },
    {
      "cell_type": "code",
      "metadata": {
        "colab": {
          "base_uri": "https://localhost:8080/"
        },
        "id": "3tFEqlN_CG-U",
        "outputId": "6a4f9ea2-4850-41c5-9a6b-bb1f4122fb68"
      },
      "source": [
        "#Statsmodel\n",
        "y_pred_sm = modelo_sm.predict(x)\n",
        "print(y_pred_sm)"
      ],
      "execution_count": null,
      "outputs": [
        {
          "output_type": "stream",
          "text": [
            "0    51.441210\n",
            "1    59.297543\n",
            "2    63.225709\n",
            "3    65.189792\n",
            "4    69.117958\n",
            "5    71.082042\n",
            "6    76.974291\n",
            "7    78.938374\n",
            "8    78.938374\n",
            "9    86.794707\n",
            "dtype: float64\n"
          ],
          "name": "stdout"
        }
      ]
    },
    {
      "cell_type": "code",
      "metadata": {
        "colab": {
          "base_uri": "https://localhost:8080/"
        },
        "id": "KnqQDrd2Cqc1",
        "outputId": "7018d6d9-6cce-4de4-b6ac-e69029c2ccb4"
      },
      "source": [
        "#Scikit-Learn\n",
        "y_pred_sl = modelo_sl.predict(x)\n",
        "print(y_pred_sl)"
      ],
      "execution_count": null,
      "outputs": [
        {
          "output_type": "stream",
          "text": [
            "[51.44120983 59.29754253 63.22570888 65.18979206 69.11795841 71.08204159\n",
            " 76.97429112 78.93837429 78.93837429 86.79470699]\n"
          ],
          "name": "stdout"
        }
      ]
    },
    {
      "cell_type": "markdown",
      "metadata": {
        "id": "2sgXt821C0qv"
      },
      "source": [
        "Resíduo: "
      ]
    },
    {
      "cell_type": "code",
      "metadata": {
        "colab": {
          "base_uri": "https://localhost:8080/"
        },
        "id": "UwFiqIhjC3kn",
        "outputId": "47770e48-455b-4d57-d4e3-b457fcdb5b84"
      },
      "source": [
        "# Valor da variável dependente\n",
        "y_real = y\n",
        "# Variável prevista por um dos modelos\n",
        "y_pred = y_pred_sm\n",
        "residuo = y_real - y_pred\n",
        "print(residuo)"
      ],
      "execution_count": null,
      "outputs": [
        {
          "output_type": "stream",
          "text": [
            "0     1.558790\n",
            "1    14.702457\n",
            "2    -4.225709\n",
            "3   -22.189792\n",
            "4   -13.117958\n",
            "5    12.917958\n",
            "6    19.025709\n",
            "7    -9.938374\n",
            "8     5.061626\n",
            "9    -3.794707\n",
            "dtype: float64\n"
          ],
          "name": "stdout"
        }
      ]
    },
    {
      "cell_type": "markdown",
      "metadata": {
        "id": "HfNxzbLSC7QT"
      },
      "source": [
        "Grafico de dispersão do ruido"
      ]
    },
    {
      "cell_type": "code",
      "metadata": {
        "colab": {
          "base_uri": "https://localhost:8080/",
          "height": 296
        },
        "id": "BIuSpHbdC9y3",
        "outputId": "9c94a9e2-1279-491c-ff4e-90ddef710e25"
      },
      "source": [
        "# Importação da biblioteca de visualização\n",
        "import seaborn as sns\n",
        "\n",
        "eixo = sns.scatterplot(x=df.horas_estudo, y=residuo)\n",
        "eixo.set_xlabel('Horas de estudo')\n",
        "eixo.set_ylabel('Resíduo')"
      ],
      "execution_count": null,
      "outputs": [
        {
          "output_type": "execute_result",
          "data": {
            "text/plain": [
              "Text(0, 0.5, 'Resíduo')"
            ]
          },
          "metadata": {
            "tags": []
          },
          "execution_count": 58
        },
        {
          "output_type": "display_data",
          "data": {
            "image/png": "[encoded data removed]",
            "text/plain": [
              "<Figure size 432x288 with 1 Axes>"
            ]
          },
          "metadata": {
            "tags": [],
            "needs_background": "light"
          }
        }
      ]
    },
    {
      "cell_type": "markdown",
      "metadata": {
        "id": "Wg51HLXbDCIF"
      },
      "source": [
        "Valores R² e R² ajustado:"
      ]
    },
    {
      "cell_type": "code",
      "metadata": {
        "colab": {
          "base_uri": "https://localhost:8080/"
        },
        "id": "CEz_43NIDGep",
        "outputId": "d8eced1e-21a3-45fd-817c-40638cdb571d"
      },
      "source": [
        "#Statsmodel\n",
        "print(modelo_sm.summary())"
      ],
      "execution_count": null,
      "outputs": [
        {
          "output_type": "stream",
          "text": [
            "                            OLS Regression Results                            \n",
            "==============================================================================\n",
            "Dep. Variable:                  notas   R-squared:                       0.394\n",
            "Model:                            OLS   Adj. R-squared:                  0.318\n",
            "Method:                 Least Squares   F-statistic:                     5.204\n",
            "Date:                Fri, 13 Aug 2021   Prob (F-statistic):             0.0520\n",
            "Time:                        19:51:16   Log-Likelihood:                -39.466\n",
            "No. Observations:                  10   AIC:                             82.93\n",
            "Df Residuals:                       8   BIC:                             83.54\n",
            "Df Model:                           1                                         \n",
            "Covariance Type:            nonrobust                                         \n",
            "================================================================================\n",
            "                   coef    std err          t      P>|t|      [0.025      0.975]\n",
            "--------------------------------------------------------------------------------\n",
            "const           49.4771     10.066      4.915      0.001      26.264      72.690\n",
            "horas_estudo     1.9641      0.861      2.281      0.052      -0.021       3.950\n",
            "==============================================================================\n",
            "Omnibus:                        0.347   Durbin-Watson:                   1.781\n",
            "Prob(Omnibus):                  0.841   Jarque-Bera (JB):                0.445\n",
            "Skew:                          -0.099   Prob(JB):                        0.801\n",
            "Kurtosis:                       1.986   Cond. No.                         26.7\n",
            "==============================================================================\n",
            "\n",
            "Warnings:\n",
            "[1] Standard Errors assume that the covariance matrix of the errors is correctly specified.\n"
          ],
          "name": "stdout"
        },
        {
          "output_type": "stream",
          "text": [
            "/usr/local/lib/python3.7/dist-packages/scipy/stats/stats.py:1535: UserWarning: kurtosistest only valid for n>=20 ... continuing anyway, n=10\n",
            "  \"anyway, n=%i\" % int(n))\n"
          ],
          "name": "stderr"
        }
      ]
    },
    {
      "cell_type": "code",
      "metadata": {
        "colab": {
          "base_uri": "https://localhost:8080/"
        },
        "id": "NA8-anCvDMxi",
        "outputId": "99f01e2a-2e40-437c-e3cb-ba9b8eaf94e0"
      },
      "source": [
        "#Scikit-Learn:\n",
        "r_quadrado = modelo_sl.score(x,y)\n",
        "print(r_quadrado)\n",
        "\n",
        "# Número de amostras\n",
        "n_amostras = df.shape[0]\n",
        "# Quantidade de variáveis explicativas\n",
        "p = 1\n",
        "# Cálculo do r quadrado ajustado\n",
        "r_quadrado_adj = 1-(1-r_quadrado)*(n_amostras-1)/(n_amostras-p-1)\n",
        "print(r_quadrado_adj)"
      ],
      "execution_count": null,
      "outputs": [
        {
          "output_type": "stream",
          "text": [
            "0.39412152258869326\n",
            "0.31838671291227993\n"
          ],
          "name": "stdout"
        }
      ]
    },
    {
      "cell_type": "markdown",
      "metadata": {
        "id": "pdKJRRr2DaaC"
      },
      "source": [
        "Quais as significâncias estatísticas dos B:"
      ]
    },
    {
      "cell_type": "code",
      "metadata": {
        "colab": {
          "base_uri": "https://localhost:8080/"
        },
        "id": "XYlibMLxDcxY",
        "outputId": "4774bfe7-37eb-450b-f667-29ac7a2fa92e"
      },
      "source": [
        "#Statsmodel:\n",
        "print(modelo_sm.summary())"
      ],
      "execution_count": null,
      "outputs": [
        {
          "output_type": "stream",
          "text": [
            "                            OLS Regression Results                            \n",
            "==============================================================================\n",
            "Dep. Variable:                  notas   R-squared:                       0.394\n",
            "Model:                            OLS   Adj. R-squared:                  0.318\n",
            "Method:                 Least Squares   F-statistic:                     5.204\n",
            "Date:                Fri, 13 Aug 2021   Prob (F-statistic):             0.0520\n",
            "Time:                        19:51:21   Log-Likelihood:                -39.466\n",
            "No. Observations:                  10   AIC:                             82.93\n",
            "Df Residuals:                       8   BIC:                             83.54\n",
            "Df Model:                           1                                         \n",
            "Covariance Type:            nonrobust                                         \n",
            "================================================================================\n",
            "                   coef    std err          t      P>|t|      [0.025      0.975]\n",
            "--------------------------------------------------------------------------------\n",
            "const           49.4771     10.066      4.915      0.001      26.264      72.690\n",
            "horas_estudo     1.9641      0.861      2.281      0.052      -0.021       3.950\n",
            "==============================================================================\n",
            "Omnibus:                        0.347   Durbin-Watson:                   1.781\n",
            "Prob(Omnibus):                  0.841   Jarque-Bera (JB):                0.445\n",
            "Skew:                          -0.099   Prob(JB):                        0.801\n",
            "Kurtosis:                       1.986   Cond. No.                         26.7\n",
            "==============================================================================\n",
            "\n",
            "Warnings:\n",
            "[1] Standard Errors assume that the covariance matrix of the errors is correctly specified.\n"
          ],
          "name": "stdout"
        },
        {
          "output_type": "stream",
          "text": [
            "/usr/local/lib/python3.7/dist-packages/scipy/stats/stats.py:1535: UserWarning: kurtosistest only valid for n>=20 ... continuing anyway, n=10\n",
            "  \"anyway, n=%i\" % int(n))\n"
          ],
          "name": "stderr"
        }
      ]
    },
    {
      "cell_type": "markdown",
      "metadata": {
        "id": "amIdB-DjlCwd"
      },
      "source": [
        "### Exercício 04"
      ]
    },
    {
      "cell_type": "markdown",
      "metadata": {
        "id": "iGUCQWpOlFmj"
      },
      "source": [
        "(MATTAR,2001) Uma empresa produtora de bens de consumo de massa levantou um histórico de dez anos das vendas, em milhares de unidades, de um produto, os investimentos, em milhões de reais, em comunicação( propaganda, promoção de vendas, etc.) e o número de vendedores para o mesmo produto. Crie um modelo de regressão linear para prever as vendas da empresa. "
      ]
    },
    {
      "cell_type": "code",
      "metadata": {
        "id": "mUWzUjkmmSvR",
        "colab": {
          "base_uri": "https://localhost:8080/",
          "height": 204
        },
        "outputId": "d32702f5-8c93-4e1e-b9a2-b7216fcb3608"
      },
      "source": [
        "import pandas as pd\n",
        "\n",
        "df = pd.DataFrame({'ano': [1983,1984,1985,1986,1987,1989,1990,1991,1992,1993],\n",
        "                   'comunicacao': [9.5,6.5,7.0,8.0,7.5,8.5,7.5,5.5,8.0,6.0],\n",
        "                   'num_vendedores': [10,8,9,12,15,11,13,7,15,10],\n",
        "                   'vendas':[95,60,60,80,80,80,85,60,85,65]})\n",
        "df.head()"
      ],
      "execution_count": null,
      "outputs": [
        {
          "output_type": "execute_result",
          "data": {
            "text/html": [
              "<div>\n",
              "<style scoped>\n",
              "    .dataframe tbody tr th:only-of-type {\n",
              "        vertical-align: middle;\n",
              "    }\n",
              "\n",
              "    .dataframe tbody tr th {\n",
              "        vertical-align: top;\n",
              "    }\n",
              "\n",
              "    .dataframe thead th {\n",
              "        text-align: right;\n",
              "    }\n",
              "</style>\n",
              "<table border=\"1\" class=\"dataframe\">\n",
              "  <thead>\n",
              "    <tr style=\"text-align: right;\">\n",
              "      <th></th>\n",
              "      <th>ano</th>\n",
              "      <th>comunicacao</th>\n",
              "      <th>num_vendedores</th>\n",
              "      <th>vendas</th>\n",
              "    </tr>\n",
              "  </thead>\n",
              "  <tbody>\n",
              "    <tr>\n",
              "      <th>0</th>\n",
              "      <td>1983</td>\n",
              "      <td>9.5</td>\n",
              "      <td>10</td>\n",
              "      <td>95</td>\n",
              "    </tr>\n",
              "    <tr>\n",
              "      <th>1</th>\n",
              "      <td>1984</td>\n",
              "      <td>6.5</td>\n",
              "      <td>8</td>\n",
              "      <td>60</td>\n",
              "    </tr>\n",
              "    <tr>\n",
              "      <th>2</th>\n",
              "      <td>1985</td>\n",
              "      <td>7.0</td>\n",
              "      <td>9</td>\n",
              "      <td>60</td>\n",
              "    </tr>\n",
              "    <tr>\n",
              "      <th>3</th>\n",
              "      <td>1986</td>\n",
              "      <td>8.0</td>\n",
              "      <td>12</td>\n",
              "      <td>80</td>\n",
              "    </tr>\n",
              "    <tr>\n",
              "      <th>4</th>\n",
              "      <td>1987</td>\n",
              "      <td>7.5</td>\n",
              "      <td>15</td>\n",
              "      <td>80</td>\n",
              "    </tr>\n",
              "  </tbody>\n",
              "</table>\n",
              "</div>"
            ],
            "text/plain": [
              "    ano  comunicacao  num_vendedores  vendas\n",
              "0  1983          9.5              10      95\n",
              "1  1984          6.5               8      60\n",
              "2  1985          7.0               9      60\n",
              "3  1986          8.0              12      80\n",
              "4  1987          7.5              15      80"
            ]
          },
          "metadata": {
            "tags": []
          },
          "execution_count": 109
        }
      ]
    },
    {
      "cell_type": "markdown",
      "metadata": {
        "id": "I74AeYpeEbo1"
      },
      "source": [
        "Correlações"
      ]
    },
    {
      "cell_type": "code",
      "metadata": {
        "colab": {
          "base_uri": "https://localhost:8080/",
          "height": 173
        },
        "id": "e0kA50OrEdHP",
        "outputId": "2b59f99d-5cd4-44bc-91af-c9d3f2f4d997"
      },
      "source": [
        "df.corr()"
      ],
      "execution_count": null,
      "outputs": [
        {
          "output_type": "execute_result",
          "data": {
            "text/html": [
              "<div>\n",
              "<style scoped>\n",
              "    .dataframe tbody tr th:only-of-type {\n",
              "        vertical-align: middle;\n",
              "    }\n",
              "\n",
              "    .dataframe tbody tr th {\n",
              "        vertical-align: top;\n",
              "    }\n",
              "\n",
              "    .dataframe thead th {\n",
              "        text-align: right;\n",
              "    }\n",
              "</style>\n",
              "<table border=\"1\" class=\"dataframe\">\n",
              "  <thead>\n",
              "    <tr style=\"text-align: right;\">\n",
              "      <th></th>\n",
              "      <th>ano</th>\n",
              "      <th>comunicacao</th>\n",
              "      <th>num_vendedores</th>\n",
              "      <th>vendas</th>\n",
              "    </tr>\n",
              "  </thead>\n",
              "  <tbody>\n",
              "    <tr>\n",
              "      <th>ano</th>\n",
              "      <td>1.000000</td>\n",
              "      <td>-0.424745</td>\n",
              "      <td>0.231249</td>\n",
              "      <td>-0.100157</td>\n",
              "    </tr>\n",
              "    <tr>\n",
              "      <th>comunicacao</th>\n",
              "      <td>-0.424745</td>\n",
              "      <td>1.000000</td>\n",
              "      <td>0.472693</td>\n",
              "      <td>0.877410</td>\n",
              "    </tr>\n",
              "    <tr>\n",
              "      <th>num_vendedores</th>\n",
              "      <td>0.231249</td>\n",
              "      <td>0.472693</td>\n",
              "      <td>1.000000</td>\n",
              "      <td>0.668776</td>\n",
              "    </tr>\n",
              "    <tr>\n",
              "      <th>vendas</th>\n",
              "      <td>-0.100157</td>\n",
              "      <td>0.877410</td>\n",
              "      <td>0.668776</td>\n",
              "      <td>1.000000</td>\n",
              "    </tr>\n",
              "  </tbody>\n",
              "</table>\n",
              "</div>"
            ],
            "text/plain": [
              "                     ano  comunicacao  num_vendedores    vendas\n",
              "ano             1.000000    -0.424745        0.231249 -0.100157\n",
              "comunicacao    -0.424745     1.000000        0.472693  0.877410\n",
              "num_vendedores  0.231249     0.472693        1.000000  0.668776\n",
              "vendas         -0.100157     0.877410        0.668776  1.000000"
            ]
          },
          "metadata": {
            "tags": []
          },
          "execution_count": 110
        }
      ]
    },
    {
      "cell_type": "markdown",
      "metadata": {
        "id": "yj98xKUvEoxL"
      },
      "source": [
        "Existe colinearidade? não"
      ]
    },
    {
      "cell_type": "code",
      "metadata": {
        "id": "pnnZ3qgbE2xy"
      },
      "source": [
        "# Definir variaveis: Y - Vendas (dependente) X - Comunicação e número de vendedores (independentes)\n",
        "x = df[['comunicacao', 'num_vendedores']]\n",
        "y = df['vendas']"
      ],
      "execution_count": null,
      "outputs": []
    },
    {
      "cell_type": "markdown",
      "metadata": {
        "id": "0dAa8mXaFEHp"
      },
      "source": [
        "Treinamento modelo:"
      ]
    },
    {
      "cell_type": "code",
      "metadata": {
        "id": "Et-C3W5OFF1g"
      },
      "source": [
        "#Statsmodel\n",
        "\n",
        "# Importação do pacote\n",
        "import statsmodels.api as sm\n",
        "\n",
        "# Adição de uma coluna para calcular B0\n",
        "x = sm.add_constant(x)\n",
        "\n",
        "# Treinamento do modelo\n",
        "modelo_sm = sm.OLS(y,x).fit()"
      ],
      "execution_count": null,
      "outputs": []
    },
    {
      "cell_type": "code",
      "metadata": {
        "id": "Q5uLog25FWQD"
      },
      "source": [
        "#Scikit-Learn:\n",
        "# Importação do pacote\n",
        "import statsmodels.formula.api as sm\n",
        "\n",
        "# Definições das variáveis dependente e independentes\n",
        "modelo_def = 'vendas~comunicacao+num_vendedores'\n",
        "\n",
        "modelo_sm2 = sm.ols(formula=modelo_def, data=df).fit()"
      ],
      "execution_count": null,
      "outputs": []
    },
    {
      "cell_type": "markdown",
      "metadata": {
        "id": "kFbDetuRFx0O"
      },
      "source": [
        "Coeficientes"
      ]
    },
    {
      "cell_type": "code",
      "metadata": {
        "colab": {
          "base_uri": "https://localhost:8080/"
        },
        "id": "vTqZxdY1F3vE",
        "outputId": "b1835537-0617-408b-f71b-f6b22dd8a803"
      },
      "source": [
        "print(modelo_sm2.params)"
      ],
      "execution_count": null,
      "outputs": [
        {
          "output_type": "stream",
          "text": [
            "Intercept         1.677921\n",
            "comunicacao       7.662948\n",
            "num_vendedores    1.510570\n",
            "dtype: float64\n"
          ],
          "name": "stdout"
        }
      ]
    },
    {
      "cell_type": "markdown",
      "metadata": {
        "id": "jnMrQfGZF97m"
      },
      "source": [
        "Equação que descreve o comportamento:\n",
        "Y = 1,67 + 7,66* X1 + 1,51* X2\n",
        " \n",
        "X1 - Comunicação\n",
        "\n",
        "X2 - Número de vendedores"
      ]
    },
    {
      "cell_type": "markdown",
      "metadata": {
        "id": "Tycn5zQKGGpG"
      },
      "source": [
        "Y previsto pelo modelo"
      ]
    },
    {
      "cell_type": "code",
      "metadata": {
        "colab": {
          "base_uri": "https://localhost:8080/"
        },
        "id": "lly8qTkrEsxo",
        "outputId": "884988a2-1f04-42aa-e8f7-07a4366c2822"
      },
      "source": [
        "y_pred = modelo_sm.predict(x)\n",
        "print(y_pred)"
      ],
      "execution_count": null,
      "outputs": [
        {
          "output_type": "stream",
          "text": [
            "0    89.581621\n",
            "1    63.571638\n",
            "2    68.913682\n",
            "3    81.108338\n",
            "4    81.808573\n",
            "5    83.429243\n",
            "6    78.787434\n",
            "7    54.398121\n",
            "8    85.640047\n",
            "9    62.761304\n",
            "dtype: float64\n"
          ],
          "name": "stdout"
        }
      ]
    },
    {
      "cell_type": "markdown",
      "metadata": {
        "id": "AaIb4SyiGORc"
      },
      "source": [
        "Resíduo"
      ]
    },
    {
      "cell_type": "code",
      "metadata": {
        "colab": {
          "base_uri": "https://localhost:8080/"
        },
        "id": "BsNGWNgKGPJV",
        "outputId": "bc662cc3-0208-4b47-93ef-78bab73c8150"
      },
      "source": [
        "residuo = y_real - y_pred\n",
        "print(residuo)"
      ],
      "execution_count": null,
      "outputs": [
        {
          "output_type": "stream",
          "text": [
            "0     1374.418379\n",
            "1     1330.428362\n",
            "2     1288.086318\n",
            "3     1211.891662\n",
            "4     1174.191427\n",
            "5     1170.570757\n",
            "6     1155.212566\n",
            "7     1140.601879\n",
            "8     1073.359953\n",
            "9     1104.238696\n",
            "10            NaN\n",
            "11            NaN\n",
            "12            NaN\n",
            "13            NaN\n",
            "14            NaN\n",
            "15            NaN\n",
            "16            NaN\n",
            "17            NaN\n",
            "18            NaN\n",
            "19            NaN\n",
            "20            NaN\n",
            "21            NaN\n",
            "22            NaN\n",
            "23            NaN\n",
            "dtype: float64\n"
          ],
          "name": "stdout"
        }
      ]
    },
    {
      "cell_type": "markdown",
      "metadata": {
        "id": "wnQuJle_GUJd"
      },
      "source": [
        "Gráfico de dispersão do ruído"
      ]
    },
    {
      "cell_type": "code",
      "metadata": {
        "colab": {
          "base_uri": "https://localhost:8080/",
          "height": 296
        },
        "id": "z_Ps4_0aGVA7",
        "outputId": "94cb8f4c-57ba-43e8-cd7e-70f171f98fcb"
      },
      "source": [
        "# Importação da biblioteca de visualização\n",
        "import seaborn as sns\n",
        "\n",
        "eixo = sns.scatterplot(x=df.comunicacao, y=residuo)\n",
        "eixo.set_xlabel('Comunicação')\n",
        "eixo.set_ylabel('Resíduo')\n"
      ],
      "execution_count": null,
      "outputs": [
        {
          "output_type": "execute_result",
          "data": {
            "text/plain": [
              "Text(0, 0.5, 'Resíduo')"
            ]
          },
          "metadata": {
            "tags": []
          },
          "execution_count": 117
        },
        {
          "output_type": "display_data",
          "data": {
            "image/png": "[encoded data removed]",
            "text/plain": [
              "<Figure size 432x288 with 1 Axes>"
            ]
          },
          "metadata": {
            "tags": [],
            "needs_background": "light"
          }
        }
      ]
    },
    {
      "cell_type": "code",
      "metadata": {
        "colab": {
          "base_uri": "https://localhost:8080/",
          "height": 297
        },
        "id": "1B5zemU9MLtn",
        "outputId": "582ee003-6224-4bb8-9857-efaee0a5ea58"
      },
      "source": [
        "import seaborn as sns\n",
        "\n",
        "eixo = sns.scatterplot(x=df.num_vendedores, y=residuo)\n",
        "eixo.set_xlabel('num_vendedores')\n",
        "eixo.set_ylabel('Resíduo')"
      ],
      "execution_count": null,
      "outputs": [
        {
          "output_type": "execute_result",
          "data": {
            "text/plain": [
              "Text(0, 0.5, 'Resíduo')"
            ]
          },
          "metadata": {
            "tags": []
          },
          "execution_count": 118
        },
        {
          "output_type": "display_data",
          "data": {
            "image/png": "[encoded data removed]",
            "text/plain": [
              "<Figure size 432x288 with 1 Axes>"
            ]
          },
          "metadata": {
            "tags": [],
            "needs_background": "light"
          }
        }
      ]
    },
    {
      "cell_type": "markdown",
      "metadata": {
        "id": "EbNcgcFXGj2n"
      },
      "source": [
        "Valores R² e R² ajustado:"
      ]
    },
    {
      "cell_type": "code",
      "metadata": {
        "colab": {
          "base_uri": "https://localhost:8080/"
        },
        "id": "_WxDarqeGo6c",
        "outputId": "c0c83580-e9fa-447e-9071-325f146d83aa"
      },
      "source": [
        "print(modelo_sm.summary())"
      ],
      "execution_count": null,
      "outputs": [
        {
          "output_type": "stream",
          "text": [
            "                            OLS Regression Results                            \n",
            "==============================================================================\n",
            "Dep. Variable:                 vendas   R-squared:                       0.853\n",
            "Model:                            OLS   Adj. R-squared:                  0.811\n",
            "Method:                 Least Squares   F-statistic:                     20.30\n",
            "Date:                Fri, 13 Aug 2021   Prob (F-statistic):            0.00122\n",
            "Time:                        20:26:07   Log-Likelihood:                -29.488\n",
            "No. Observations:                  10   AIC:                             64.98\n",
            "Df Residuals:                       7   BIC:                             65.88\n",
            "Df Model:                           2                                         \n",
            "Covariance Type:            nonrobust                                         \n",
            "==================================================================================\n",
            "                     coef    std err          t      P>|t|      [0.025      0.975]\n",
            "----------------------------------------------------------------------------------\n",
            "const              1.6779     11.723      0.143      0.890     -26.043      29.399\n",
            "comunicacao        7.6629      1.744      4.394      0.003       3.540      11.786\n",
            "num_vendedores     1.5106      0.760      1.989      0.087      -0.285       3.307\n",
            "==============================================================================\n",
            "Omnibus:                        0.190   Durbin-Watson:                   1.473\n",
            "Prob(Omnibus):                  0.909   Jarque-Bera (JB):                0.349\n",
            "Skew:                          -0.219   Prob(JB):                        0.840\n",
            "Kurtosis:                       2.197   Cond. No.                         91.5\n",
            "==============================================================================\n",
            "\n",
            "Warnings:\n",
            "[1] Standard Errors assume that the covariance matrix of the errors is correctly specified.\n"
          ],
          "name": "stdout"
        },
        {
          "output_type": "stream",
          "text": [
            "/usr/local/lib/python3.7/dist-packages/scipy/stats/stats.py:1535: UserWarning: kurtosistest only valid for n>=20 ... continuing anyway, n=10\n",
            "  \"anyway, n=%i\" % int(n))\n"
          ],
          "name": "stderr"
        }
      ]
    },
    {
      "cell_type": "markdown",
      "metadata": {
        "id": "EQ4RyUcNGtcw"
      },
      "source": [
        "Significâncias estatísticas dos B"
      ]
    },
    {
      "cell_type": "code",
      "metadata": {
        "colab": {
          "base_uri": "https://localhost:8080/"
        },
        "id": "Z7B8R9LWGoPA",
        "outputId": "81b9c2b2-d082-438c-e2f8-998c5688c054"
      },
      "source": [
        "print(modelo_sm.summary())"
      ],
      "execution_count": null,
      "outputs": [
        {
          "output_type": "stream",
          "text": [
            "                            OLS Regression Results                            \n",
            "==============================================================================\n",
            "Dep. Variable:                 vendas   R-squared:                       0.853\n",
            "Model:                            OLS   Adj. R-squared:                  0.811\n",
            "Method:                 Least Squares   F-statistic:                     20.30\n",
            "Date:                Fri, 13 Aug 2021   Prob (F-statistic):            0.00122\n",
            "Time:                        20:26:10   Log-Likelihood:                -29.488\n",
            "No. Observations:                  10   AIC:                             64.98\n",
            "Df Residuals:                       7   BIC:                             65.88\n",
            "Df Model:                           2                                         \n",
            "Covariance Type:            nonrobust                                         \n",
            "==================================================================================\n",
            "                     coef    std err          t      P>|t|      [0.025      0.975]\n",
            "----------------------------------------------------------------------------------\n",
            "const              1.6779     11.723      0.143      0.890     -26.043      29.399\n",
            "comunicacao        7.6629      1.744      4.394      0.003       3.540      11.786\n",
            "num_vendedores     1.5106      0.760      1.989      0.087      -0.285       3.307\n",
            "==============================================================================\n",
            "Omnibus:                        0.190   Durbin-Watson:                   1.473\n",
            "Prob(Omnibus):                  0.909   Jarque-Bera (JB):                0.349\n",
            "Skew:                          -0.219   Prob(JB):                        0.840\n",
            "Kurtosis:                       2.197   Cond. No.                         91.5\n",
            "==============================================================================\n",
            "\n",
            "Warnings:\n",
            "[1] Standard Errors assume that the covariance matrix of the errors is correctly specified.\n"
          ],
          "name": "stdout"
        },
        {
          "output_type": "stream",
          "text": [
            "/usr/local/lib/python3.7/dist-packages/scipy/stats/stats.py:1535: UserWarning: kurtosistest only valid for n>=20 ... continuing anyway, n=10\n",
            "  \"anyway, n=%i\" % int(n))\n"
          ],
          "name": "stderr"
        }
      ]
    },
    {
      "cell_type": "code",
      "metadata": {
        "id": "VLjmKOOYGXW9"
      },
      "source": [
        ""
      ],
      "execution_count": null,
      "outputs": []
    },
    {
      "cell_type": "markdown",
      "metadata": {
        "id": "_BLhd35TMTFM"
      },
      "source": [
        "### Exercício 05 "
      ]
    },
    {
      "cell_type": "markdown",
      "metadata": {
        "id": "z6jf-rOQMVcy"
      },
      "source": [
        "Crie um modelo de Regressão Linear para prever o preço do índice de ações considerando as duas possíveis variáveis de entrada:\n",
        "\n",
        "* Taxa de juro\n",
        "* Taxa de desemprego"
      ]
    },
    {
      "cell_type": "code",
      "metadata": {
        "id": "y5UwWci9MSog",
        "colab": {
          "base_uri": "https://localhost:8080/",
          "height": 204
        },
        "outputId": "b1a96ce7-dbfc-49cc-f5a5-a2d83f270c99"
      },
      "source": [
        "import pandas as pd\n",
        "\n",
        "mercado_de_acoes = {'ano': [2017,2017,2017,2017,2017,2017,2017,2017,2017,2017,2017,2017,2016,2016,2016,2016,2016,2016,2016,2016,2016,2016,2016,2016],\n",
        "                'mes': [12, 11,10,9,8,7,6,5,4,3,2,1,12,11,10,9,8,7,6,5,4,3,2,1],\n",
        "                'taxa_juro': [2.75,2.5,2.5,2.5,2.5,2.5,2.5,2.25,2.25,2.25,2,2,2,1.75,1.75,1.75,1.75,1.75,1.75,1.75,1.75,1.75,1.75,1.75],\n",
        "                'taxa_desemprego': [5.3,5.3,5.3,5.3,5.4,5.6,5.5,5.5,5.5,5.6,5.7,5.9,6,5.9,5.8,6.1,6.2,6.1,6.1,6.1,5.9,6.2,6.2,6.1],\n",
        "                'preco_indice_acoes': [1464,1394,1357,1293,1256,1254,1234,1195,1159,1167,1130,1075,1047,965,943,958,971,949,884,866,876,822,704,719]        \n",
        "                }\n",
        "\n",
        "df = pd.DataFrame(mercado_de_acoes,columns=['ano','mes','taxa_juro','taxa_desemprego','preco_indice_acoes']) \n",
        "\n",
        "df.head()"
      ],
      "execution_count": null,
      "outputs": [
        {
          "output_type": "execute_result",
          "data": {
            "text/html": [
              "<div>\n",
              "<style scoped>\n",
              "    .dataframe tbody tr th:only-of-type {\n",
              "        vertical-align: middle;\n",
              "    }\n",
              "\n",
              "    .dataframe tbody tr th {\n",
              "        vertical-align: top;\n",
              "    }\n",
              "\n",
              "    .dataframe thead th {\n",
              "        text-align: right;\n",
              "    }\n",
              "</style>\n",
              "<table border=\"1\" class=\"dataframe\">\n",
              "  <thead>\n",
              "    <tr style=\"text-align: right;\">\n",
              "      <th></th>\n",
              "      <th>ano</th>\n",
              "      <th>mes</th>\n",
              "      <th>taxa_juro</th>\n",
              "      <th>taxa_desemprego</th>\n",
              "      <th>preco_indice_acoes</th>\n",
              "    </tr>\n",
              "  </thead>\n",
              "  <tbody>\n",
              "    <tr>\n",
              "      <th>0</th>\n",
              "      <td>2017</td>\n",
              "      <td>12</td>\n",
              "      <td>2.75</td>\n",
              "      <td>5.3</td>\n",
              "      <td>1464</td>\n",
              "    </tr>\n",
              "    <tr>\n",
              "      <th>1</th>\n",
              "      <td>2017</td>\n",
              "      <td>11</td>\n",
              "      <td>2.50</td>\n",
              "      <td>5.3</td>\n",
              "      <td>1394</td>\n",
              "    </tr>\n",
              "    <tr>\n",
              "      <th>2</th>\n",
              "      <td>2017</td>\n",
              "      <td>10</td>\n",
              "      <td>2.50</td>\n",
              "      <td>5.3</td>\n",
              "      <td>1357</td>\n",
              "    </tr>\n",
              "    <tr>\n",
              "      <th>3</th>\n",
              "      <td>2017</td>\n",
              "      <td>9</td>\n",
              "      <td>2.50</td>\n",
              "      <td>5.3</td>\n",
              "      <td>1293</td>\n",
              "    </tr>\n",
              "    <tr>\n",
              "      <th>4</th>\n",
              "      <td>2017</td>\n",
              "      <td>8</td>\n",
              "      <td>2.50</td>\n",
              "      <td>5.4</td>\n",
              "      <td>1256</td>\n",
              "    </tr>\n",
              "  </tbody>\n",
              "</table>\n",
              "</div>"
            ],
            "text/plain": [
              "    ano  mes  taxa_juro  taxa_desemprego  preco_indice_acoes\n",
              "0  2017   12       2.75              5.3                1464\n",
              "1  2017   11       2.50              5.3                1394\n",
              "2  2017   10       2.50              5.3                1357\n",
              "3  2017    9       2.50              5.3                1293\n",
              "4  2017    8       2.50              5.4                1256"
            ]
          },
          "metadata": {
            "tags": []
          },
          "execution_count": 121
        }
      ]
    },
    {
      "cell_type": "markdown",
      "metadata": {
        "id": "dMDxeVenHYCV"
      },
      "source": [
        "Correlacoes "
      ]
    },
    {
      "cell_type": "code",
      "metadata": {
        "colab": {
          "base_uri": "https://localhost:8080/",
          "height": 224
        },
        "id": "0q498tQBHaVE",
        "outputId": "2597ddd6-279e-48ff-e1da-c48908daa255"
      },
      "source": [
        "df.corr()"
      ],
      "execution_count": null,
      "outputs": [
        {
          "output_type": "execute_result",
          "data": {
            "text/html": [
              "<div>\n",
              "<style scoped>\n",
              "    .dataframe tbody tr th:only-of-type {\n",
              "        vertical-align: middle;\n",
              "    }\n",
              "\n",
              "    .dataframe tbody tr th {\n",
              "        vertical-align: top;\n",
              "    }\n",
              "\n",
              "    .dataframe thead th {\n",
              "        text-align: right;\n",
              "    }\n",
              "</style>\n",
              "<table border=\"1\" class=\"dataframe\">\n",
              "  <thead>\n",
              "    <tr style=\"text-align: right;\">\n",
              "      <th></th>\n",
              "      <th>ano</th>\n",
              "      <th>mes</th>\n",
              "      <th>taxa_juro</th>\n",
              "      <th>taxa_desemprego</th>\n",
              "      <th>preco_indice_acoes</th>\n",
              "    </tr>\n",
              "  </thead>\n",
              "  <tbody>\n",
              "    <tr>\n",
              "      <th>ano</th>\n",
              "      <td>1.000000</td>\n",
              "      <td>0.000000</td>\n",
              "      <td>0.882851</td>\n",
              "      <td>-0.877000</td>\n",
              "      <td>0.863232</td>\n",
              "    </tr>\n",
              "    <tr>\n",
              "      <th>mes</th>\n",
              "      <td>0.000000</td>\n",
              "      <td>1.000000</td>\n",
              "      <td>0.339526</td>\n",
              "      <td>-0.351189</td>\n",
              "      <td>0.481287</td>\n",
              "    </tr>\n",
              "    <tr>\n",
              "      <th>taxa_juro</th>\n",
              "      <td>0.882851</td>\n",
              "      <td>0.339526</td>\n",
              "      <td>1.000000</td>\n",
              "      <td>-0.925814</td>\n",
              "      <td>0.935793</td>\n",
              "    </tr>\n",
              "    <tr>\n",
              "      <th>taxa_desemprego</th>\n",
              "      <td>-0.877000</td>\n",
              "      <td>-0.351189</td>\n",
              "      <td>-0.925814</td>\n",
              "      <td>1.000000</td>\n",
              "      <td>-0.922338</td>\n",
              "    </tr>\n",
              "    <tr>\n",
              "      <th>preco_indice_acoes</th>\n",
              "      <td>0.863232</td>\n",
              "      <td>0.481287</td>\n",
              "      <td>0.935793</td>\n",
              "      <td>-0.922338</td>\n",
              "      <td>1.000000</td>\n",
              "    </tr>\n",
              "  </tbody>\n",
              "</table>\n",
              "</div>"
            ],
            "text/plain": [
              "                         ano       mes  ...  taxa_desemprego  preco_indice_acoes\n",
              "ano                 1.000000  0.000000  ...        -0.877000            0.863232\n",
              "mes                 0.000000  1.000000  ...        -0.351189            0.481287\n",
              "taxa_juro           0.882851  0.339526  ...        -0.925814            0.935793\n",
              "taxa_desemprego    -0.877000 -0.351189  ...         1.000000           -0.922338\n",
              "preco_indice_acoes  0.863232  0.481287  ...        -0.922338            1.000000\n",
              "\n",
              "[5 rows x 5 columns]"
            ]
          },
          "metadata": {
            "tags": []
          },
          "execution_count": 122
        }
      ]
    },
    {
      "cell_type": "markdown",
      "metadata": {
        "id": "QxY7dcXYIbUD"
      },
      "source": [
        "Existe colinearidade? Sim"
      ]
    },
    {
      "cell_type": "code",
      "metadata": {
        "colab": {
          "base_uri": "https://localhost:8080/"
        },
        "id": "hHZlL8tTIilO",
        "outputId": "6c14812d-66ca-4f02-fabe-ae536c6eb6a4"
      },
      "source": [
        "df.taxa_juro.corr(df.taxa_desemprego)"
      ],
      "execution_count": null,
      "outputs": [
        {
          "output_type": "execute_result",
          "data": {
            "text/plain": [
              "-0.925813677330288"
            ]
          },
          "metadata": {
            "tags": []
          },
          "execution_count": 123
        }
      ]
    },
    {
      "cell_type": "code",
      "metadata": {
        "id": "2RYZMJYILO06"
      },
      "source": [
        "# Definir variaveis: Y - Preço do índice de ações (dependente) X - Taxa de juro e taxa de desemprego (independentes)\n",
        "x = df[['taxa_juro','taxa_desemprego']]\n",
        "y = df['preco_indice_acoes']"
      ],
      "execution_count": null,
      "outputs": []
    },
    {
      "cell_type": "markdown",
      "metadata": {
        "id": "wpDmF0-9LUqA"
      },
      "source": [
        "Treinamento do modelo"
      ]
    },
    {
      "cell_type": "code",
      "metadata": {
        "id": "XO5m9XEeLWQ2"
      },
      "source": [
        "# Importação da biblioteca\n",
        "import statsmodels.api as sm\n",
        "\n",
        "# Adição da constante para calcular B0\n",
        "x = sm.add_constant(x)\n",
        "\n",
        "# Treinamento do modelo\n",
        "modelo = sm.OLS(y,x).fit()"
      ],
      "execution_count": null,
      "outputs": []
    },
    {
      "cell_type": "markdown",
      "metadata": {
        "id": "MLa5kzJILY56"
      },
      "source": [
        "Coeficientes:"
      ]
    },
    {
      "cell_type": "code",
      "metadata": {
        "colab": {
          "base_uri": "https://localhost:8080/"
        },
        "id": "R5WhQX5lLbRb",
        "outputId": "a4c7b274-382f-48c0-b8ad-7de6daa0de41"
      },
      "source": [
        "print(modelo.params)"
      ],
      "execution_count": null,
      "outputs": [
        {
          "output_type": "stream",
          "text": [
            "const              1798.403978\n",
            "taxa_juro           345.540087\n",
            "taxa_desemprego    -250.146571\n",
            "dtype: float64\n"
          ],
          "name": "stdout"
        }
      ]
    },
    {
      "cell_type": "markdown",
      "metadata": {
        "id": "WVhLFOItLd0_"
      },
      "source": [
        "Equação que descreve o comportamento:\n",
        "Y = 1798.40 + 345.54 * X1 - 250.14 * X2\n",
        " "
      ]
    },
    {
      "cell_type": "markdown",
      "metadata": {
        "id": "wvneUdW7Liww"
      },
      "source": [
        "Y previsto pelo modelo:"
      ]
    },
    {
      "cell_type": "code",
      "metadata": {
        "colab": {
          "base_uri": "https://localhost:8080/"
        },
        "id": "Av7snA8ILkQQ",
        "outputId": "f4b9fe19-2415-46e9-fde5-d1d4933f52f2"
      },
      "source": [
        "y_pred = modelo.predict(x)\n",
        "print(y_pred)"
      ],
      "execution_count": null,
      "outputs": [
        {
          "output_type": "stream",
          "text": [
            "0     1422.862389\n",
            "1     1336.477367\n",
            "2     1336.477367\n",
            "3     1336.477367\n",
            "4     1311.462710\n",
            "5     1261.433395\n",
            "6     1286.448053\n",
            "7     1200.063031\n",
            "8     1200.063031\n",
            "9     1175.048374\n",
            "10    1063.648695\n",
            "11    1013.619381\n",
            "12     988.604723\n",
            "13     927.234359\n",
            "14     952.249016\n",
            "15     877.205045\n",
            "16     852.190387\n",
            "17     877.205045\n",
            "18     877.205045\n",
            "19     877.205045\n",
            "20     927.234359\n",
            "21     852.190387\n",
            "22     852.190387\n",
            "23     877.205045\n",
            "dtype: float64\n"
          ],
          "name": "stdout"
        }
      ]
    },
    {
      "cell_type": "markdown",
      "metadata": {
        "id": "CZdo3kD_LoHc"
      },
      "source": [
        "Resíduo"
      ]
    },
    {
      "cell_type": "code",
      "metadata": {
        "colab": {
          "base_uri": "https://localhost:8080/"
        },
        "id": "oPKLFEonLo6G",
        "outputId": "9a138bd6-c51f-4a5f-f93d-773232a10cc5"
      },
      "source": [
        "y_real = y\n",
        "residuo = y_real - y_pred\n",
        "print(residuo)"
      ],
      "execution_count": null,
      "outputs": [
        {
          "output_type": "stream",
          "text": [
            "0      41.137611\n",
            "1      57.522633\n",
            "2      20.522633\n",
            "3     -43.477367\n",
            "4     -55.462710\n",
            "5      -7.433395\n",
            "6     -52.448053\n",
            "7      -5.063031\n",
            "8     -41.063031\n",
            "9      -8.048374\n",
            "10     66.351305\n",
            "11     61.380619\n",
            "12     58.395277\n",
            "13     37.765641\n",
            "14     -9.249016\n",
            "15     80.794955\n",
            "16    118.809613\n",
            "17     71.794955\n",
            "18      6.794955\n",
            "19    -11.205045\n",
            "20    -51.234359\n",
            "21    -30.190387\n",
            "22   -148.190387\n",
            "23   -158.205045\n",
            "dtype: float64\n"
          ],
          "name": "stdout"
        }
      ]
    },
    {
      "cell_type": "markdown",
      "metadata": {
        "id": "RIT93gkKLuGI"
      },
      "source": [
        "Gráfico de dispersão do ruído:"
      ]
    },
    {
      "cell_type": "code",
      "metadata": {
        "colab": {
          "base_uri": "https://localhost:8080/",
          "height": 296
        },
        "id": "IeWVMsKWLusQ",
        "outputId": "c4726abd-97fd-4185-a120-99253ce7fd57"
      },
      "source": [
        "# Importação da biblioteca de visualização\n",
        "import seaborn as sns\n",
        "\n",
        "eixo = sns.scatterplot(x=df.taxa_juro, y=residuo)\n",
        "eixo.set_xlabel('Taxa de juro')\n",
        "eixo.set_ylabel('Resíduo')"
      ],
      "execution_count": null,
      "outputs": [
        {
          "output_type": "execute_result",
          "data": {
            "text/plain": [
              "Text(0, 0.5, 'Resíduo')"
            ]
          },
          "metadata": {
            "tags": []
          },
          "execution_count": 129
        },
        {
          "output_type": "display_data",
          "data": {
            "image/png": "[encoded data removed]",
            "text/plain": [
              "<Figure size 432x288 with 1 Axes>"
            ]
          },
          "metadata": {
            "tags": [],
            "needs_background": "light"
          }
        }
      ]
    },
    {
      "cell_type": "code",
      "metadata": {
        "colab": {
          "base_uri": "https://localhost:8080/",
          "height": 296
        },
        "id": "7tiosQt8L75h",
        "outputId": "47f343fa-a8bc-46df-e64d-a8a54bf3c71c"
      },
      "source": [
        "import seaborn as sns\n",
        "\n",
        "eixo = sns.scatterplot(x=df.taxa_desemprego, y=residuo)\n",
        "eixo.set_xlabel('Taxa de desemprego')\n",
        "eixo.set_ylabel('Resíduo')"
      ],
      "execution_count": null,
      "outputs": [
        {
          "output_type": "execute_result",
          "data": {
            "text/plain": [
              "Text(0, 0.5, 'Resíduo')"
            ]
          },
          "metadata": {
            "tags": []
          },
          "execution_count": 130
        },
        {
          "output_type": "display_data",
          "data": {
            "image/png": "[encoded data removed]",
            "text/plain": [
              "<Figure size 432x288 with 1 Axes>"
            ]
          },
          "metadata": {
            "tags": [],
            "needs_background": "light"
          }
        }
      ]
    },
    {
      "cell_type": "markdown",
      "metadata": {
        "id": "XGc--T0NL_Em"
      },
      "source": [
        "Valores de R² e R² ajustado"
      ]
    },
    {
      "cell_type": "code",
      "metadata": {
        "colab": {
          "base_uri": "https://localhost:8080/"
        },
        "id": "pmz39-_tMCF2",
        "outputId": "91d7c783-1c25-41bb-fd56-42cb2fb7a3a1"
      },
      "source": [
        "print(modelo.summary())"
      ],
      "execution_count": null,
      "outputs": [
        {
          "output_type": "stream",
          "text": [
            "                            OLS Regression Results                            \n",
            "==============================================================================\n",
            "Dep. Variable:     preco_indice_acoes   R-squared:                       0.898\n",
            "Model:                            OLS   Adj. R-squared:                  0.888\n",
            "Method:                 Least Squares   F-statistic:                     92.07\n",
            "Date:                Fri, 13 Aug 2021   Prob (F-statistic):           4.04e-11\n",
            "Time:                        20:26:40   Log-Likelihood:                -134.61\n",
            "No. Observations:                  24   AIC:                             275.2\n",
            "Df Residuals:                      21   BIC:                             278.8\n",
            "Df Model:                           2                                         \n",
            "Covariance Type:            nonrobust                                         \n",
            "===================================================================================\n",
            "                      coef    std err          t      P>|t|      [0.025      0.975]\n",
            "-----------------------------------------------------------------------------------\n",
            "const            1798.4040    899.248      2.000      0.059     -71.685    3668.493\n",
            "taxa_juro         345.5401    111.367      3.103      0.005     113.940     577.140\n",
            "taxa_desemprego  -250.1466    117.950     -2.121      0.046    -495.437      -4.856\n",
            "==============================================================================\n",
            "Omnibus:                        2.691   Durbin-Watson:                   0.530\n",
            "Prob(Omnibus):                  0.260   Jarque-Bera (JB):                1.551\n",
            "Skew:                          -0.612   Prob(JB):                        0.461\n",
            "Kurtosis:                       3.226   Cond. No.                         394.\n",
            "==============================================================================\n",
            "\n",
            "Warnings:\n",
            "[1] Standard Errors assume that the covariance matrix of the errors is correctly specified.\n"
          ],
          "name": "stdout"
        }
      ]
    },
    {
      "cell_type": "markdown",
      "metadata": {
        "id": "sG7gHDDjMDr2"
      },
      "source": [
        "Significâncias estatísticas dos B:"
      ]
    },
    {
      "cell_type": "code",
      "metadata": {
        "colab": {
          "base_uri": "https://localhost:8080/"
        },
        "id": "XFdd696BMF7R",
        "outputId": "476b0440-a8a1-4aca-fa8e-9bdafbcd68da"
      },
      "source": [
        "print(modelo.summary())"
      ],
      "execution_count": null,
      "outputs": [
        {
          "output_type": "stream",
          "text": [
            "                            OLS Regression Results                            \n",
            "==============================================================================\n",
            "Dep. Variable:     preco_indice_acoes   R-squared:                       0.898\n",
            "Model:                            OLS   Adj. R-squared:                  0.888\n",
            "Method:                 Least Squares   F-statistic:                     92.07\n",
            "Date:                Fri, 13 Aug 2021   Prob (F-statistic):           4.04e-11\n",
            "Time:                        20:26:43   Log-Likelihood:                -134.61\n",
            "No. Observations:                  24   AIC:                             275.2\n",
            "Df Residuals:                      21   BIC:                             278.8\n",
            "Df Model:                           2                                         \n",
            "Covariance Type:            nonrobust                                         \n",
            "===================================================================================\n",
            "                      coef    std err          t      P>|t|      [0.025      0.975]\n",
            "-----------------------------------------------------------------------------------\n",
            "const            1798.4040    899.248      2.000      0.059     -71.685    3668.493\n",
            "taxa_juro         345.5401    111.367      3.103      0.005     113.940     577.140\n",
            "taxa_desemprego  -250.1466    117.950     -2.121      0.046    -495.437      -4.856\n",
            "==============================================================================\n",
            "Omnibus:                        2.691   Durbin-Watson:                   0.530\n",
            "Prob(Omnibus):                  0.260   Jarque-Bera (JB):                1.551\n",
            "Skew:                          -0.612   Prob(JB):                        0.461\n",
            "Kurtosis:                       3.226   Cond. No.                         394.\n",
            "==============================================================================\n",
            "\n",
            "Warnings:\n",
            "[1] Standard Errors assume that the covariance matrix of the errors is correctly specified.\n"
          ],
          "name": "stdout"
        }
      ]
    },
    {
      "cell_type": "markdown",
      "metadata": {
        "id": "RuyDRYWgycMi"
      },
      "source": [
        "### Exercício 06 "
      ]
    },
    {
      "cell_type": "markdown",
      "metadata": {
        "id": "EyW2avMj0VAt"
      },
      "source": [
        "Considere um experimento em que se analisa a octanagem da gasolina em função da adição de um novo aditivo (em %). Descreva um modelo de regressão linear para descrever esse comportamento. "
      ]
    },
    {
      "cell_type": "code",
      "metadata": {
        "id": "BHxYLKjn0PjQ",
        "colab": {
          "base_uri": "https://localhost:8080/",
          "height": 204
        },
        "outputId": "e90b5062-677c-482a-eb2e-85f7979a7955"
      },
      "source": [
        "import pandas as pd\n",
        "\n",
        "df = pd.DataFrame({'octanagem':[80.5,81.6,82.1,83.7,83.9,85],\n",
        "                   'aditivo':[1,2,3,4,5,6]})\n",
        "df.head()"
      ],
      "execution_count": null,
      "outputs": [
        {
          "output_type": "execute_result",
          "data": {
            "text/html": [
              "<div>\n",
              "<style scoped>\n",
              "    .dataframe tbody tr th:only-of-type {\n",
              "        vertical-align: middle;\n",
              "    }\n",
              "\n",
              "    .dataframe tbody tr th {\n",
              "        vertical-align: top;\n",
              "    }\n",
              "\n",
              "    .dataframe thead th {\n",
              "        text-align: right;\n",
              "    }\n",
              "</style>\n",
              "<table border=\"1\" class=\"dataframe\">\n",
              "  <thead>\n",
              "    <tr style=\"text-align: right;\">\n",
              "      <th></th>\n",
              "      <th>octanagem</th>\n",
              "      <th>aditivo</th>\n",
              "    </tr>\n",
              "  </thead>\n",
              "  <tbody>\n",
              "    <tr>\n",
              "      <th>0</th>\n",
              "      <td>80.5</td>\n",
              "      <td>1</td>\n",
              "    </tr>\n",
              "    <tr>\n",
              "      <th>1</th>\n",
              "      <td>81.6</td>\n",
              "      <td>2</td>\n",
              "    </tr>\n",
              "    <tr>\n",
              "      <th>2</th>\n",
              "      <td>82.1</td>\n",
              "      <td>3</td>\n",
              "    </tr>\n",
              "    <tr>\n",
              "      <th>3</th>\n",
              "      <td>83.7</td>\n",
              "      <td>4</td>\n",
              "    </tr>\n",
              "    <tr>\n",
              "      <th>4</th>\n",
              "      <td>83.9</td>\n",
              "      <td>5</td>\n",
              "    </tr>\n",
              "  </tbody>\n",
              "</table>\n",
              "</div>"
            ],
            "text/plain": [
              "   octanagem  aditivo\n",
              "0       80.5        1\n",
              "1       81.6        2\n",
              "2       82.1        3\n",
              "3       83.7        4\n",
              "4       83.9        5"
            ]
          },
          "metadata": {
            "tags": []
          },
          "execution_count": 133
        }
      ]
    },
    {
      "cell_type": "markdown",
      "metadata": {
        "id": "8MJemM5yMuUo"
      },
      "source": [
        "Correlações"
      ]
    },
    {
      "cell_type": "code",
      "metadata": {
        "colab": {
          "base_uri": "https://localhost:8080/",
          "height": 111
        },
        "id": "oOrdGRcTMvo2",
        "outputId": "887628fe-b932-4fa5-ad18-6bc9670b2da4"
      },
      "source": [
        "df.corr()"
      ],
      "execution_count": null,
      "outputs": [
        {
          "output_type": "execute_result",
          "data": {
            "text/html": [
              "<div>\n",
              "<style scoped>\n",
              "    .dataframe tbody tr th:only-of-type {\n",
              "        vertical-align: middle;\n",
              "    }\n",
              "\n",
              "    .dataframe tbody tr th {\n",
              "        vertical-align: top;\n",
              "    }\n",
              "\n",
              "    .dataframe thead th {\n",
              "        text-align: right;\n",
              "    }\n",
              "</style>\n",
              "<table border=\"1\" class=\"dataframe\">\n",
              "  <thead>\n",
              "    <tr style=\"text-align: right;\">\n",
              "      <th></th>\n",
              "      <th>octanagem</th>\n",
              "      <th>aditivo</th>\n",
              "    </tr>\n",
              "  </thead>\n",
              "  <tbody>\n",
              "    <tr>\n",
              "      <th>octanagem</th>\n",
              "      <td>1.000000</td>\n",
              "      <td>0.987441</td>\n",
              "    </tr>\n",
              "    <tr>\n",
              "      <th>aditivo</th>\n",
              "      <td>0.987441</td>\n",
              "      <td>1.000000</td>\n",
              "    </tr>\n",
              "  </tbody>\n",
              "</table>\n",
              "</div>"
            ],
            "text/plain": [
              "           octanagem   aditivo\n",
              "octanagem   1.000000  0.987441\n",
              "aditivo     0.987441  1.000000"
            ]
          },
          "metadata": {
            "tags": []
          },
          "execution_count": 134
        }
      ]
    },
    {
      "cell_type": "markdown",
      "metadata": {
        "id": "9Zay-sTXMzLN"
      },
      "source": [
        "Existe colinariedade? não "
      ]
    },
    {
      "cell_type": "code",
      "metadata": {
        "colab": {
          "base_uri": "https://localhost:8080/"
        },
        "id": "qimsb3HOM1Gx",
        "outputId": "be14a350-efb8-4933-b6f0-ddbe5e94bbc2"
      },
      "source": [
        "df.octanagem.corr(df.aditivo)"
      ],
      "execution_count": null,
      "outputs": [
        {
          "output_type": "execute_result",
          "data": {
            "text/plain": [
              "0.9874414334103997"
            ]
          },
          "metadata": {
            "tags": []
          },
          "execution_count": 135
        }
      ]
    },
    {
      "cell_type": "code",
      "metadata": {
        "id": "ZH1aMi-ZM9VL"
      },
      "source": [
        "# variaveis \n",
        "y = df['octanagem']\n",
        "x = df[['aditivo']]"
      ],
      "execution_count": null,
      "outputs": []
    },
    {
      "cell_type": "markdown",
      "metadata": {
        "id": "UdpVtzidNFv1"
      },
      "source": [
        "Treinando modelo"
      ]
    },
    {
      "cell_type": "code",
      "metadata": {
        "id": "narLjwxtNHiW"
      },
      "source": [
        "# Importação da biblioteca\n",
        "import statsmodels.api as sm\n",
        "\n",
        "# Adição da constante para calcular B0\n",
        "x = sm.add_constant(x)\n",
        "\n",
        "# Treinamento do modelo\n",
        "modelo = sm.OLS(y,x).fit()"
      ],
      "execution_count": null,
      "outputs": []
    },
    {
      "cell_type": "markdown",
      "metadata": {
        "id": "UOKKhPZsNKWk"
      },
      "source": [
        "Coeficientes"
      ]
    },
    {
      "cell_type": "code",
      "metadata": {
        "colab": {
          "base_uri": "https://localhost:8080/"
        },
        "id": "7Q6ggQLyNLwz",
        "outputId": "57ca9b63-a94f-4e50-a681-2ceadfbc100a"
      },
      "source": [
        "print(modelo.params)"
      ],
      "execution_count": null,
      "outputs": [
        {
          "output_type": "stream",
          "text": [
            "const      79.700000\n",
            "aditivo     0.885714\n",
            "dtype: float64\n"
          ],
          "name": "stdout"
        }
      ]
    },
    {
      "cell_type": "markdown",
      "metadata": {
        "id": "7A-17amONP-t"
      },
      "source": [
        "Previsão do x"
      ]
    },
    {
      "cell_type": "code",
      "metadata": {
        "id": "4XLThY6wNSGK"
      },
      "source": [
        "y_pred = modelo.predict (x)"
      ],
      "execution_count": null,
      "outputs": []
    },
    {
      "cell_type": "markdown",
      "metadata": {
        "id": "hF_43ERENUXs"
      },
      "source": [
        "Residuo"
      ]
    },
    {
      "cell_type": "code",
      "metadata": {
        "id": "Bms55Nk9NVMd"
      },
      "source": [
        "residuo = y - y_pred"
      ],
      "execution_count": null,
      "outputs": []
    },
    {
      "cell_type": "markdown",
      "metadata": {
        "id": "268CKQKtNEW6"
      },
      "source": [
        "Visualização do R² e R² ajustado:"
      ]
    },
    {
      "cell_type": "code",
      "metadata": {
        "colab": {
          "base_uri": "https://localhost:8080/"
        },
        "id": "-xUFgOWMNeRp",
        "outputId": "fdc6680c-5ad5-4985-dda2-6b608361c702"
      },
      "source": [
        "print(modelo.summary())"
      ],
      "execution_count": null,
      "outputs": [
        {
          "output_type": "stream",
          "text": [
            "                            OLS Regression Results                            \n",
            "==============================================================================\n",
            "Dep. Variable:              octanagem   R-squared:                       0.975\n",
            "Model:                            OLS   Adj. R-squared:                  0.969\n",
            "Method:                 Least Squares   F-statistic:                     156.3\n",
            "Date:                Fri, 13 Aug 2021   Prob (F-statistic):           0.000236\n",
            "Time:                        20:31:02   Log-Likelihood:             -0.0011064\n",
            "No. Observations:                   6   AIC:                             4.002\n",
            "Df Residuals:                       4   BIC:                             3.586\n",
            "Df Model:                           1                                         \n",
            "Covariance Type:            nonrobust                                         \n",
            "==============================================================================\n",
            "                 coef    std err          t      P>|t|      [0.025      0.975]\n",
            "------------------------------------------------------------------------------\n",
            "const         79.7000      0.276    288.831      0.000      78.934      80.466\n",
            "aditivo        0.8857      0.071     12.500      0.000       0.689       1.082\n",
            "==============================================================================\n",
            "Omnibus:                          nan   Durbin-Watson:                   3.474\n",
            "Prob(Omnibus):                    nan   Jarque-Bera (JB):                0.708\n",
            "Skew:                           0.800   Prob(JB):                        0.702\n",
            "Kurtosis:                       2.483   Cond. No.                         9.36\n",
            "==============================================================================\n",
            "\n",
            "Warnings:\n",
            "[1] Standard Errors assume that the covariance matrix of the errors is correctly specified.\n"
          ],
          "name": "stdout"
        },
        {
          "output_type": "stream",
          "text": [
            "/usr/local/lib/python3.7/dist-packages/statsmodels/stats/stattools.py:71: ValueWarning: omni_normtest is not valid with less than 8 observations; 6 samples were given.\n",
            "  \"samples were given.\" % int(n), ValueWarning)\n"
          ],
          "name": "stderr"
        }
      ]
    },
    {
      "cell_type": "markdown",
      "metadata": {
        "id": "OdTdnBS4NiVp"
      },
      "source": [
        "Grafico do Residuo:"
      ]
    },
    {
      "cell_type": "code",
      "metadata": {
        "colab": {
          "base_uri": "https://localhost:8080/",
          "height": 296
        },
        "id": "YxSA-yWUNkxR",
        "outputId": "c3047306-c58c-4e3d-adef-a0d7ea765169"
      },
      "source": [
        "import seaborn as sns\n",
        "\n",
        "eixo = sns.scatterplot(x = df.aditivo, y = residuo)\n",
        "eixo.set_xlabel('Aditivo')\n",
        "eixo.set_ylabel('Residuo')"
      ],
      "execution_count": null,
      "outputs": [
        {
          "output_type": "execute_result",
          "data": {
            "text/plain": [
              "Text(0, 0.5, 'Residuo')"
            ]
          },
          "metadata": {
            "tags": []
          },
          "execution_count": 142
        },
        {
          "output_type": "display_data",
          "data": {
            "image/png": "[encoded data removed]",
            "text/plain": [
              "<Figure size 432x288 with 1 Axes>"
            ]
          },
          "metadata": {
            "tags": [],
            "needs_background": "light"
          }
        }
      ]
    },
    {
      "cell_type": "markdown",
      "metadata": {
        "id": "eh20aPfj3Xok"
      },
      "source": [
        "### Exercício 07"
      ]
    },
    {
      "cell_type": "markdown",
      "metadata": {
        "id": "XrUfwXij3Zvh"
      },
      "source": [
        "Foram coletadas as informações de consumo de água e de temperatura em uma determinada empresa. Crie um modelo capaz de relacionar as variáveis."
      ]
    },
    {
      "cell_type": "code",
      "metadata": {
        "id": "FUM4YVn16FXZ",
        "colab": {
          "base_uri": "https://localhost:8080/",
          "height": 204
        },
        "outputId": "7a39a9bb-4af9-4e46-ebf3-0bfc170aabb8"
      },
      "source": [
        "import pandas as pd\n",
        "\n",
        "df = pd.DataFrame({'temperatura':[77,86,71,75,85,83,72,79,89,80,84,76],\n",
        "                   'consumo':[89,171,58,76,139,130,78,115,182,130,154,105]})\n",
        "df.head()"
      ],
      "execution_count": null,
      "outputs": [
        {
          "output_type": "execute_result",
          "data": {
            "text/html": [
              "<div>\n",
              "<style scoped>\n",
              "    .dataframe tbody tr th:only-of-type {\n",
              "        vertical-align: middle;\n",
              "    }\n",
              "\n",
              "    .dataframe tbody tr th {\n",
              "        vertical-align: top;\n",
              "    }\n",
              "\n",
              "    .dataframe thead th {\n",
              "        text-align: right;\n",
              "    }\n",
              "</style>\n",
              "<table border=\"1\" class=\"dataframe\">\n",
              "  <thead>\n",
              "    <tr style=\"text-align: right;\">\n",
              "      <th></th>\n",
              "      <th>temperatura</th>\n",
              "      <th>consumo</th>\n",
              "    </tr>\n",
              "  </thead>\n",
              "  <tbody>\n",
              "    <tr>\n",
              "      <th>0</th>\n",
              "      <td>77</td>\n",
              "      <td>89</td>\n",
              "    </tr>\n",
              "    <tr>\n",
              "      <th>1</th>\n",
              "      <td>86</td>\n",
              "      <td>171</td>\n",
              "    </tr>\n",
              "    <tr>\n",
              "      <th>2</th>\n",
              "      <td>71</td>\n",
              "      <td>58</td>\n",
              "    </tr>\n",
              "    <tr>\n",
              "      <th>3</th>\n",
              "      <td>75</td>\n",
              "      <td>76</td>\n",
              "    </tr>\n",
              "    <tr>\n",
              "      <th>4</th>\n",
              "      <td>85</td>\n",
              "      <td>139</td>\n",
              "    </tr>\n",
              "  </tbody>\n",
              "</table>\n",
              "</div>"
            ],
            "text/plain": [
              "   temperatura  consumo\n",
              "0           77       89\n",
              "1           86      171\n",
              "2           71       58\n",
              "3           75       76\n",
              "4           85      139"
            ]
          },
          "metadata": {
            "tags": []
          },
          "execution_count": 143
        }
      ]
    },
    {
      "cell_type": "markdown",
      "metadata": {
        "id": "N17Nk0DZOJAX"
      },
      "source": [
        "Colinearidade? não"
      ]
    },
    {
      "cell_type": "markdown",
      "metadata": {
        "id": "xgQgnoSSOARh"
      },
      "source": [
        "Correlações"
      ]
    },
    {
      "cell_type": "code",
      "metadata": {
        "colab": {
          "base_uri": "https://localhost:8080/"
        },
        "id": "IJjm58DkOBrH",
        "outputId": "2286505d-8fe8-457c-d108-1299274fa266"
      },
      "source": [
        "df.temperatura.corr(df.consumo)"
      ],
      "execution_count": null,
      "outputs": [
        {
          "output_type": "execute_result",
          "data": {
            "text/plain": [
              "0.9673725707277718"
            ]
          },
          "metadata": {
            "tags": []
          },
          "execution_count": 144
        }
      ]
    },
    {
      "cell_type": "code",
      "metadata": {
        "id": "D08FmdBbOOpF"
      },
      "source": [
        "#variaives\n",
        "y = df.consumo\n",
        "x = df[['temperatura']]"
      ],
      "execution_count": null,
      "outputs": []
    },
    {
      "cell_type": "markdown",
      "metadata": {
        "id": "ZBpSFkMPOUbR"
      },
      "source": [
        "Treinando modelo:"
      ]
    },
    {
      "cell_type": "code",
      "metadata": {
        "id": "xzXNrFaIOZZ-"
      },
      "source": [
        "# Importação da biblioteca\n",
        "import statsmodels.api as sm\n",
        "\n",
        "# Adição da constante - para calcular b0\n",
        "x = sm.add_constant(x)\n",
        "\n",
        "# Treinamento do modelo\n",
        "modelo = sm.OLS(y,x).fit()"
      ],
      "execution_count": null,
      "outputs": []
    },
    {
      "cell_type": "markdown",
      "metadata": {
        "id": "yzvCKarkO-Qi"
      },
      "source": [
        "Coeficientes"
      ]
    },
    {
      "cell_type": "code",
      "metadata": {
        "colab": {
          "base_uri": "https://localhost:8080/"
        },
        "id": "vVhTb_coOgwI",
        "outputId": "88cba4e1-5202-4dd0-f86d-c93f1d741ec0"
      },
      "source": [
        "print(modelo.params)"
      ],
      "execution_count": null,
      "outputs": [
        {
          "output_type": "stream",
          "text": [
            "const         -408.071774\n",
            "temperatura      6.608006\n",
            "dtype: float64\n"
          ],
          "name": "stdout"
        }
      ]
    },
    {
      "cell_type": "markdown",
      "metadata": {
        "id": "t2JEMTz3OxKb"
      },
      "source": [
        "Equação que descreve o modelo Y = 6.61* X1 - 408.071"
      ]
    },
    {
      "cell_type": "markdown",
      "metadata": {
        "id": "aFu_Lg0lPFuu"
      },
      "source": [
        "Y previsto modelo "
      ]
    },
    {
      "cell_type": "code",
      "metadata": {
        "id": "EPAnYU4pPJD7"
      },
      "source": [
        "y_pred = modelo.predict(x)\n"
      ],
      "execution_count": null,
      "outputs": []
    },
    {
      "cell_type": "markdown",
      "metadata": {
        "id": "yx7GPGoQPR6h"
      },
      "source": [
        "Residuo"
      ]
    },
    {
      "cell_type": "code",
      "metadata": {
        "id": "1av0hEsmPTMZ"
      },
      "source": [
        "residuo = y - y_pred"
      ],
      "execution_count": null,
      "outputs": []
    },
    {
      "cell_type": "markdown",
      "metadata": {
        "id": "Msq-k7bLPcJe"
      },
      "source": [
        "Gráfico de dispersão do resíduo"
      ]
    },
    {
      "cell_type": "code",
      "metadata": {
        "colab": {
          "base_uri": "https://localhost:8080/",
          "height": 296
        },
        "id": "D0QVryxYPeqP",
        "outputId": "436c6cbc-cc1a-4551-9601-5b68da5cff39"
      },
      "source": [
        "# Importação da biblioteca de visualização\n",
        "import seaborn as sns\n",
        "\n",
        "sns.scatterplot(x=df['temperatura'],y=residuo)"
      ],
      "execution_count": null,
      "outputs": [
        {
          "output_type": "execute_result",
          "data": {
            "text/plain": [
              "<matplotlib.axes._subplots.AxesSubplot at 0x7ff118f77650>"
            ]
          },
          "metadata": {
            "tags": []
          },
          "execution_count": 150
        },
        {
          "output_type": "display_data",
          "data": {
            "image/png": "[encoded data removed]",
            "text/plain": [
              "<Figure size 432x288 with 1 Axes>"
            ]
          },
          "metadata": {
            "tags": [],
            "needs_background": "light"
          }
        }
      ]
    },
    {
      "cell_type": "markdown",
      "metadata": {
        "id": "b_W1qZ1rPi6o"
      },
      "source": [
        "Valores de R² e R² ajustado"
      ]
    },
    {
      "cell_type": "code",
      "metadata": {
        "colab": {
          "base_uri": "https://localhost:8080/"
        },
        "id": "ipKuHMENPk0g",
        "outputId": "dacdbf66-9bc8-4575-c702-0c67e93be0f7"
      },
      "source": [
        "print(modelo.summary())"
      ],
      "execution_count": null,
      "outputs": [
        {
          "output_type": "stream",
          "text": [
            "                            OLS Regression Results                            \n",
            "==============================================================================\n",
            "Dep. Variable:                consumo   R-squared:                       0.936\n",
            "Model:                            OLS   Adj. R-squared:                  0.929\n",
            "Method:                 Least Squares   F-statistic:                     145.8\n",
            "Date:                Fri, 13 Aug 2021   Prob (F-statistic):           2.76e-07\n",
            "Time:                        20:40:12   Log-Likelihood:                -44.054\n",
            "No. Observations:                  12   AIC:                             92.11\n",
            "Df Residuals:                      10   BIC:                             93.08\n",
            "Df Model:                           1                                         \n",
            "Covariance Type:            nonrobust                                         \n",
            "===============================================================================\n",
            "                  coef    std err          t      P>|t|      [0.025      0.975]\n",
            "-------------------------------------------------------------------------------\n",
            "const        -408.0718     43.749     -9.328      0.000    -505.551    -310.592\n",
            "temperatura     6.6080      0.547     12.074      0.000       5.389       7.827\n",
            "==============================================================================\n",
            "Omnibus:                        4.419   Durbin-Watson:                   1.281\n",
            "Prob(Omnibus):                  0.110   Jarque-Bera (JB):                1.317\n",
            "Skew:                          -0.252   Prob(JB):                        0.518\n",
            "Kurtosis:                       1.458   Cond. No.                     1.16e+03\n",
            "==============================================================================\n",
            "\n",
            "Warnings:\n",
            "[1] Standard Errors assume that the covariance matrix of the errors is correctly specified.\n",
            "[2] The condition number is large, 1.16e+03. This might indicate that there are\n",
            "strong multicollinearity or other numerical problems.\n"
          ],
          "name": "stdout"
        },
        {
          "output_type": "stream",
          "text": [
            "/usr/local/lib/python3.7/dist-packages/scipy/stats/stats.py:1535: UserWarning: kurtosistest only valid for n>=20 ... continuing anyway, n=12\n",
            "  \"anyway, n=%i\" % int(n))\n"
          ],
          "name": "stderr"
        }
      ]
    },
    {
      "cell_type": "markdown",
      "metadata": {
        "id": "0EzZwoHW_FlM"
      },
      "source": [
        "### Exercício 08"
      ]
    },
    {
      "cell_type": "markdown",
      "metadata": {
        "id": "IBNC4BCe_Hhb"
      },
      "source": [
        "Um banco pretende estudar a relação entre o volume de vendas de seguros efetuadas durante um dado período de tempo por seus vendedores, considerando seus anos de experiência e seu score num teste de inteligência. "
      ]
    },
    {
      "cell_type": "code",
      "metadata": {
        "id": "0xm-cBaAFXt8",
        "colab": {
          "base_uri": "https://localhost:8080/",
          "height": 204
        },
        "outputId": "f789676d-6c0e-4f01-e080-20540079f7c5"
      },
      "source": [
        "import pandas as pd\n",
        "\n",
        "df = pd.read_csv('https://raw.githubusercontent.com/brunamulinari/DataBasesPython/master/Exercicios/Exercicio%2010%20-%20RegMult.csv', delimiter=';',decimal=',')\n",
        "df.head()"
      ],
      "execution_count": null,
      "outputs": [
        {
          "output_type": "execute_result",
          "data": {
            "text/html": [
              "<div>\n",
              "<style scoped>\n",
              "    .dataframe tbody tr th:only-of-type {\n",
              "        vertical-align: middle;\n",
              "    }\n",
              "\n",
              "    .dataframe tbody tr th {\n",
              "        vertical-align: top;\n",
              "    }\n",
              "\n",
              "    .dataframe thead th {\n",
              "        text-align: right;\n",
              "    }\n",
              "</style>\n",
              "<table border=\"1\" class=\"dataframe\">\n",
              "  <thead>\n",
              "    <tr style=\"text-align: right;\">\n",
              "      <th></th>\n",
              "      <th>Vendedor</th>\n",
              "      <th>Vendas</th>\n",
              "      <th>Anos de experiencia</th>\n",
              "      <th>Score no Teste</th>\n",
              "      <th>interacao</th>\n",
              "    </tr>\n",
              "  </thead>\n",
              "  <tbody>\n",
              "    <tr>\n",
              "      <th>0</th>\n",
              "      <td>1</td>\n",
              "      <td>50</td>\n",
              "      <td>10</td>\n",
              "      <td>3</td>\n",
              "      <td>30</td>\n",
              "    </tr>\n",
              "    <tr>\n",
              "      <th>1</th>\n",
              "      <td>2</td>\n",
              "      <td>48</td>\n",
              "      <td>10</td>\n",
              "      <td>3</td>\n",
              "      <td>30</td>\n",
              "    </tr>\n",
              "    <tr>\n",
              "      <th>2</th>\n",
              "      <td>3</td>\n",
              "      <td>50</td>\n",
              "      <td>10</td>\n",
              "      <td>3</td>\n",
              "      <td>30</td>\n",
              "    </tr>\n",
              "    <tr>\n",
              "      <th>3</th>\n",
              "      <td>4</td>\n",
              "      <td>49</td>\n",
              "      <td>10</td>\n",
              "      <td>3</td>\n",
              "      <td>30</td>\n",
              "    </tr>\n",
              "    <tr>\n",
              "      <th>4</th>\n",
              "      <td>5</td>\n",
              "      <td>50</td>\n",
              "      <td>10</td>\n",
              "      <td>3</td>\n",
              "      <td>30</td>\n",
              "    </tr>\n",
              "  </tbody>\n",
              "</table>\n",
              "</div>"
            ],
            "text/plain": [
              "   Vendedor    Vendas   Anos de experiencia   Score no Teste  interacao\n",
              "0          1        50                    10               3         30\n",
              "1          2        48                    10               3         30\n",
              "2          3        50                    10               3         30\n",
              "3          4        49                    10               3         30\n",
              "4          5        50                    10               3         30"
            ]
          },
          "metadata": {
            "tags": []
          },
          "execution_count": 152
        }
      ]
    },
    {
      "cell_type": "code",
      "metadata": {
        "colab": {
          "base_uri": "https://localhost:8080/",
          "height": 204
        },
        "id": "iZfvIBEVP4hP",
        "outputId": "9625ab66-6841-43c2-b12b-c65316565104"
      },
      "source": [
        "# Como a coluna interações não importa:\n",
        "df = df.drop(columns='interacao')\n",
        "df.head()"
      ],
      "execution_count": null,
      "outputs": [
        {
          "output_type": "execute_result",
          "data": {
            "text/html": [
              "<div>\n",
              "<style scoped>\n",
              "    .dataframe tbody tr th:only-of-type {\n",
              "        vertical-align: middle;\n",
              "    }\n",
              "\n",
              "    .dataframe tbody tr th {\n",
              "        vertical-align: top;\n",
              "    }\n",
              "\n",
              "    .dataframe thead th {\n",
              "        text-align: right;\n",
              "    }\n",
              "</style>\n",
              "<table border=\"1\" class=\"dataframe\">\n",
              "  <thead>\n",
              "    <tr style=\"text-align: right;\">\n",
              "      <th></th>\n",
              "      <th>Vendedor</th>\n",
              "      <th>Vendas</th>\n",
              "      <th>Anos de experiencia</th>\n",
              "      <th>Score no Teste</th>\n",
              "    </tr>\n",
              "  </thead>\n",
              "  <tbody>\n",
              "    <tr>\n",
              "      <th>0</th>\n",
              "      <td>1</td>\n",
              "      <td>50</td>\n",
              "      <td>10</td>\n",
              "      <td>3</td>\n",
              "    </tr>\n",
              "    <tr>\n",
              "      <th>1</th>\n",
              "      <td>2</td>\n",
              "      <td>48</td>\n",
              "      <td>10</td>\n",
              "      <td>3</td>\n",
              "    </tr>\n",
              "    <tr>\n",
              "      <th>2</th>\n",
              "      <td>3</td>\n",
              "      <td>50</td>\n",
              "      <td>10</td>\n",
              "      <td>3</td>\n",
              "    </tr>\n",
              "    <tr>\n",
              "      <th>3</th>\n",
              "      <td>4</td>\n",
              "      <td>49</td>\n",
              "      <td>10</td>\n",
              "      <td>3</td>\n",
              "    </tr>\n",
              "    <tr>\n",
              "      <th>4</th>\n",
              "      <td>5</td>\n",
              "      <td>50</td>\n",
              "      <td>10</td>\n",
              "      <td>3</td>\n",
              "    </tr>\n",
              "  </tbody>\n",
              "</table>\n",
              "</div>"
            ],
            "text/plain": [
              "   Vendedor    Vendas   Anos de experiencia   Score no Teste\n",
              "0          1        50                    10               3\n",
              "1          2        48                    10               3\n",
              "2          3        50                    10               3\n",
              "3          4        49                    10               3\n",
              "4          5        50                    10               3"
            ]
          },
          "metadata": {
            "tags": []
          },
          "execution_count": 153
        }
      ]
    },
    {
      "cell_type": "markdown",
      "metadata": {
        "id": "ePOkzDWdP7r5"
      },
      "source": [
        "Correlacoes:"
      ]
    },
    {
      "cell_type": "code",
      "metadata": {
        "colab": {
          "base_uri": "https://localhost:8080/",
          "height": 173
        },
        "id": "tdOgUUvXP9HA",
        "outputId": "dbd0938d-b31d-42fb-824b-8c551f84523a"
      },
      "source": [
        "df.corr()"
      ],
      "execution_count": null,
      "outputs": [
        {
          "output_type": "execute_result",
          "data": {
            "text/html": [
              "<div>\n",
              "<style scoped>\n",
              "    .dataframe tbody tr th:only-of-type {\n",
              "        vertical-align: middle;\n",
              "    }\n",
              "\n",
              "    .dataframe tbody tr th {\n",
              "        vertical-align: top;\n",
              "    }\n",
              "\n",
              "    .dataframe thead th {\n",
              "        text-align: right;\n",
              "    }\n",
              "</style>\n",
              "<table border=\"1\" class=\"dataframe\">\n",
              "  <thead>\n",
              "    <tr style=\"text-align: right;\">\n",
              "      <th></th>\n",
              "      <th>Vendedor</th>\n",
              "      <th>Vendas</th>\n",
              "      <th>Anos de experiencia</th>\n",
              "      <th>Score no Teste</th>\n",
              "    </tr>\n",
              "  </thead>\n",
              "  <tbody>\n",
              "    <tr>\n",
              "      <th>Vendedor</th>\n",
              "      <td>1.000000</td>\n",
              "      <td>-0.930340</td>\n",
              "      <td>-0.520712</td>\n",
              "      <td>-0.779459</td>\n",
              "    </tr>\n",
              "    <tr>\n",
              "      <th>Vendas</th>\n",
              "      <td>-0.930340</td>\n",
              "      <td>1.000000</td>\n",
              "      <td>0.425895</td>\n",
              "      <td>0.862050</td>\n",
              "    </tr>\n",
              "    <tr>\n",
              "      <th>Anos de experiencia</th>\n",
              "      <td>-0.520712</td>\n",
              "      <td>0.425895</td>\n",
              "      <td>1.000000</td>\n",
              "      <td>0.135297</td>\n",
              "    </tr>\n",
              "    <tr>\n",
              "      <th>Score no Teste</th>\n",
              "      <td>-0.779459</td>\n",
              "      <td>0.862050</td>\n",
              "      <td>0.135297</td>\n",
              "      <td>1.000000</td>\n",
              "    </tr>\n",
              "  </tbody>\n",
              "</table>\n",
              "</div>"
            ],
            "text/plain": [
              "                      Vendedor    Vendas   Anos de experiencia   Score no Teste\n",
              "Vendedor               1.000000 -0.930340             -0.520712       -0.779459\n",
              " Vendas               -0.930340  1.000000              0.425895        0.862050\n",
              "Anos de experiencia   -0.520712  0.425895              1.000000        0.135297\n",
              "Score no Teste        -0.779459  0.862050              0.135297        1.000000"
            ]
          },
          "metadata": {
            "tags": []
          },
          "execution_count": 154
        }
      ]
    },
    {
      "cell_type": "markdown",
      "metadata": {
        "id": "129RNz0bQABl"
      },
      "source": [
        "Colinearidade? não"
      ]
    },
    {
      "cell_type": "code",
      "metadata": {
        "id": "lYZcR_qJQCBj"
      },
      "source": [
        "#variáveis \n",
        "x = df[['Anos de experiencia ','Score no Teste']]\n",
        "y = df[' Vendas ']"
      ],
      "execution_count": null,
      "outputs": []
    },
    {
      "cell_type": "markdown",
      "metadata": {
        "id": "f71caLK7QK_u"
      },
      "source": [
        "Treinando modelo:"
      ]
    },
    {
      "cell_type": "code",
      "metadata": {
        "id": "9l_QuptnQMl8"
      },
      "source": [
        "#Importação da biblioteca\n",
        "import statsmodels.api as sm\n",
        "\n",
        "# Adição da constante - para calcular b0\n",
        "x = sm.add_constant(x)\n",
        "\n",
        "# Treinamento do modelo\n",
        "modelo = sm.OLS(y,x).fit()"
      ],
      "execution_count": null,
      "outputs": []
    },
    {
      "cell_type": "markdown",
      "metadata": {
        "id": "J3JxMNwVQSEk"
      },
      "source": [
        "Coeficientes"
      ]
    },
    {
      "cell_type": "code",
      "metadata": {
        "colab": {
          "base_uri": "https://localhost:8080/"
        },
        "id": "w5dUlEThQTxI",
        "outputId": "c558974f-f771-4731-f18a-247a010538b4"
      },
      "source": [
        "print(modelo.params)"
      ],
      "execution_count": null,
      "outputs": [
        {
          "output_type": "stream",
          "text": [
            "const                  -10.156698\n",
            "Anos de experiencia      1.469986\n",
            "Score no Teste          13.482208\n",
            "dtype: float64\n"
          ],
          "name": "stdout"
        }
      ]
    },
    {
      "cell_type": "markdown",
      "metadata": {
        "id": "3u4hsog6QXns"
      },
      "source": [
        "Equação que descreve o modelo\n",
        "Y = -10.157 + 1.469 * X1 + 13.48 * X2 "
      ]
    },
    {
      "cell_type": "markdown",
      "metadata": {
        "id": "w3iSQjUEUU2L"
      },
      "source": [
        "Y previsto para modelo "
      ]
    },
    {
      "cell_type": "code",
      "metadata": {
        "colab": {
          "base_uri": "https://localhost:8080/"
        },
        "id": "VgAYmOLcUQP6",
        "outputId": "95cc1e07-6811-4846-a054-5d5b00b6c03b"
      },
      "source": [
        "y_pred = modelo.predict(x)\n",
        "print(y_pred)"
      ],
      "execution_count": null,
      "outputs": [
        {
          "output_type": "stream",
          "text": [
            "0     44.989788\n",
            "1     44.989788\n",
            "2     44.989788\n",
            "3     44.989788\n",
            "4     44.989788\n",
            "5     37.639858\n",
            "6     37.639858\n",
            "7     37.639858\n",
            "8     37.639858\n",
            "9     37.639858\n",
            "10    31.507580\n",
            "11    31.507580\n",
            "12    31.507580\n",
            "13    21.217677\n",
            "14    21.217677\n",
            "15    21.217677\n",
            "16    24.157650\n",
            "17    24.157650\n",
            "18    37.639858\n",
            "19    37.639858\n",
            "20    18.025372\n",
            "21    18.025372\n",
            "22    10.675441\n",
            "23    10.675441\n",
            "24    10.675441\n",
            "25    21.217677\n",
            "26    21.217677\n",
            "27    21.217677\n",
            "28    10.675441\n",
            "29    10.675441\n",
            "dtype: float64\n"
          ],
          "name": "stdout"
        }
      ]
    },
    {
      "cell_type": "markdown",
      "metadata": {
        "id": "l9XCV8F1UYmo"
      },
      "source": [
        "Residuo "
      ]
    },
    {
      "cell_type": "code",
      "metadata": {
        "colab": {
          "base_uri": "https://localhost:8080/"
        },
        "id": "vgqiyHCCUTln",
        "outputId": "8ea7e3f6-7082-4adb-921e-d3550b09727a"
      },
      "source": [
        "residuo = y - y_pred\n",
        "print(residuo)"
      ],
      "execution_count": null,
      "outputs": [
        {
          "output_type": "stream",
          "text": [
            "0      5.010212\n",
            "1      3.010212\n",
            "2      5.010212\n",
            "3      4.010212\n",
            "4      5.010212\n",
            "5      2.360142\n",
            "6      1.360142\n",
            "7      1.360142\n",
            "8      0.360142\n",
            "9      3.360142\n",
            "10    -1.507580\n",
            "11    -3.507580\n",
            "12    -4.507580\n",
            "13     3.782323\n",
            "14     4.782323\n",
            "15     0.782323\n",
            "16    -0.157650\n",
            "17    -3.157650\n",
            "18    -7.639858\n",
            "19   -13.639858\n",
            "20    -8.025372\n",
            "21    -7.025372\n",
            "22     4.324559\n",
            "23     5.324559\n",
            "24     6.324559\n",
            "25    -5.217677\n",
            "26    -3.217677\n",
            "27    -7.217677\n",
            "28     2.324559\n",
            "29     6.324559\n",
            "dtype: float64\n"
          ],
          "name": "stdout"
        }
      ]
    },
    {
      "cell_type": "markdown",
      "metadata": {
        "id": "emoZC7R-Ue6Y"
      },
      "source": [
        "Gráfico de dispersão do resíduo"
      ]
    },
    {
      "cell_type": "code",
      "metadata": {
        "colab": {
          "base_uri": "https://localhost:8080/",
          "height": 296
        },
        "id": "p8cLq0OhUThq",
        "outputId": "3ecbaade-76d7-4015-cf00-c33100a94004"
      },
      "source": [
        "# Resíduo para a variável score\n",
        "\n",
        "import seaborn as sns\n",
        "\n",
        "sns.scatterplot(x=df['Score no Teste'],y=residuo)"
      ],
      "execution_count": null,
      "outputs": [
        {
          "output_type": "execute_result",
          "data": {
            "text/plain": [
              "<matplotlib.axes._subplots.AxesSubplot at 0x7ff118dfcb50>"
            ]
          },
          "metadata": {
            "tags": []
          },
          "execution_count": 161
        },
        {
          "output_type": "display_data",
          "data": {
            "image/png": "[encoded data removed]",
            "text/plain": [
              "<Figure size 432x288 with 1 Axes>"
            ]
          },
          "metadata": {
            "tags": [],
            "needs_background": "light"
          }
        }
      ]
    },
    {
      "cell_type": "code",
      "metadata": {
        "colab": {
          "base_uri": "https://localhost:8080/",
          "height": 296
        },
        "id": "s5rHdskDUTd-",
        "outputId": "be2126c4-7442-411d-f4b6-4342f3879748"
      },
      "source": [
        "# Resíuduo para a variável anos de experiência\n",
        "\n",
        "import seaborn as sns\n",
        "\n",
        "sns.scatterplot(x=df['Anos de experiencia '],y=residuo)"
      ],
      "execution_count": null,
      "outputs": [
        {
          "output_type": "execute_result",
          "data": {
            "text/plain": [
              "<matplotlib.axes._subplots.AxesSubplot at 0x7ff118910490>"
            ]
          },
          "metadata": {
            "tags": []
          },
          "execution_count": 162
        },
        {
          "output_type": "display_data",
          "data": {
            "image/png": "[encoded data removed]",
            "text/plain": [
              "<Figure size 432x288 with 1 Axes>"
            ]
          },
          "metadata": {
            "tags": [],
            "needs_background": "light"
          }
        }
      ]
    },
    {
      "cell_type": "markdown",
      "metadata": {
        "id": "lR3CSzXNUqCr"
      },
      "source": [
        "valores de R² e R² ajustado"
      ]
    },
    {
      "cell_type": "code",
      "metadata": {
        "colab": {
          "base_uri": "https://localhost:8080/"
        },
        "id": "iEn0_SNwUTZ-",
        "outputId": "4a9137f0-0e38-48b7-beec-6b18a4f1ff0d"
      },
      "source": [
        "print(modelo.summary())"
      ],
      "execution_count": null,
      "outputs": [
        {
          "output_type": "stream",
          "text": [
            "                            OLS Regression Results                            \n",
            "==============================================================================\n",
            "Dep. Variable:                Vendas    R-squared:                       0.841\n",
            "Model:                            OLS   Adj. R-squared:                  0.829\n",
            "Method:                 Least Squares   F-statistic:                     71.17\n",
            "Date:                Fri, 13 Aug 2021   Prob (F-statistic):           1.72e-11\n",
            "Time:                        21:02:33   Log-Likelihood:                -91.519\n",
            "No. Observations:                  30   AIC:                             189.0\n",
            "Df Residuals:                      27   BIC:                             193.2\n",
            "Df Model:                           2                                         \n",
            "Covariance Type:            nonrobust                                         \n",
            "========================================================================================\n",
            "                           coef    std err          t      P>|t|      [0.025      0.975]\n",
            "----------------------------------------------------------------------------------------\n",
            "const                  -10.1567      3.473     -2.925      0.007     -17.282      -3.031\n",
            "Anos de experiencia      1.4700      0.362      4.062      0.000       0.727       2.213\n",
            "Score no Teste          13.4822      1.276     10.565      0.000      10.864      16.101\n",
            "==============================================================================\n",
            "Omnibus:                        3.654   Durbin-Watson:                   0.806\n",
            "Prob(Omnibus):                  0.161   Jarque-Bera (JB):                3.124\n",
            "Skew:                          -0.780   Prob(JB):                        0.210\n",
            "Kurtosis:                       2.749   Cond. No.                         26.4\n",
            "==============================================================================\n",
            "\n",
            "Warnings:\n",
            "[1] Standard Errors assume that the covariance matrix of the errors is correctly specified.\n"
          ],
          "name": "stdout"
        }
      ]
    },
    {
      "cell_type": "markdown",
      "metadata": {
        "id": "CLxHCgmn_J2z"
      },
      "source": [
        "### Exercício 09"
      ]
    },
    {
      "cell_type": "markdown",
      "metadata": {
        "id": "YuHpw6ek_TvV"
      },
      "source": [
        "Uma empresa pretende analisar os gastos de manutenção com sua frota de veículos de um  mesmo modelo considerando  a quilometragem inicial  do veículo e a diferença  dessa quilometragem desde a aquisição do automóvel."
      ]
    },
    {
      "cell_type": "code",
      "metadata": {
        "id": "F8ApGlHdExGY",
        "colab": {
          "base_uri": "https://localhost:8080/",
          "height": 204
        },
        "outputId": "04c40484-059f-4b27-c386-9ff465b8740e"
      },
      "source": [
        "import pandas as pd\n",
        "\n",
        "df = pd.read_csv('https://raw.githubusercontent.com/brunamulinari/DataBasesPython/master/Exercicios/Exercicio%209%20-%20RegMult.csv', delimiter=';',decimal=',')\n",
        "df.head()"
      ],
      "execution_count": null,
      "outputs": [
        {
          "output_type": "execute_result",
          "data": {
            "text/html": [
              "<div>\n",
              "<style scoped>\n",
              "    .dataframe tbody tr th:only-of-type {\n",
              "        vertical-align: middle;\n",
              "    }\n",
              "\n",
              "    .dataframe tbody tr th {\n",
              "        vertical-align: top;\n",
              "    }\n",
              "\n",
              "    .dataframe thead th {\n",
              "        text-align: right;\n",
              "    }\n",
              "</style>\n",
              "<table border=\"1\" class=\"dataframe\">\n",
              "  <thead>\n",
              "    <tr style=\"text-align: right;\">\n",
              "      <th></th>\n",
              "      <th>KM_Inicial</th>\n",
              "      <th>Km_Diferenca</th>\n",
              "      <th>Total</th>\n",
              "      <th>interacao</th>\n",
              "    </tr>\n",
              "  </thead>\n",
              "  <tbody>\n",
              "    <tr>\n",
              "      <th>0</th>\n",
              "      <td>0</td>\n",
              "      <td>20695</td>\n",
              "      <td>770.727774</td>\n",
              "      <td>0</td>\n",
              "    </tr>\n",
              "    <tr>\n",
              "      <th>1</th>\n",
              "      <td>0</td>\n",
              "      <td>29413</td>\n",
              "      <td>1467.109762</td>\n",
              "      <td>0</td>\n",
              "    </tr>\n",
              "    <tr>\n",
              "      <th>2</th>\n",
              "      <td>0</td>\n",
              "      <td>16159</td>\n",
              "      <td>876.164237</td>\n",
              "      <td>0</td>\n",
              "    </tr>\n",
              "    <tr>\n",
              "      <th>3</th>\n",
              "      <td>0</td>\n",
              "      <td>22778</td>\n",
              "      <td>1369.385191</td>\n",
              "      <td>0</td>\n",
              "    </tr>\n",
              "    <tr>\n",
              "      <th>4</th>\n",
              "      <td>0</td>\n",
              "      <td>11829</td>\n",
              "      <td>582.068977</td>\n",
              "      <td>0</td>\n",
              "    </tr>\n",
              "  </tbody>\n",
              "</table>\n",
              "</div>"
            ],
            "text/plain": [
              "   KM_Inicial  Km_Diferenca        Total  interacao\n",
              "0           0         20695   770.727774          0\n",
              "1           0         29413  1467.109762          0\n",
              "2           0         16159   876.164237          0\n",
              "3           0         22778  1369.385191          0\n",
              "4           0         11829   582.068977          0"
            ]
          },
          "metadata": {
            "tags": []
          },
          "execution_count": 164
        }
      ]
    },
    {
      "cell_type": "code",
      "metadata": {
        "colab": {
          "base_uri": "https://localhost:8080/",
          "height": 204
        },
        "id": "VNzMPJxLU5Kk",
        "outputId": "620e49ff-f529-46f3-aa95-85500e1b609e"
      },
      "source": [
        "# Como a coluna interações não importa:\n",
        "df = df.drop(columns='interacao')\n",
        "df.head()"
      ],
      "execution_count": null,
      "outputs": [
        {
          "output_type": "execute_result",
          "data": {
            "text/html": [
              "<div>\n",
              "<style scoped>\n",
              "    .dataframe tbody tr th:only-of-type {\n",
              "        vertical-align: middle;\n",
              "    }\n",
              "\n",
              "    .dataframe tbody tr th {\n",
              "        vertical-align: top;\n",
              "    }\n",
              "\n",
              "    .dataframe thead th {\n",
              "        text-align: right;\n",
              "    }\n",
              "</style>\n",
              "<table border=\"1\" class=\"dataframe\">\n",
              "  <thead>\n",
              "    <tr style=\"text-align: right;\">\n",
              "      <th></th>\n",
              "      <th>KM_Inicial</th>\n",
              "      <th>Km_Diferenca</th>\n",
              "      <th>Total</th>\n",
              "    </tr>\n",
              "  </thead>\n",
              "  <tbody>\n",
              "    <tr>\n",
              "      <th>0</th>\n",
              "      <td>0</td>\n",
              "      <td>20695</td>\n",
              "      <td>770.727774</td>\n",
              "    </tr>\n",
              "    <tr>\n",
              "      <th>1</th>\n",
              "      <td>0</td>\n",
              "      <td>29413</td>\n",
              "      <td>1467.109762</td>\n",
              "    </tr>\n",
              "    <tr>\n",
              "      <th>2</th>\n",
              "      <td>0</td>\n",
              "      <td>16159</td>\n",
              "      <td>876.164237</td>\n",
              "    </tr>\n",
              "    <tr>\n",
              "      <th>3</th>\n",
              "      <td>0</td>\n",
              "      <td>22778</td>\n",
              "      <td>1369.385191</td>\n",
              "    </tr>\n",
              "    <tr>\n",
              "      <th>4</th>\n",
              "      <td>0</td>\n",
              "      <td>11829</td>\n",
              "      <td>582.068977</td>\n",
              "    </tr>\n",
              "  </tbody>\n",
              "</table>\n",
              "</div>"
            ],
            "text/plain": [
              "   KM_Inicial  Km_Diferenca        Total\n",
              "0           0         20695   770.727774\n",
              "1           0         29413  1467.109762\n",
              "2           0         16159   876.164237\n",
              "3           0         22778  1369.385191\n",
              "4           0         11829   582.068977"
            ]
          },
          "metadata": {
            "tags": []
          },
          "execution_count": 165
        }
      ]
    },
    {
      "cell_type": "markdown",
      "metadata": {
        "id": "ggR5wTm5U8tb"
      },
      "source": [
        "Correlacoes "
      ]
    },
    {
      "cell_type": "code",
      "metadata": {
        "colab": {
          "base_uri": "https://localhost:8080/",
          "height": 142
        },
        "id": "Kg4PRSdAU93c",
        "outputId": "9b34b558-9dfc-483b-f055-652dbac1d8b3"
      },
      "source": [
        "df.corr()"
      ],
      "execution_count": null,
      "outputs": [
        {
          "output_type": "execute_result",
          "data": {
            "text/html": [
              "<div>\n",
              "<style scoped>\n",
              "    .dataframe tbody tr th:only-of-type {\n",
              "        vertical-align: middle;\n",
              "    }\n",
              "\n",
              "    .dataframe tbody tr th {\n",
              "        vertical-align: top;\n",
              "    }\n",
              "\n",
              "    .dataframe thead th {\n",
              "        text-align: right;\n",
              "    }\n",
              "</style>\n",
              "<table border=\"1\" class=\"dataframe\">\n",
              "  <thead>\n",
              "    <tr style=\"text-align: right;\">\n",
              "      <th></th>\n",
              "      <th>KM_Inicial</th>\n",
              "      <th>Km_Diferenca</th>\n",
              "      <th>Total</th>\n",
              "    </tr>\n",
              "  </thead>\n",
              "  <tbody>\n",
              "    <tr>\n",
              "      <th>KM_Inicial</th>\n",
              "      <td>1.000000</td>\n",
              "      <td>-0.123782</td>\n",
              "      <td>0.937350</td>\n",
              "    </tr>\n",
              "    <tr>\n",
              "      <th>Km_Diferenca</th>\n",
              "      <td>-0.123782</td>\n",
              "      <td>1.000000</td>\n",
              "      <td>0.187423</td>\n",
              "    </tr>\n",
              "    <tr>\n",
              "      <th>Total</th>\n",
              "      <td>0.937350</td>\n",
              "      <td>0.187423</td>\n",
              "      <td>1.000000</td>\n",
              "    </tr>\n",
              "  </tbody>\n",
              "</table>\n",
              "</div>"
            ],
            "text/plain": [
              "              KM_Inicial  Km_Diferenca     Total\n",
              "KM_Inicial      1.000000     -0.123782  0.937350\n",
              "Km_Diferenca   -0.123782      1.000000  0.187423\n",
              "Total           0.937350      0.187423  1.000000"
            ]
          },
          "metadata": {
            "tags": []
          },
          "execution_count": 166
        }
      ]
    },
    {
      "cell_type": "markdown",
      "metadata": {
        "id": "oB5MpumyVAdv"
      },
      "source": [
        "Colinearidade? não"
      ]
    },
    {
      "cell_type": "code",
      "metadata": {
        "id": "3ZowS_IpVCpM"
      },
      "source": [
        "#variáveis\n",
        "x = df[['KM_Inicial','Km_Diferenca']]\n",
        "y = df['Total']"
      ],
      "execution_count": null,
      "outputs": []
    },
    {
      "cell_type": "markdown",
      "metadata": {
        "id": "8b_MeeFfVMNr"
      },
      "source": [
        "Treinando modelo"
      ]
    },
    {
      "cell_type": "code",
      "metadata": {
        "id": "UhrlLDAPVNsQ"
      },
      "source": [
        "# Importação da biblioteca\n",
        "import statsmodels.api as sm\n",
        "\n",
        "# Adição da constante - para calcular b0\n",
        "x = sm.add_constant(x)\n",
        "\n",
        "# Treinamento do modelo\n",
        "modelo = sm.OLS(y,x).fit()"
      ],
      "execution_count": null,
      "outputs": []
    },
    {
      "cell_type": "markdown",
      "metadata": {
        "id": "sXpLTpLlVSL6"
      },
      "source": [
        "Coeficientes"
      ]
    },
    {
      "cell_type": "code",
      "metadata": {
        "colab": {
          "base_uri": "https://localhost:8080/"
        },
        "id": "oC-TD_K4VTgk",
        "outputId": "598e9064-b0a7-4a6c-9276-4dc037340b3a"
      },
      "source": [
        "print(modelo.params)"
      ],
      "execution_count": null,
      "outputs": [
        {
          "output_type": "stream",
          "text": [
            "const          -109.248884\n",
            "KM_Inicial        0.036261\n",
            "Km_Diferenca      0.056152\n",
            "dtype: float64\n"
          ],
          "name": "stdout"
        }
      ]
    },
    {
      "cell_type": "markdown",
      "metadata": {
        "id": "o3JgtGkFVXS9"
      },
      "source": [
        "Equação que descreve o comportamento dos dados Y = -109.248 + 0.036* X1 + 0.056*X2 "
      ]
    },
    {
      "cell_type": "markdown",
      "metadata": {
        "id": "FGa0_BNOVkm1"
      },
      "source": [
        "Y previsto pelo modelo"
      ]
    },
    {
      "cell_type": "code",
      "metadata": {
        "colab": {
          "base_uri": "https://localhost:8080/"
        },
        "id": "9XorDFU1Vndh",
        "outputId": "8ba82f52-7ace-43d1-c970-77f3e97dc9e4"
      },
      "source": [
        "y_pred = modelo.predict(x)\n",
        "print(y_pred)"
      ],
      "execution_count": null,
      "outputs": [
        {
          "output_type": "stream",
          "text": [
            "0     1052.808972\n",
            "1     1542.338829\n",
            "2      798.105206\n",
            "3     1169.772804\n",
            "4      554.968675\n",
            "         ...     \n",
            "75    3235.201089\n",
            "76    2877.459094\n",
            "77    3455.371606\n",
            "78    3333.241824\n",
            "79    3434.202444\n",
            "Length: 80, dtype: float64\n"
          ],
          "name": "stdout"
        }
      ]
    },
    {
      "cell_type": "markdown",
      "metadata": {
        "id": "CkNXDJBCVqPX"
      },
      "source": [
        "Residuos"
      ]
    },
    {
      "cell_type": "code",
      "metadata": {
        "colab": {
          "base_uri": "https://localhost:8080/"
        },
        "id": "KBj1JJHBVrs3",
        "outputId": "5dab1e26-4f7c-493c-fd5e-aa0e360ad8da"
      },
      "source": [
        "residuo = modelo.resid\n",
        "print(residuo)"
      ],
      "execution_count": null,
      "outputs": [
        {
          "output_type": "stream",
          "text": [
            "0    -282.081198\n",
            "1     -75.229067\n",
            "2      78.059030\n",
            "3     199.612387\n",
            "4      27.100302\n",
            "         ...    \n",
            "75     57.994780\n",
            "76     16.858820\n",
            "77   -142.723620\n",
            "78    -19.683821\n",
            "79     70.330787\n",
            "Length: 80, dtype: float64\n"
          ],
          "name": "stdout"
        }
      ]
    },
    {
      "cell_type": "markdown",
      "metadata": {
        "id": "t2bdI6BdVvXC"
      },
      "source": [
        "Gráfico de dispersão do resíduo"
      ]
    },
    {
      "cell_type": "code",
      "metadata": {
        "colab": {
          "base_uri": "https://localhost:8080/",
          "height": 297
        },
        "id": "8WAHwNFpVxFG",
        "outputId": "91f16b44-efce-4243-c41b-5b277211b054"
      },
      "source": [
        "# Resíduo para Km inicial\n",
        "import seaborn as sns\n",
        "\n",
        "sns.scatterplot(x=df['KM_Inicial'],y=residuo)"
      ],
      "execution_count": null,
      "outputs": [
        {
          "output_type": "execute_result",
          "data": {
            "text/plain": [
              "<matplotlib.axes._subplots.AxesSubplot at 0x7ff119258d10>"
            ]
          },
          "metadata": {
            "tags": []
          },
          "execution_count": 172
        },
        {
          "output_type": "display_data",
          "data": {
            "image/png": "[encoded data removed]",
            "text/plain": [
              "<Figure size 432x288 with 1 Axes>"
            ]
          },
          "metadata": {
            "tags": [],
            "needs_background": "light"
          }
        }
      ]
    },
    {
      "cell_type": "code",
      "metadata": {
        "colab": {
          "base_uri": "https://localhost:8080/",
          "height": 297
        },
        "id": "jaXkVVdiV1dE",
        "outputId": "bec9ba0d-f922-4def-ebf3-22b69c36fa02"
      },
      "source": [
        "# Resíduo para Km diferença\n",
        "import seaborn as sns\n",
        "\n",
        "sns.scatterplot(x=df['Km_Diferenca'],y=residuo)"
      ],
      "execution_count": null,
      "outputs": [
        {
          "output_type": "execute_result",
          "data": {
            "text/plain": [
              "<matplotlib.axes._subplots.AxesSubplot at 0x7ff1199b5390>"
            ]
          },
          "metadata": {
            "tags": []
          },
          "execution_count": 173
        },
        {
          "output_type": "display_data",
          "data": {
            "image/png": "[encoded data removed]",
            "text/plain": [
              "<Figure size 432x288 with 1 Axes>"
            ]
          },
          "metadata": {
            "tags": [],
            "needs_background": "light"
          }
        }
      ]
    },
    {
      "cell_type": "markdown",
      "metadata": {
        "id": "XaQNHz5RV53V"
      },
      "source": [
        "Valores de R² e R² ajustado"
      ]
    },
    {
      "cell_type": "code",
      "metadata": {
        "colab": {
          "base_uri": "https://localhost:8080/"
        },
        "id": "2D9UGyyaV7Uh",
        "outputId": "b504a75e-7cdc-4475-e97a-96f0e2c5947a"
      },
      "source": [
        "print(modelo.summary())"
      ],
      "execution_count": null,
      "outputs": [
        {
          "output_type": "stream",
          "text": [
            "                            OLS Regression Results                            \n",
            "==============================================================================\n",
            "Dep. Variable:                  Total   R-squared:                       0.972\n",
            "Model:                            OLS   Adj. R-squared:                  0.971\n",
            "Method:                 Least Squares   F-statistic:                     1343.\n",
            "Date:                Fri, 13 Aug 2021   Prob (F-statistic):           1.35e-60\n",
            "Time:                        21:07:58   Log-Likelihood:                -510.07\n",
            "No. Observations:                  80   AIC:                             1026.\n",
            "Df Residuals:                      77   BIC:                             1033.\n",
            "Df Model:                           2                                         \n",
            "Covariance Type:            nonrobust                                         \n",
            "================================================================================\n",
            "                   coef    std err          t      P>|t|      [0.025      0.975]\n",
            "--------------------------------------------------------------------------------\n",
            "const         -109.2489     65.257     -1.674      0.098    -239.191      20.694\n",
            "KM_Inicial       0.0363      0.001     50.889      0.000       0.035       0.038\n",
            "Km_Diferenca     0.0562      0.003     16.077      0.000       0.049       0.063\n",
            "==============================================================================\n",
            "Omnibus:                        0.545   Durbin-Watson:                   1.976\n",
            "Prob(Omnibus):                  0.762   Jarque-Bera (JB):                0.664\n",
            "Skew:                          -0.045   Prob(JB):                        0.718\n",
            "Kurtosis:                       2.563   Cond. No.                     1.77e+05\n",
            "==============================================================================\n",
            "\n",
            "Warnings:\n",
            "[1] Standard Errors assume that the covariance matrix of the errors is correctly specified.\n",
            "[2] The condition number is large, 1.77e+05. This might indicate that there are\n",
            "strong multicollinearity or other numerical problems.\n"
          ],
          "name": "stdout"
        }
      ]
    },
    {
      "cell_type": "markdown",
      "metadata": {
        "id": "dXzy86jh_L5a"
      },
      "source": [
        "### Exercício 10"
      ]
    },
    {
      "cell_type": "markdown",
      "metadata": {
        "id": "R4o79I4M_aDA"
      },
      "source": [
        "Uma empresa pretende analisar o tempo médio do processo  de atendimento observando  o turno de entrada dos funcionários e o tempo de experiência deles. Os turnos de trabalho analisados foram  manhã e tarde e o tempo de experiência é dado em dias."
      ]
    },
    {
      "cell_type": "code",
      "metadata": {
        "id": "LFYXTHtBBEE0",
        "colab": {
          "base_uri": "https://localhost:8080/",
          "height": 204
        },
        "outputId": "8c28ed9e-58e2-4565-ddcc-49983dd1cccf"
      },
      "source": [
        "import pandas as pd\n",
        "\n",
        "df = pd.read_csv('https://raw.githubusercontent.com/brunamulinari/DataBasesPython/master/Exercicios/Exercicio%208%20-%20RegMult.csv', delimiter=';',decimal=',')\n",
        "df.head()"
      ],
      "execution_count": null,
      "outputs": [
        {
          "output_type": "execute_result",
          "data": {
            "text/html": [
              "<div>\n",
              "<style scoped>\n",
              "    .dataframe tbody tr th:only-of-type {\n",
              "        vertical-align: middle;\n",
              "    }\n",
              "\n",
              "    .dataframe tbody tr th {\n",
              "        vertical-align: top;\n",
              "    }\n",
              "\n",
              "    .dataframe thead th {\n",
              "        text-align: right;\n",
              "    }\n",
              "</style>\n",
              "<table border=\"1\" class=\"dataframe\">\n",
              "  <thead>\n",
              "    <tr style=\"text-align: right;\">\n",
              "      <th></th>\n",
              "      <th>TMP</th>\n",
              "      <th>Experiencia</th>\n",
              "      <th>Turno</th>\n",
              "    </tr>\n",
              "  </thead>\n",
              "  <tbody>\n",
              "    <tr>\n",
              "      <th>0</th>\n",
              "      <td>180.330</td>\n",
              "      <td>99</td>\n",
              "      <td>T</td>\n",
              "    </tr>\n",
              "    <tr>\n",
              "      <th>1</th>\n",
              "      <td>143.629</td>\n",
              "      <td>99</td>\n",
              "      <td>M</td>\n",
              "    </tr>\n",
              "    <tr>\n",
              "      <th>2</th>\n",
              "      <td>164.092</td>\n",
              "      <td>99</td>\n",
              "      <td>M</td>\n",
              "    </tr>\n",
              "    <tr>\n",
              "      <th>3</th>\n",
              "      <td>174.523</td>\n",
              "      <td>64</td>\n",
              "      <td>T</td>\n",
              "    </tr>\n",
              "    <tr>\n",
              "      <th>4</th>\n",
              "      <td>137.104</td>\n",
              "      <td>298</td>\n",
              "      <td>M</td>\n",
              "    </tr>\n",
              "  </tbody>\n",
              "</table>\n",
              "</div>"
            ],
            "text/plain": [
              "       TMP  Experiencia Turno\n",
              "0  180.330           99     T\n",
              "1  143.629           99     M\n",
              "2  164.092           99     M\n",
              "3  174.523           64     T\n",
              "4  137.104          298     M"
            ]
          },
          "metadata": {
            "tags": []
          },
          "execution_count": 175
        }
      ]
    },
    {
      "cell_type": "markdown",
      "metadata": {
        "id": "RwLORVCWGX_m"
      },
      "source": [
        "* Necessário fazer dummy com a variável turno de trabalho:"
      ]
    },
    {
      "cell_type": "code",
      "metadata": {
        "id": "g1-r1j5FGcC3"
      },
      "source": [
        "turno_manha = {'M':1, 'T':0}\n",
        "\n",
        "df['turno_manha'] = df['Turno'].map(turno_manha) "
      ],
      "execution_count": null,
      "outputs": []
    },
    {
      "cell_type": "code",
      "metadata": {
        "id": "g3UsrA0HGylt"
      },
      "source": [
        "turno_tarde = {'M':0, 'T':1}\n",
        "\n",
        "df['turno_tarde'] = df['Turno'].map(turno_tarde) "
      ],
      "execution_count": null,
      "outputs": []
    },
    {
      "cell_type": "code",
      "metadata": {
        "id": "vvzPY3WxHEwg",
        "colab": {
          "base_uri": "https://localhost:8080/",
          "height": 204
        },
        "outputId": "f1a1d7a0-608b-4993-8080-5ca5a278ae98"
      },
      "source": [
        "df.head()"
      ],
      "execution_count": null,
      "outputs": [
        {
          "output_type": "execute_result",
          "data": {
            "text/html": [
              "<div>\n",
              "<style scoped>\n",
              "    .dataframe tbody tr th:only-of-type {\n",
              "        vertical-align: middle;\n",
              "    }\n",
              "\n",
              "    .dataframe tbody tr th {\n",
              "        vertical-align: top;\n",
              "    }\n",
              "\n",
              "    .dataframe thead th {\n",
              "        text-align: right;\n",
              "    }\n",
              "</style>\n",
              "<table border=\"1\" class=\"dataframe\">\n",
              "  <thead>\n",
              "    <tr style=\"text-align: right;\">\n",
              "      <th></th>\n",
              "      <th>TMP</th>\n",
              "      <th>Experiencia</th>\n",
              "      <th>Turno</th>\n",
              "      <th>turno_manha</th>\n",
              "      <th>turno_tarde</th>\n",
              "    </tr>\n",
              "  </thead>\n",
              "  <tbody>\n",
              "    <tr>\n",
              "      <th>0</th>\n",
              "      <td>180.330</td>\n",
              "      <td>99</td>\n",
              "      <td>T</td>\n",
              "      <td>0</td>\n",
              "      <td>1</td>\n",
              "    </tr>\n",
              "    <tr>\n",
              "      <th>1</th>\n",
              "      <td>143.629</td>\n",
              "      <td>99</td>\n",
              "      <td>M</td>\n",
              "      <td>1</td>\n",
              "      <td>0</td>\n",
              "    </tr>\n",
              "    <tr>\n",
              "      <th>2</th>\n",
              "      <td>164.092</td>\n",
              "      <td>99</td>\n",
              "      <td>M</td>\n",
              "      <td>1</td>\n",
              "      <td>0</td>\n",
              "    </tr>\n",
              "    <tr>\n",
              "      <th>3</th>\n",
              "      <td>174.523</td>\n",
              "      <td>64</td>\n",
              "      <td>T</td>\n",
              "      <td>0</td>\n",
              "      <td>1</td>\n",
              "    </tr>\n",
              "    <tr>\n",
              "      <th>4</th>\n",
              "      <td>137.104</td>\n",
              "      <td>298</td>\n",
              "      <td>M</td>\n",
              "      <td>1</td>\n",
              "      <td>0</td>\n",
              "    </tr>\n",
              "  </tbody>\n",
              "</table>\n",
              "</div>"
            ],
            "text/plain": [
              "       TMP  Experiencia Turno  turno_manha  turno_tarde\n",
              "0  180.330           99     T            0            1\n",
              "1  143.629           99     M            1            0\n",
              "2  164.092           99     M            1            0\n",
              "3  174.523           64     T            0            1\n",
              "4  137.104          298     M            1            0"
            ]
          },
          "metadata": {
            "tags": []
          },
          "execution_count": 178
        }
      ]
    },
    {
      "cell_type": "markdown",
      "metadata": {
        "id": "1tnvsMJdWhEv"
      },
      "source": [
        "Correlações"
      ]
    },
    {
      "cell_type": "code",
      "metadata": {
        "colab": {
          "base_uri": "https://localhost:8080/",
          "height": 173
        },
        "id": "kmd0F04nWimR",
        "outputId": "4e22f1f6-9406-400b-ec88-a40aa5b2f126"
      },
      "source": [
        "df.corr()"
      ],
      "execution_count": null,
      "outputs": [
        {
          "output_type": "execute_result",
          "data": {
            "text/html": [
              "<div>\n",
              "<style scoped>\n",
              "    .dataframe tbody tr th:only-of-type {\n",
              "        vertical-align: middle;\n",
              "    }\n",
              "\n",
              "    .dataframe tbody tr th {\n",
              "        vertical-align: top;\n",
              "    }\n",
              "\n",
              "    .dataframe thead th {\n",
              "        text-align: right;\n",
              "    }\n",
              "</style>\n",
              "<table border=\"1\" class=\"dataframe\">\n",
              "  <thead>\n",
              "    <tr style=\"text-align: right;\">\n",
              "      <th></th>\n",
              "      <th>TMP</th>\n",
              "      <th>Experiencia</th>\n",
              "      <th>turno_manha</th>\n",
              "      <th>turno_tarde</th>\n",
              "    </tr>\n",
              "  </thead>\n",
              "  <tbody>\n",
              "    <tr>\n",
              "      <th>TMP</th>\n",
              "      <td>1.000000</td>\n",
              "      <td>-0.199404</td>\n",
              "      <td>-0.222481</td>\n",
              "      <td>0.222481</td>\n",
              "    </tr>\n",
              "    <tr>\n",
              "      <th>Experiencia</th>\n",
              "      <td>-0.199404</td>\n",
              "      <td>1.000000</td>\n",
              "      <td>0.342667</td>\n",
              "      <td>-0.342667</td>\n",
              "    </tr>\n",
              "    <tr>\n",
              "      <th>turno_manha</th>\n",
              "      <td>-0.222481</td>\n",
              "      <td>0.342667</td>\n",
              "      <td>1.000000</td>\n",
              "      <td>-1.000000</td>\n",
              "    </tr>\n",
              "    <tr>\n",
              "      <th>turno_tarde</th>\n",
              "      <td>0.222481</td>\n",
              "      <td>-0.342667</td>\n",
              "      <td>-1.000000</td>\n",
              "      <td>1.000000</td>\n",
              "    </tr>\n",
              "  </tbody>\n",
              "</table>\n",
              "</div>"
            ],
            "text/plain": [
              "                  TMP  Experiencia  turno_manha  turno_tarde\n",
              "TMP          1.000000    -0.199404    -0.222481     0.222481\n",
              "Experiencia -0.199404     1.000000     0.342667    -0.342667\n",
              "turno_manha -0.222481     0.342667     1.000000    -1.000000\n",
              "turno_tarde  0.222481    -0.342667    -1.000000     1.000000"
            ]
          },
          "metadata": {
            "tags": []
          },
          "execution_count": 179
        }
      ]
    },
    {
      "cell_type": "markdown",
      "metadata": {
        "id": "BcM2kPoMWlT4"
      },
      "source": [
        "Colinearidade? não"
      ]
    },
    {
      "cell_type": "code",
      "metadata": {
        "id": "fzH-yPPzWoDy"
      },
      "source": [
        "#variaveis \n",
        "x = df[['Experiencia','turno_manha','turno_tarde']]\n",
        "y = df['TMP']"
      ],
      "execution_count": null,
      "outputs": []
    },
    {
      "cell_type": "markdown",
      "metadata": {
        "id": "Z3cpTDdFWsxz"
      },
      "source": [
        "Treinando modelo:"
      ]
    },
    {
      "cell_type": "code",
      "metadata": {
        "id": "hdGzPSXAWvby"
      },
      "source": [
        "# Importação da biblioteca\n",
        "import statsmodels.api as sm\n",
        "\n",
        "# Adição da constante - para calcular b0\n",
        "x = sm.add_constant(x)\n",
        "\n",
        "# Treinamento do modelo\n",
        "modelo = sm.OLS(y,x).fit()"
      ],
      "execution_count": null,
      "outputs": []
    },
    {
      "cell_type": "markdown",
      "metadata": {
        "id": "qACmx4XtWyig"
      },
      "source": [
        "Coeficientes"
      ]
    },
    {
      "cell_type": "code",
      "metadata": {
        "colab": {
          "base_uri": "https://localhost:8080/"
        },
        "id": "OFUmOLxgWz4k",
        "outputId": "73cdd779-8f87-4b2f-9d61-b4f884c28e84"
      },
      "source": [
        "print(modelo.params)"
      ],
      "execution_count": null,
      "outputs": [
        {
          "output_type": "stream",
          "text": [
            "const          123.282462\n",
            "Experiencia     -0.062695\n",
            "turno_manha     56.088891\n",
            "turno_tarde     67.193572\n",
            "dtype: float64\n"
          ],
          "name": "stdout"
        }
      ]
    },
    {
      "cell_type": "markdown",
      "metadata": {
        "id": "85eAURB5W3Jk"
      },
      "source": [
        "Equação que descreve o comportamento dos dados\n",
        "\n",
        "Y = 123.284 - 0.063* X1 + 56.089* X2 + 67.193* X3"
      ]
    },
    {
      "cell_type": "markdown",
      "metadata": {
        "id": "3-uyMHv5W8-8"
      },
      "source": [
        "Y previsto pro modelo"
      ]
    },
    {
      "cell_type": "code",
      "metadata": {
        "colab": {
          "base_uri": "https://localhost:8080/"
        },
        "id": "Y6SjfTMeW_MA",
        "outputId": "660fcb84-5f6b-4a73-975b-36c270080d62"
      },
      "source": [
        "y_pred = modelo.predict(x)\n",
        "print(y_pred)"
      ],
      "execution_count": null,
      "outputs": [
        {
          "output_type": "stream",
          "text": [
            "0      184.269241\n",
            "1      173.164560\n",
            "2      173.164560\n",
            "3      186.463562\n",
            "4      160.688279\n",
            "          ...    \n",
            "199    180.695633\n",
            "200    184.269241\n",
            "201    163.823023\n",
            "202    166.644293\n",
            "203    184.269241\n",
            "Length: 204, dtype: float64\n"
          ],
          "name": "stdout"
        }
      ]
    },
    {
      "cell_type": "markdown",
      "metadata": {
        "id": "k8gUSDdUXC0Z"
      },
      "source": [
        "Gráfico de dispersão do resíduo"
      ]
    },
    {
      "cell_type": "code",
      "metadata": {
        "colab": {
          "base_uri": "https://localhost:8080/",
          "height": 296
        },
        "id": "jP2NEkpuXGEj",
        "outputId": "e5009acf-f8ac-49f5-d064-dac71803768d"
      },
      "source": [
        "import seaborn as sns\n",
        "\n",
        "sns.scatterplot(x=df['Experiencia'],y=residuo)"
      ],
      "execution_count": null,
      "outputs": [
        {
          "output_type": "execute_result",
          "data": {
            "text/plain": [
              "<matplotlib.axes._subplots.AxesSubplot at 0x7ff11931f9d0>"
            ]
          },
          "metadata": {
            "tags": []
          },
          "execution_count": 184
        },
        {
          "output_type": "display_data",
          "data": {
            "image/png": "[encoded data removed]",
            "text/plain": [
              "<Figure size 432x288 with 1 Axes>"
            ]
          },
          "metadata": {
            "tags": [],
            "needs_background": "light"
          }
        }
      ]
    },
    {
      "cell_type": "code",
      "metadata": {
        "colab": {
          "base_uri": "https://localhost:8080/",
          "height": 297
        },
        "id": "GpUHalRHXKFf",
        "outputId": "b6245367-5158-4652-b524-e963b92b8f9d"
      },
      "source": [
        "import seaborn as sns\n",
        "\n",
        "sns.scatterplot(x=df['turno_manha'],y=residuo)"
      ],
      "execution_count": null,
      "outputs": [
        {
          "output_type": "execute_result",
          "data": {
            "text/plain": [
              "<matplotlib.axes._subplots.AxesSubplot at 0x7ff1187d5f90>"
            ]
          },
          "metadata": {
            "tags": []
          },
          "execution_count": 185
        },
        {
          "output_type": "display_data",
          "data": {
            "image/png": "[encoded data removed]",
            "text/plain": [
              "<Figure size 432x288 with 1 Axes>"
            ]
          },
          "metadata": {
            "tags": [],
            "needs_background": "light"
          }
        }
      ]
    },
    {
      "cell_type": "code",
      "metadata": {
        "colab": {
          "base_uri": "https://localhost:8080/",
          "height": 297
        },
        "id": "jYCwP9MCXMxL",
        "outputId": "0b31558c-2a4b-4358-dcc7-f04a04192bfd"
      },
      "source": [
        "sns.scatterplot(x=df['turno_tarde'],y=residuo)"
      ],
      "execution_count": null,
      "outputs": [
        {
          "output_type": "execute_result",
          "data": {
            "text/plain": [
              "<matplotlib.axes._subplots.AxesSubplot at 0x7ff10fefa0d0>"
            ]
          },
          "metadata": {
            "tags": []
          },
          "execution_count": 186
        },
        {
          "output_type": "display_data",
          "data": {
            "image/png": "[encoded data removed]",
            "text/plain": [
              "<Figure size 432x288 with 1 Axes>"
            ]
          },
          "metadata": {
            "tags": [],
            "needs_background": "light"
          }
        }
      ]
    },
    {
      "cell_type": "markdown",
      "metadata": {
        "id": "_gYgm5YHXPW1"
      },
      "source": [
        "Valores de R² e R² ajustado"
      ]
    },
    {
      "cell_type": "code",
      "metadata": {
        "colab": {
          "base_uri": "https://localhost:8080/"
        },
        "id": "AdB0XEA9XRDk",
        "outputId": "5d8e4865-b0d7-4306-b52b-b979dc467c3a"
      },
      "source": [
        "print(modelo.summary())"
      ],
      "execution_count": null,
      "outputs": [
        {
          "output_type": "stream",
          "text": [
            "                            OLS Regression Results                            \n",
            "==============================================================================\n",
            "Dep. Variable:                    TMP   R-squared:                       0.067\n",
            "Model:                            OLS   Adj. R-squared:                  0.057\n",
            "Method:                 Least Squares   F-statistic:                     7.181\n",
            "Date:                Fri, 13 Aug 2021   Prob (F-statistic):           0.000972\n",
            "Time:                        21:13:49   Log-Likelihood:                -981.23\n",
            "No. Observations:                 204   AIC:                             1968.\n",
            "Df Residuals:                     201   BIC:                             1978.\n",
            "Df Model:                           2                                         \n",
            "Covariance Type:            nonrobust                                         \n",
            "===============================================================================\n",
            "                  coef    std err          t      P>|t|      [0.025      0.975]\n",
            "-------------------------------------------------------------------------------\n",
            "const         123.2825      3.416     36.088      0.000     116.546     130.019\n",
            "Experiencia    -0.0627      0.033     -1.924      0.056      -0.127       0.002\n",
            "turno_manha    56.0889      3.144     17.842      0.000      49.890      62.288\n",
            "turno_tarde    67.1936      2.566     26.184      0.000      62.133      72.254\n",
            "==============================================================================\n",
            "Omnibus:                       58.896   Durbin-Watson:                   1.899\n",
            "Prob(Omnibus):                  0.000   Jarque-Bera (JB):              233.701\n",
            "Skew:                           1.080   Prob(JB):                     1.79e-51\n",
            "Kurtosis:                       7.778   Cond. No.                     4.59e+17\n",
            "==============================================================================\n",
            "\n",
            "Warnings:\n",
            "[1] Standard Errors assume that the covariance matrix of the errors is correctly specified.\n",
            "[2] The smallest eigenvalue is 2.6e-29. This might indicate that there are\n",
            "strong multicollinearity problems or that the design matrix is singular.\n"
          ],
          "name": "stdout"
        }
      ]
    },
    {
      "cell_type": "markdown",
      "metadata": {
        "id": "lG9dxBuuXUJE"
      },
      "source": [
        "Bruna, oii \n",
        "\n",
        "Queria dizer que adorei a ideia de bastante exercicios. \n",
        "Primeiramente precisei voltar la nos slides e nos primeiros exercicios e fazer uma lista do que precisa pra fazer as regressões, e ai eu  a partir do segundo exercicio eu consegui entender a logica já de como fazer. \n",
        "\n",
        "Onde cada coisa estava. \n",
        "Fui observandos os seus, mas entendia onde cada coisa estava. \n",
        "\n",
        "Muito obrigada pela sua atenção em preparar o material bem detalhado. \n",
        "\n",
        "Como eu não vejo isso todo dia, e é totalmente novo, confesso que se eu ficar uma semana sem mexer eu ja esqueci tudo das aulas. Então o conteudo escrito é uma super mão na roda. O video está lá, mas ficar 4 horas procurando uma duvida nem sempre da certo. \n",
        "\n",
        "Eu fiquei na duvida no n2 só,deixei um comentário pra ser se está certo. \n",
        "\n",
        "Obrigada mesmo, até o proximo modulo. "
      ]
    },
    {
      "cell_type": "markdown",
      "metadata": {
        "id": "PV1UGQLpIY-A"
      },
      "source": [
        "## Extra"
      ]
    },
    {
      "cell_type": "markdown",
      "metadata": {
        "id": "5o4x9Uh2IdPK"
      },
      "source": [
        "Material sobre regressão linear do [MIT](http://www.mit.edu/~6.s085/notes/lecture3.pdf)."
      ]
    },
    {
      "cell_type": "markdown",
      "metadata": {
        "id": "ucAs1wVoeSKp"
      },
      "source": [
        "Outras métricas que podemos utilizar para avaliarmos nossos modelos ([Texto](https://medium.com/turing-talks/como-avaliar-seu-modelo-de-regress%C3%A3o-c2c8d73dab96))."
      ]
    }
  ]
}